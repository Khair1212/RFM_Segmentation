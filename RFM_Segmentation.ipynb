{
  "nbformat": 4,
  "nbformat_minor": 0,
  "metadata": {
    "colab": {
      "name": "RFM_Segmentation.ipynb",
      "provenance": [],
      "mount_file_id": "185yZTDb8Wls4LukhbHauEjWOJHUCbfjy",
      "authorship_tag": "ABX9TyODLLfrrbf/PdeNv7WKvbPu",
      "include_colab_link": true
    },
    "kernelspec": {
      "name": "python3",
      "display_name": "Python 3"
    }
  },
  "cells": [
    {
      "cell_type": "markdown",
      "metadata": {
        "id": "view-in-github",
        "colab_type": "text"
      },
      "source": [
        "<a href=\"https://colab.research.google.com/github/Khair1212/RFM_Segmentation/blob/main/RFM_Segmentation.ipynb\" target=\"_parent\"><img src=\"https://colab.research.google.com/assets/colab-badge.svg\" alt=\"Open In Colab\"/></a>"
      ]
    },
    {
      "cell_type": "code",
      "metadata": {
        "id": "4eGkIe7bNJmH"
      },
      "source": [
        "import pandas as pd\r\n",
        "import numpy as np\r\n",
        "import numpy as np\r\n",
        "from sklearn import preprocessing"
      ],
      "execution_count": null,
      "outputs": []
    },
    {
      "cell_type": "code",
      "metadata": {
        "id": "u3bEPiFhNi14"
      },
      "source": [
        "retail_df = pd.read_excel(\"/content/drive/MyDrive/Dataset/Retail_Data/Online Retail.xlsx\")"
      ],
      "execution_count": null,
      "outputs": []
    },
    {
      "cell_type": "code",
      "metadata": {
        "colab": {
          "base_uri": "https://localhost:8080/",
          "height": 197
        },
        "id": "55K-2FMANi4Y",
        "outputId": "2a151e67-3763-4479-8f8e-7d747d50b0d8"
      },
      "source": [
        "retail_df.head()"
      ],
      "execution_count": null,
      "outputs": [
        {
          "output_type": "execute_result",
          "data": {
            "text/html": [
              "<div>\n",
              "<style scoped>\n",
              "    .dataframe tbody tr th:only-of-type {\n",
              "        vertical-align: middle;\n",
              "    }\n",
              "\n",
              "    .dataframe tbody tr th {\n",
              "        vertical-align: top;\n",
              "    }\n",
              "\n",
              "    .dataframe thead th {\n",
              "        text-align: right;\n",
              "    }\n",
              "</style>\n",
              "<table border=\"1\" class=\"dataframe\">\n",
              "  <thead>\n",
              "    <tr style=\"text-align: right;\">\n",
              "      <th></th>\n",
              "      <th>InvoiceNo</th>\n",
              "      <th>StockCode</th>\n",
              "      <th>Description</th>\n",
              "      <th>Quantity</th>\n",
              "      <th>InvoiceDate</th>\n",
              "      <th>UnitPrice</th>\n",
              "      <th>CustomerID</th>\n",
              "      <th>Country</th>\n",
              "    </tr>\n",
              "  </thead>\n",
              "  <tbody>\n",
              "    <tr>\n",
              "      <th>0</th>\n",
              "      <td>536365</td>\n",
              "      <td>85123A</td>\n",
              "      <td>WHITE HANGING HEART T-LIGHT HOLDER</td>\n",
              "      <td>6</td>\n",
              "      <td>2010-12-01 08:26:00</td>\n",
              "      <td>2.55</td>\n",
              "      <td>17850.0</td>\n",
              "      <td>United Kingdom</td>\n",
              "    </tr>\n",
              "    <tr>\n",
              "      <th>1</th>\n",
              "      <td>536365</td>\n",
              "      <td>71053</td>\n",
              "      <td>WHITE METAL LANTERN</td>\n",
              "      <td>6</td>\n",
              "      <td>2010-12-01 08:26:00</td>\n",
              "      <td>3.39</td>\n",
              "      <td>17850.0</td>\n",
              "      <td>United Kingdom</td>\n",
              "    </tr>\n",
              "    <tr>\n",
              "      <th>2</th>\n",
              "      <td>536365</td>\n",
              "      <td>84406B</td>\n",
              "      <td>CREAM CUPID HEARTS COAT HANGER</td>\n",
              "      <td>8</td>\n",
              "      <td>2010-12-01 08:26:00</td>\n",
              "      <td>2.75</td>\n",
              "      <td>17850.0</td>\n",
              "      <td>United Kingdom</td>\n",
              "    </tr>\n",
              "    <tr>\n",
              "      <th>3</th>\n",
              "      <td>536365</td>\n",
              "      <td>84029G</td>\n",
              "      <td>KNITTED UNION FLAG HOT WATER BOTTLE</td>\n",
              "      <td>6</td>\n",
              "      <td>2010-12-01 08:26:00</td>\n",
              "      <td>3.39</td>\n",
              "      <td>17850.0</td>\n",
              "      <td>United Kingdom</td>\n",
              "    </tr>\n",
              "    <tr>\n",
              "      <th>4</th>\n",
              "      <td>536365</td>\n",
              "      <td>84029E</td>\n",
              "      <td>RED WOOLLY HOTTIE WHITE HEART.</td>\n",
              "      <td>6</td>\n",
              "      <td>2010-12-01 08:26:00</td>\n",
              "      <td>3.39</td>\n",
              "      <td>17850.0</td>\n",
              "      <td>United Kingdom</td>\n",
              "    </tr>\n",
              "  </tbody>\n",
              "</table>\n",
              "</div>"
            ],
            "text/plain": [
              "  InvoiceNo StockCode  ... CustomerID         Country\n",
              "0    536365    85123A  ...    17850.0  United Kingdom\n",
              "1    536365     71053  ...    17850.0  United Kingdom\n",
              "2    536365    84406B  ...    17850.0  United Kingdom\n",
              "3    536365    84029G  ...    17850.0  United Kingdom\n",
              "4    536365    84029E  ...    17850.0  United Kingdom\n",
              "\n",
              "[5 rows x 8 columns]"
            ]
          },
          "metadata": {
            "tags": []
          },
          "execution_count": 4
        }
      ]
    },
    {
      "cell_type": "code",
      "metadata": {
        "id": "51w13MsLNi7H"
      },
      "source": [
        ""
      ],
      "execution_count": null,
      "outputs": []
    },
    {
      "cell_type": "code",
      "metadata": {
        "id": "eAVpa9_iNi-G"
      },
      "source": [
        "retail_df['date'] = pd.to_datetime(retail_df['InvoiceDate'])"
      ],
      "execution_count": null,
      "outputs": []
    },
    {
      "cell_type": "code",
      "metadata": {
        "colab": {
          "base_uri": "https://localhost:8080/"
        },
        "id": "qU6xoGyGNjBG",
        "outputId": "df44c6ba-50a6-453f-c5c4-581077cd8d1d"
      },
      "source": [
        "def unique_counts(retail_df):\r\n",
        "  for i in retail_df.columns:\r\n",
        "    count = retail_df[i].nunique()\r\n",
        "    print(i,\" \",count)\r\n",
        "unique_counts(retail_df)"
      ],
      "execution_count": null,
      "outputs": [
        {
          "output_type": "stream",
          "text": [
            "InvoiceNo   25900\n",
            "StockCode   4070\n",
            "Description   4223\n",
            "Quantity   722\n",
            "InvoiceDate   23260\n",
            "UnitPrice   1630\n",
            "CustomerID   4372\n",
            "Country   38\n",
            "date   23260\n"
          ],
          "name": "stdout"
        }
      ]
    },
    {
      "cell_type": "markdown",
      "metadata": {
        "id": "06FmLA7PRTqA"
      },
      "source": [
        "### Calculate total price"
      ]
    },
    {
      "cell_type": "code",
      "metadata": {
        "colab": {
          "base_uri": "https://localhost:8080/",
          "height": 346
        },
        "id": "bY-gy7qXNjDw",
        "outputId": "1daa53e3-79e6-414d-9c8d-1a0a54e31248"
      },
      "source": [
        "\r\n",
        "\r\n",
        "retail_df['Total_Price']=retail_df['Quantity']*retail_df['UnitPrice']\r\n",
        "retail_df.head(10)"
      ],
      "execution_count": null,
      "outputs": [
        {
          "output_type": "execute_result",
          "data": {
            "text/html": [
              "<div>\n",
              "<style scoped>\n",
              "    .dataframe tbody tr th:only-of-type {\n",
              "        vertical-align: middle;\n",
              "    }\n",
              "\n",
              "    .dataframe tbody tr th {\n",
              "        vertical-align: top;\n",
              "    }\n",
              "\n",
              "    .dataframe thead th {\n",
              "        text-align: right;\n",
              "    }\n",
              "</style>\n",
              "<table border=\"1\" class=\"dataframe\">\n",
              "  <thead>\n",
              "    <tr style=\"text-align: right;\">\n",
              "      <th></th>\n",
              "      <th>InvoiceNo</th>\n",
              "      <th>StockCode</th>\n",
              "      <th>Description</th>\n",
              "      <th>Quantity</th>\n",
              "      <th>InvoiceDate</th>\n",
              "      <th>UnitPrice</th>\n",
              "      <th>CustomerID</th>\n",
              "      <th>Country</th>\n",
              "      <th>date</th>\n",
              "      <th>Total_Price</th>\n",
              "    </tr>\n",
              "  </thead>\n",
              "  <tbody>\n",
              "    <tr>\n",
              "      <th>0</th>\n",
              "      <td>536365</td>\n",
              "      <td>85123A</td>\n",
              "      <td>WHITE HANGING HEART T-LIGHT HOLDER</td>\n",
              "      <td>6</td>\n",
              "      <td>2010-12-01 08:26:00</td>\n",
              "      <td>2.55</td>\n",
              "      <td>17850.0</td>\n",
              "      <td>United Kingdom</td>\n",
              "      <td>2010-12-01 08:26:00</td>\n",
              "      <td>15.30</td>\n",
              "    </tr>\n",
              "    <tr>\n",
              "      <th>1</th>\n",
              "      <td>536365</td>\n",
              "      <td>71053</td>\n",
              "      <td>WHITE METAL LANTERN</td>\n",
              "      <td>6</td>\n",
              "      <td>2010-12-01 08:26:00</td>\n",
              "      <td>3.39</td>\n",
              "      <td>17850.0</td>\n",
              "      <td>United Kingdom</td>\n",
              "      <td>2010-12-01 08:26:00</td>\n",
              "      <td>20.34</td>\n",
              "    </tr>\n",
              "    <tr>\n",
              "      <th>2</th>\n",
              "      <td>536365</td>\n",
              "      <td>84406B</td>\n",
              "      <td>CREAM CUPID HEARTS COAT HANGER</td>\n",
              "      <td>8</td>\n",
              "      <td>2010-12-01 08:26:00</td>\n",
              "      <td>2.75</td>\n",
              "      <td>17850.0</td>\n",
              "      <td>United Kingdom</td>\n",
              "      <td>2010-12-01 08:26:00</td>\n",
              "      <td>22.00</td>\n",
              "    </tr>\n",
              "    <tr>\n",
              "      <th>3</th>\n",
              "      <td>536365</td>\n",
              "      <td>84029G</td>\n",
              "      <td>KNITTED UNION FLAG HOT WATER BOTTLE</td>\n",
              "      <td>6</td>\n",
              "      <td>2010-12-01 08:26:00</td>\n",
              "      <td>3.39</td>\n",
              "      <td>17850.0</td>\n",
              "      <td>United Kingdom</td>\n",
              "      <td>2010-12-01 08:26:00</td>\n",
              "      <td>20.34</td>\n",
              "    </tr>\n",
              "    <tr>\n",
              "      <th>4</th>\n",
              "      <td>536365</td>\n",
              "      <td>84029E</td>\n",
              "      <td>RED WOOLLY HOTTIE WHITE HEART.</td>\n",
              "      <td>6</td>\n",
              "      <td>2010-12-01 08:26:00</td>\n",
              "      <td>3.39</td>\n",
              "      <td>17850.0</td>\n",
              "      <td>United Kingdom</td>\n",
              "      <td>2010-12-01 08:26:00</td>\n",
              "      <td>20.34</td>\n",
              "    </tr>\n",
              "    <tr>\n",
              "      <th>5</th>\n",
              "      <td>536365</td>\n",
              "      <td>22752</td>\n",
              "      <td>SET 7 BABUSHKA NESTING BOXES</td>\n",
              "      <td>2</td>\n",
              "      <td>2010-12-01 08:26:00</td>\n",
              "      <td>7.65</td>\n",
              "      <td>17850.0</td>\n",
              "      <td>United Kingdom</td>\n",
              "      <td>2010-12-01 08:26:00</td>\n",
              "      <td>15.30</td>\n",
              "    </tr>\n",
              "    <tr>\n",
              "      <th>6</th>\n",
              "      <td>536365</td>\n",
              "      <td>21730</td>\n",
              "      <td>GLASS STAR FROSTED T-LIGHT HOLDER</td>\n",
              "      <td>6</td>\n",
              "      <td>2010-12-01 08:26:00</td>\n",
              "      <td>4.25</td>\n",
              "      <td>17850.0</td>\n",
              "      <td>United Kingdom</td>\n",
              "      <td>2010-12-01 08:26:00</td>\n",
              "      <td>25.50</td>\n",
              "    </tr>\n",
              "    <tr>\n",
              "      <th>7</th>\n",
              "      <td>536366</td>\n",
              "      <td>22633</td>\n",
              "      <td>HAND WARMER UNION JACK</td>\n",
              "      <td>6</td>\n",
              "      <td>2010-12-01 08:28:00</td>\n",
              "      <td>1.85</td>\n",
              "      <td>17850.0</td>\n",
              "      <td>United Kingdom</td>\n",
              "      <td>2010-12-01 08:28:00</td>\n",
              "      <td>11.10</td>\n",
              "    </tr>\n",
              "    <tr>\n",
              "      <th>8</th>\n",
              "      <td>536366</td>\n",
              "      <td>22632</td>\n",
              "      <td>HAND WARMER RED POLKA DOT</td>\n",
              "      <td>6</td>\n",
              "      <td>2010-12-01 08:28:00</td>\n",
              "      <td>1.85</td>\n",
              "      <td>17850.0</td>\n",
              "      <td>United Kingdom</td>\n",
              "      <td>2010-12-01 08:28:00</td>\n",
              "      <td>11.10</td>\n",
              "    </tr>\n",
              "    <tr>\n",
              "      <th>9</th>\n",
              "      <td>536367</td>\n",
              "      <td>84879</td>\n",
              "      <td>ASSORTED COLOUR BIRD ORNAMENT</td>\n",
              "      <td>32</td>\n",
              "      <td>2010-12-01 08:34:00</td>\n",
              "      <td>1.69</td>\n",
              "      <td>13047.0</td>\n",
              "      <td>United Kingdom</td>\n",
              "      <td>2010-12-01 08:34:00</td>\n",
              "      <td>54.08</td>\n",
              "    </tr>\n",
              "  </tbody>\n",
              "</table>\n",
              "</div>"
            ],
            "text/plain": [
              "  InvoiceNo StockCode  ...                date  Total_Price\n",
              "0    536365    85123A  ... 2010-12-01 08:26:00        15.30\n",
              "1    536365     71053  ... 2010-12-01 08:26:00        20.34\n",
              "2    536365    84406B  ... 2010-12-01 08:26:00        22.00\n",
              "3    536365    84029G  ... 2010-12-01 08:26:00        20.34\n",
              "4    536365    84029E  ... 2010-12-01 08:26:00        20.34\n",
              "5    536365     22752  ... 2010-12-01 08:26:00        15.30\n",
              "6    536365     21730  ... 2010-12-01 08:26:00        25.50\n",
              "7    536366     22633  ... 2010-12-01 08:28:00        11.10\n",
              "8    536366     22632  ... 2010-12-01 08:28:00        11.10\n",
              "9    536367     84879  ... 2010-12-01 08:34:00        54.08\n",
              "\n",
              "[10 rows x 10 columns]"
            ]
          },
          "metadata": {
            "tags": []
          },
          "execution_count": 22
        }
      ]
    },
    {
      "cell_type": "markdown",
      "metadata": {
        "id": "AU9OOSalRYmI"
      },
      "source": [
        "### Only consider rows without NaN values and store the data in dataset "
      ]
    },
    {
      "cell_type": "code",
      "metadata": {
        "id": "EmCy0HVWNjH3"
      },
      "source": [
        "\r\n",
        "Online_retail_df = retail_df[np.isfinite(retail_df['CustomerID'])]"
      ],
      "execution_count": null,
      "outputs": []
    },
    {
      "cell_type": "markdown",
      "metadata": {
        "id": "RPRhUqXsR0pB"
      },
      "source": [
        "# check the unique values"
      ]
    },
    {
      "cell_type": "code",
      "metadata": {
        "id": "-jpTST4BNjKf"
      },
      "source": [
        "Online_retail_df = retail_df[np.isfinite(retail_df['CustomerID'])]"
      ],
      "execution_count": null,
      "outputs": []
    },
    {
      "cell_type": "code",
      "metadata": {
        "id": "AUnFRRQHNjNE"
      },
      "source": [
        "#For the sake of calculating recency and frequency, drop the rows with negative values of Quantity and store the data in final_df\r\n",
        "final_retail = Online_retail_df[Online_retail_df['Quantity'] > 0]"
      ],
      "execution_count": null,
      "outputs": []
    },
    {
      "cell_type": "code",
      "metadata": {
        "id": "lymcFk9rNjPi"
      },
      "source": [
        "final_retail.shape"
      ],
      "execution_count": null,
      "outputs": []
    },
    {
      "cell_type": "code",
      "metadata": {
        "colab": {
          "base_uri": "https://localhost:8080/"
        },
        "id": "E-KJn9moNjSs",
        "outputId": "6ff76006-951b-481d-b1f1-a7c2d9c00568"
      },
      "source": [
        "unique_counts(final_retail)"
      ],
      "execution_count": null,
      "outputs": [
        {
          "output_type": "stream",
          "text": [
            "InvoiceNo   18536\n",
            "StockCode   3665\n",
            "Description   3877\n",
            "Quantity   302\n",
            "InvoiceDate   17286\n",
            "UnitPrice   441\n",
            "CustomerID   4339\n",
            "Country   37\n",
            "date   17286\n"
          ],
          "name": "stdout"
        }
      ]
    },
    {
      "cell_type": "code",
      "metadata": {
        "colab": {
          "base_uri": "https://localhost:8080/"
        },
        "id": "3hMvOH8bSMRM",
        "outputId": "829eb9e5-ab37-4c5d-d55a-f29acb097fc6"
      },
      "source": [
        "final_retail['date'].min()"
      ],
      "execution_count": null,
      "outputs": [
        {
          "output_type": "execute_result",
          "data": {
            "text/plain": [
              "Timestamp('2010-12-01 08:26:00')"
            ]
          },
          "metadata": {
            "tags": []
          },
          "execution_count": 16
        }
      ]
    },
    {
      "cell_type": "code",
      "metadata": {
        "id": "l1Y6V07lNjUo"
      },
      "source": [
        "final_retail.to_csv(\"sales_tramsaction.csv\")"
      ],
      "execution_count": null,
      "outputs": []
    },
    {
      "cell_type": "markdown",
      "metadata": {
        "id": "krlJkqwGSh-X"
      },
      "source": [
        "##  Calculate RFM value of each customer\r\n",
        "#### Assumption: In this final dataset , I have removed all the transaction with negative quantity value"
      ]
    },
    {
      "cell_type": "code",
      "metadata": {
        "id": "mEYbtpi8SLsv"
      },
      "source": [
        "#Calculate recency and frequency\r\n",
        "import datetime as dt\r\n",
        "NOW = dt.datetime(2011,12,10)"
      ],
      "execution_count": null,
      "outputs": []
    },
    {
      "cell_type": "code",
      "metadata": {
        "colab": {
          "base_uri": "https://localhost:8080/",
          "height": 405
        },
        "id": "E2GC4dIbSwJk",
        "outputId": "cec8265f-b077-422b-8a3f-c53945754be0"
      },
      "source": [
        "final_retail"
      ],
      "execution_count": null,
      "outputs": [
        {
          "output_type": "execute_result",
          "data": {
            "text/html": [
              "<div>\n",
              "<style scoped>\n",
              "    .dataframe tbody tr th:only-of-type {\n",
              "        vertical-align: middle;\n",
              "    }\n",
              "\n",
              "    .dataframe tbody tr th {\n",
              "        vertical-align: top;\n",
              "    }\n",
              "\n",
              "    .dataframe thead th {\n",
              "        text-align: right;\n",
              "    }\n",
              "</style>\n",
              "<table border=\"1\" class=\"dataframe\">\n",
              "  <thead>\n",
              "    <tr style=\"text-align: right;\">\n",
              "      <th></th>\n",
              "      <th>InvoiceNo</th>\n",
              "      <th>StockCode</th>\n",
              "      <th>Description</th>\n",
              "      <th>Quantity</th>\n",
              "      <th>InvoiceDate</th>\n",
              "      <th>UnitPrice</th>\n",
              "      <th>CustomerID</th>\n",
              "      <th>Country</th>\n",
              "      <th>date</th>\n",
              "      <th>Total_Price</th>\n",
              "    </tr>\n",
              "  </thead>\n",
              "  <tbody>\n",
              "    <tr>\n",
              "      <th>0</th>\n",
              "      <td>536365</td>\n",
              "      <td>85123A</td>\n",
              "      <td>WHITE HANGING HEART T-LIGHT HOLDER</td>\n",
              "      <td>6</td>\n",
              "      <td>2010-12-01 08:26:00</td>\n",
              "      <td>2.55</td>\n",
              "      <td>17850.0</td>\n",
              "      <td>United Kingdom</td>\n",
              "      <td>2010-12-01 08:26:00</td>\n",
              "      <td>15.30</td>\n",
              "    </tr>\n",
              "    <tr>\n",
              "      <th>1</th>\n",
              "      <td>536365</td>\n",
              "      <td>71053</td>\n",
              "      <td>WHITE METAL LANTERN</td>\n",
              "      <td>6</td>\n",
              "      <td>2010-12-01 08:26:00</td>\n",
              "      <td>3.39</td>\n",
              "      <td>17850.0</td>\n",
              "      <td>United Kingdom</td>\n",
              "      <td>2010-12-01 08:26:00</td>\n",
              "      <td>20.34</td>\n",
              "    </tr>\n",
              "    <tr>\n",
              "      <th>2</th>\n",
              "      <td>536365</td>\n",
              "      <td>84406B</td>\n",
              "      <td>CREAM CUPID HEARTS COAT HANGER</td>\n",
              "      <td>8</td>\n",
              "      <td>2010-12-01 08:26:00</td>\n",
              "      <td>2.75</td>\n",
              "      <td>17850.0</td>\n",
              "      <td>United Kingdom</td>\n",
              "      <td>2010-12-01 08:26:00</td>\n",
              "      <td>22.00</td>\n",
              "    </tr>\n",
              "    <tr>\n",
              "      <th>3</th>\n",
              "      <td>536365</td>\n",
              "      <td>84029G</td>\n",
              "      <td>KNITTED UNION FLAG HOT WATER BOTTLE</td>\n",
              "      <td>6</td>\n",
              "      <td>2010-12-01 08:26:00</td>\n",
              "      <td>3.39</td>\n",
              "      <td>17850.0</td>\n",
              "      <td>United Kingdom</td>\n",
              "      <td>2010-12-01 08:26:00</td>\n",
              "      <td>20.34</td>\n",
              "    </tr>\n",
              "    <tr>\n",
              "      <th>4</th>\n",
              "      <td>536365</td>\n",
              "      <td>84029E</td>\n",
              "      <td>RED WOOLLY HOTTIE WHITE HEART.</td>\n",
              "      <td>6</td>\n",
              "      <td>2010-12-01 08:26:00</td>\n",
              "      <td>3.39</td>\n",
              "      <td>17850.0</td>\n",
              "      <td>United Kingdom</td>\n",
              "      <td>2010-12-01 08:26:00</td>\n",
              "      <td>20.34</td>\n",
              "    </tr>\n",
              "    <tr>\n",
              "      <th>...</th>\n",
              "      <td>...</td>\n",
              "      <td>...</td>\n",
              "      <td>...</td>\n",
              "      <td>...</td>\n",
              "      <td>...</td>\n",
              "      <td>...</td>\n",
              "      <td>...</td>\n",
              "      <td>...</td>\n",
              "      <td>...</td>\n",
              "      <td>...</td>\n",
              "    </tr>\n",
              "    <tr>\n",
              "      <th>541904</th>\n",
              "      <td>581587</td>\n",
              "      <td>22613</td>\n",
              "      <td>PACK OF 20 SPACEBOY NAPKINS</td>\n",
              "      <td>12</td>\n",
              "      <td>2011-12-09 12:50:00</td>\n",
              "      <td>0.85</td>\n",
              "      <td>12680.0</td>\n",
              "      <td>France</td>\n",
              "      <td>2011-12-09 12:50:00</td>\n",
              "      <td>10.20</td>\n",
              "    </tr>\n",
              "    <tr>\n",
              "      <th>541905</th>\n",
              "      <td>581587</td>\n",
              "      <td>22899</td>\n",
              "      <td>CHILDREN'S APRON DOLLY GIRL</td>\n",
              "      <td>6</td>\n",
              "      <td>2011-12-09 12:50:00</td>\n",
              "      <td>2.10</td>\n",
              "      <td>12680.0</td>\n",
              "      <td>France</td>\n",
              "      <td>2011-12-09 12:50:00</td>\n",
              "      <td>12.60</td>\n",
              "    </tr>\n",
              "    <tr>\n",
              "      <th>541906</th>\n",
              "      <td>581587</td>\n",
              "      <td>23254</td>\n",
              "      <td>CHILDRENS CUTLERY DOLLY GIRL</td>\n",
              "      <td>4</td>\n",
              "      <td>2011-12-09 12:50:00</td>\n",
              "      <td>4.15</td>\n",
              "      <td>12680.0</td>\n",
              "      <td>France</td>\n",
              "      <td>2011-12-09 12:50:00</td>\n",
              "      <td>16.60</td>\n",
              "    </tr>\n",
              "    <tr>\n",
              "      <th>541907</th>\n",
              "      <td>581587</td>\n",
              "      <td>23255</td>\n",
              "      <td>CHILDRENS CUTLERY CIRCUS PARADE</td>\n",
              "      <td>4</td>\n",
              "      <td>2011-12-09 12:50:00</td>\n",
              "      <td>4.15</td>\n",
              "      <td>12680.0</td>\n",
              "      <td>France</td>\n",
              "      <td>2011-12-09 12:50:00</td>\n",
              "      <td>16.60</td>\n",
              "    </tr>\n",
              "    <tr>\n",
              "      <th>541908</th>\n",
              "      <td>581587</td>\n",
              "      <td>22138</td>\n",
              "      <td>BAKING SET 9 PIECE RETROSPOT</td>\n",
              "      <td>3</td>\n",
              "      <td>2011-12-09 12:50:00</td>\n",
              "      <td>4.95</td>\n",
              "      <td>12680.0</td>\n",
              "      <td>France</td>\n",
              "      <td>2011-12-09 12:50:00</td>\n",
              "      <td>14.85</td>\n",
              "    </tr>\n",
              "  </tbody>\n",
              "</table>\n",
              "<p>397924 rows × 10 columns</p>\n",
              "</div>"
            ],
            "text/plain": [
              "       InvoiceNo StockCode  ...                date  Total_Price\n",
              "0         536365    85123A  ... 2010-12-01 08:26:00        15.30\n",
              "1         536365     71053  ... 2010-12-01 08:26:00        20.34\n",
              "2         536365    84406B  ... 2010-12-01 08:26:00        22.00\n",
              "3         536365    84029G  ... 2010-12-01 08:26:00        20.34\n",
              "4         536365    84029E  ... 2010-12-01 08:26:00        20.34\n",
              "...          ...       ...  ...                 ...          ...\n",
              "541904    581587     22613  ... 2011-12-09 12:50:00        10.20\n",
              "541905    581587     22899  ... 2011-12-09 12:50:00        12.60\n",
              "541906    581587     23254  ... 2011-12-09 12:50:00        16.60\n",
              "541907    581587     23255  ... 2011-12-09 12:50:00        16.60\n",
              "541908    581587     22138  ... 2011-12-09 12:50:00        14.85\n",
              "\n",
              "[397924 rows x 10 columns]"
            ]
          },
          "metadata": {
            "tags": []
          },
          "execution_count": 26
        }
      ]
    },
    {
      "cell_type": "code",
      "metadata": {
        "id": "_RWQwSuvNjXK"
      },
      "source": [
        "rfm = final_retail.groupby('CustomerID').agg({'date': lambda x: (NOW - x.max()).days, 'InvoiceNo': lambda x: len(x),'Total_Price': lambda x: x.sum()})\r\n",
        "rfm['Date'] = rfmTable['date'].astype(int)\r\n",
        "rfm.rename(columns={'Date': 'recency', \r\n",
        "                         'InvoiceNo': 'frequency',\r\n",
        "                       'Total_Price': 'monetary_value'}, inplace=True)"
      ],
      "execution_count": null,
      "outputs": []
    },
    {
      "cell_type": "code",
      "metadata": {
        "colab": {
          "base_uri": "https://localhost:8080/",
          "height": 435
        },
        "id": "99kR1T3vS92F",
        "outputId": "3d429fbd-f882-47a4-95b7-6ac6af2a0cf0"
      },
      "source": [
        "rfm"
      ],
      "execution_count": null,
      "outputs": [
        {
          "output_type": "execute_result",
          "data": {
            "text/html": [
              "<div>\n",
              "<style scoped>\n",
              "    .dataframe tbody tr th:only-of-type {\n",
              "        vertical-align: middle;\n",
              "    }\n",
              "\n",
              "    .dataframe tbody tr th {\n",
              "        vertical-align: top;\n",
              "    }\n",
              "\n",
              "    .dataframe thead th {\n",
              "        text-align: right;\n",
              "    }\n",
              "</style>\n",
              "<table border=\"1\" class=\"dataframe\">\n",
              "  <thead>\n",
              "    <tr style=\"text-align: right;\">\n",
              "      <th></th>\n",
              "      <th>date</th>\n",
              "      <th>frequency</th>\n",
              "      <th>monetary_value</th>\n",
              "      <th>recency</th>\n",
              "    </tr>\n",
              "    <tr>\n",
              "      <th>CustomerID</th>\n",
              "      <th></th>\n",
              "      <th></th>\n",
              "      <th></th>\n",
              "      <th></th>\n",
              "    </tr>\n",
              "  </thead>\n",
              "  <tbody>\n",
              "    <tr>\n",
              "      <th>12346.0</th>\n",
              "      <td>325</td>\n",
              "      <td>1</td>\n",
              "      <td>77183.60</td>\n",
              "      <td>325</td>\n",
              "    </tr>\n",
              "    <tr>\n",
              "      <th>12347.0</th>\n",
              "      <td>2</td>\n",
              "      <td>182</td>\n",
              "      <td>4310.00</td>\n",
              "      <td>2</td>\n",
              "    </tr>\n",
              "    <tr>\n",
              "      <th>12348.0</th>\n",
              "      <td>75</td>\n",
              "      <td>31</td>\n",
              "      <td>1797.24</td>\n",
              "      <td>75</td>\n",
              "    </tr>\n",
              "    <tr>\n",
              "      <th>12349.0</th>\n",
              "      <td>18</td>\n",
              "      <td>73</td>\n",
              "      <td>1757.55</td>\n",
              "      <td>18</td>\n",
              "    </tr>\n",
              "    <tr>\n",
              "      <th>12350.0</th>\n",
              "      <td>310</td>\n",
              "      <td>17</td>\n",
              "      <td>334.40</td>\n",
              "      <td>310</td>\n",
              "    </tr>\n",
              "    <tr>\n",
              "      <th>...</th>\n",
              "      <td>...</td>\n",
              "      <td>...</td>\n",
              "      <td>...</td>\n",
              "      <td>...</td>\n",
              "    </tr>\n",
              "    <tr>\n",
              "      <th>18280.0</th>\n",
              "      <td>277</td>\n",
              "      <td>10</td>\n",
              "      <td>180.60</td>\n",
              "      <td>277</td>\n",
              "    </tr>\n",
              "    <tr>\n",
              "      <th>18281.0</th>\n",
              "      <td>180</td>\n",
              "      <td>7</td>\n",
              "      <td>80.82</td>\n",
              "      <td>180</td>\n",
              "    </tr>\n",
              "    <tr>\n",
              "      <th>18282.0</th>\n",
              "      <td>7</td>\n",
              "      <td>12</td>\n",
              "      <td>178.05</td>\n",
              "      <td>7</td>\n",
              "    </tr>\n",
              "    <tr>\n",
              "      <th>18283.0</th>\n",
              "      <td>3</td>\n",
              "      <td>756</td>\n",
              "      <td>2094.88</td>\n",
              "      <td>3</td>\n",
              "    </tr>\n",
              "    <tr>\n",
              "      <th>18287.0</th>\n",
              "      <td>42</td>\n",
              "      <td>70</td>\n",
              "      <td>1837.28</td>\n",
              "      <td>42</td>\n",
              "    </tr>\n",
              "  </tbody>\n",
              "</table>\n",
              "<p>4339 rows × 4 columns</p>\n",
              "</div>"
            ],
            "text/plain": [
              "            date  frequency  monetary_value  recency\n",
              "CustomerID                                          \n",
              "12346.0      325          1        77183.60      325\n",
              "12347.0        2        182         4310.00        2\n",
              "12348.0       75         31         1797.24       75\n",
              "12349.0       18         73         1757.55       18\n",
              "12350.0      310         17          334.40      310\n",
              "...          ...        ...             ...      ...\n",
              "18280.0      277         10          180.60      277\n",
              "18281.0      180          7           80.82      180\n",
              "18282.0        7         12          178.05        7\n",
              "18283.0        3        756         2094.88        3\n",
              "18287.0       42         70         1837.28       42\n",
              "\n",
              "[4339 rows x 4 columns]"
            ]
          },
          "metadata": {
            "tags": []
          },
          "execution_count": 30
        }
      ]
    },
    {
      "cell_type": "code",
      "metadata": {
        "id": "B7VRxmt7S-Cr"
      },
      "source": [
        "rfm['recency_normalized']=pd.qcut(rfm['recency'],50,labels=False)\r\n",
        "rfm['recency_normalized']= rfm['recency_normalized']+1\r\n",
        "rfm['frequency_normalized']=pd.qcut(rfm['frequency'],50,labels=False)\r\n",
        "rfm['frequency_normalized']=rfm['frequency_normalized']+1\r\n",
        "rfm['monetary_value_normalized']=pd.qcut(rfm['monetary_value'],50,labels=False)\r\n",
        "rfm['monetary_value_normalized']=rfm['monetary_value_normalized']+1"
      ],
      "execution_count": null,
      "outputs": []
    },
    {
      "cell_type": "code",
      "metadata": {
        "colab": {
          "base_uri": "https://localhost:8080/",
          "height": 435
        },
        "id": "9CW9_GNMUH5L",
        "outputId": "dad790ac-71aa-4f41-bce7-02cd35936bd9"
      },
      "source": [
        "rfm"
      ],
      "execution_count": null,
      "outputs": [
        {
          "output_type": "execute_result",
          "data": {
            "text/html": [
              "<div>\n",
              "<style scoped>\n",
              "    .dataframe tbody tr th:only-of-type {\n",
              "        vertical-align: middle;\n",
              "    }\n",
              "\n",
              "    .dataframe tbody tr th {\n",
              "        vertical-align: top;\n",
              "    }\n",
              "\n",
              "    .dataframe thead th {\n",
              "        text-align: right;\n",
              "    }\n",
              "</style>\n",
              "<table border=\"1\" class=\"dataframe\">\n",
              "  <thead>\n",
              "    <tr style=\"text-align: right;\">\n",
              "      <th></th>\n",
              "      <th>date</th>\n",
              "      <th>frequency</th>\n",
              "      <th>monetary_value</th>\n",
              "      <th>recency</th>\n",
              "      <th>recency_normalized</th>\n",
              "      <th>frequency_normalized</th>\n",
              "      <th>monetary_value_normalized</th>\n",
              "    </tr>\n",
              "    <tr>\n",
              "      <th>CustomerID</th>\n",
              "      <th></th>\n",
              "      <th></th>\n",
              "      <th></th>\n",
              "      <th></th>\n",
              "      <th></th>\n",
              "      <th></th>\n",
              "      <th></th>\n",
              "    </tr>\n",
              "  </thead>\n",
              "  <tbody>\n",
              "    <tr>\n",
              "      <th>12346.0</th>\n",
              "      <td>325</td>\n",
              "      <td>1</td>\n",
              "      <td>77183.60</td>\n",
              "      <td>325</td>\n",
              "      <td>49</td>\n",
              "      <td>1</td>\n",
              "      <td>50</td>\n",
              "    </tr>\n",
              "    <tr>\n",
              "      <th>12347.0</th>\n",
              "      <td>2</td>\n",
              "      <td>182</td>\n",
              "      <td>4310.00</td>\n",
              "      <td>2</td>\n",
              "      <td>2</td>\n",
              "      <td>45</td>\n",
              "      <td>47</td>\n",
              "    </tr>\n",
              "    <tr>\n",
              "      <th>12348.0</th>\n",
              "      <td>75</td>\n",
              "      <td>31</td>\n",
              "      <td>1797.24</td>\n",
              "      <td>75</td>\n",
              "      <td>31</td>\n",
              "      <td>21</td>\n",
              "      <td>39</td>\n",
              "    </tr>\n",
              "    <tr>\n",
              "      <th>12349.0</th>\n",
              "      <td>18</td>\n",
              "      <td>73</td>\n",
              "      <td>1757.55</td>\n",
              "      <td>18</td>\n",
              "      <td>13</td>\n",
              "      <td>34</td>\n",
              "      <td>39</td>\n",
              "    </tr>\n",
              "    <tr>\n",
              "      <th>12350.0</th>\n",
              "      <td>310</td>\n",
              "      <td>17</td>\n",
              "      <td>334.40</td>\n",
              "      <td>310</td>\n",
              "      <td>48</td>\n",
              "      <td>13</td>\n",
              "      <td>15</td>\n",
              "    </tr>\n",
              "    <tr>\n",
              "      <th>...</th>\n",
              "      <td>...</td>\n",
              "      <td>...</td>\n",
              "      <td>...</td>\n",
              "      <td>...</td>\n",
              "      <td>...</td>\n",
              "      <td>...</td>\n",
              "      <td>...</td>\n",
              "    </tr>\n",
              "    <tr>\n",
              "      <th>18280.0</th>\n",
              "      <td>277</td>\n",
              "      <td>10</td>\n",
              "      <td>180.60</td>\n",
              "      <td>277</td>\n",
              "      <td>46</td>\n",
              "      <td>7</td>\n",
              "      <td>7</td>\n",
              "    </tr>\n",
              "    <tr>\n",
              "      <th>18281.0</th>\n",
              "      <td>180</td>\n",
              "      <td>7</td>\n",
              "      <td>80.82</td>\n",
              "      <td>180</td>\n",
              "      <td>41</td>\n",
              "      <td>5</td>\n",
              "      <td>2</td>\n",
              "    </tr>\n",
              "    <tr>\n",
              "      <th>18282.0</th>\n",
              "      <td>7</td>\n",
              "      <td>12</td>\n",
              "      <td>178.05</td>\n",
              "      <td>7</td>\n",
              "      <td>6</td>\n",
              "      <td>9</td>\n",
              "      <td>7</td>\n",
              "    </tr>\n",
              "    <tr>\n",
              "      <th>18283.0</th>\n",
              "      <td>3</td>\n",
              "      <td>756</td>\n",
              "      <td>2094.88</td>\n",
              "      <td>3</td>\n",
              "      <td>3</td>\n",
              "      <td>50</td>\n",
              "      <td>41</td>\n",
              "    </tr>\n",
              "    <tr>\n",
              "      <th>18287.0</th>\n",
              "      <td>42</td>\n",
              "      <td>70</td>\n",
              "      <td>1837.28</td>\n",
              "      <td>42</td>\n",
              "      <td>23</td>\n",
              "      <td>33</td>\n",
              "      <td>39</td>\n",
              "    </tr>\n",
              "  </tbody>\n",
              "</table>\n",
              "<p>4339 rows × 7 columns</p>\n",
              "</div>"
            ],
            "text/plain": [
              "            date  frequency  ...  frequency_normalized  monetary_value_normalized\n",
              "CustomerID                   ...                                                 \n",
              "12346.0      325          1  ...                     1                         50\n",
              "12347.0        2        182  ...                    45                         47\n",
              "12348.0       75         31  ...                    21                         39\n",
              "12349.0       18         73  ...                    34                         39\n",
              "12350.0      310         17  ...                    13                         15\n",
              "...          ...        ...  ...                   ...                        ...\n",
              "18280.0      277         10  ...                     7                          7\n",
              "18281.0      180          7  ...                     5                          2\n",
              "18282.0        7         12  ...                     9                          7\n",
              "18283.0        3        756  ...                    50                         41\n",
              "18287.0       42         70  ...                    33                         39\n",
              "\n",
              "[4339 rows x 7 columns]"
            ]
          },
          "metadata": {
            "tags": []
          },
          "execution_count": 33
        }
      ]
    },
    {
      "cell_type": "code",
      "metadata": {
        "id": "zFZW00J5T6bh"
      },
      "source": [
        "DF_ARRAY = np.array(rfm.iloc[:,4:8])          # Getting only the numeric features from the dataset\r\n",
        "DF_NORM  = preprocessing.normalize(DF_ARRAY) # Normalizing the data"
      ],
      "execution_count": null,
      "outputs": []
    },
    {
      "cell_type": "code",
      "metadata": {
        "colab": {
          "base_uri": "https://localhost:8080/"
        },
        "id": "ripCvv5LT6eS",
        "outputId": "c076ac11-5f3b-4238-b34a-5f9ca9e1bfb9"
      },
      "source": [
        "\r\n",
        "from sklearn.cluster import KMeans\r\n",
        "\r\n",
        "# Creating our Model\r\n",
        "kmeans = KMeans(n_clusters = 10)\r\n",
        "\r\n",
        "# Training our model\r\n",
        "kmeans.fit(DF_NORM)"
      ],
      "execution_count": null,
      "outputs": [
        {
          "output_type": "execute_result",
          "data": {
            "text/plain": [
              "KMeans(algorithm='auto', copy_x=True, init='k-means++', max_iter=300,\n",
              "       n_clusters=10, n_init=10, n_jobs=None, precompute_distances='auto',\n",
              "       random_state=None, tol=0.0001, verbose=0)"
            ]
          },
          "metadata": {
            "tags": []
          },
          "execution_count": 35
        }
      ]
    },
    {
      "cell_type": "code",
      "metadata": {
        "colab": {
          "base_uri": "https://localhost:8080/",
          "height": 279
        },
        "id": "Rp3ZP3uXT6mX",
        "outputId": "aab28f27-c92f-4b1a-88e4-7d7006fbd530"
      },
      "source": [
        "import matplotlib.pyplot as plt\r\n",
        "\r\n",
        "# Amount of values to be tested for K\r\n",
        "Ks = range(2, 30)\r\n",
        "\r\n",
        "# List to hold on the metrics for each value of K\r\n",
        "results = []\r\n",
        "\r\n",
        "# Executing the loop\r\n",
        "for K in Ks:\r\n",
        "    \r\n",
        "    model = KMeans(n_clusters = K)\r\n",
        "    model.fit(DF_NORM)\r\n",
        "    \r\n",
        "    results.append(model.inertia_)\r\n",
        "\r\n",
        "# Plotting the final result\r\n",
        "plt.plot(Ks, results, 'o-')\r\n",
        "plt.xlabel(\"Values of K\")\r\n",
        "plt.ylabel(\"SSE\")\r\n",
        "plt.show()"
      ],
      "execution_count": null,
      "outputs": [
        {
          "output_type": "display_data",
          "data": {
            "image/png": "[encoded data removed]",
            "text/plain": [
              "<Figure size 432x288 with 1 Axes>"
            ]
          },
          "metadata": {
            "tags": [],
            "needs_background": "light"
          }
        }
      ]
    },
    {
      "cell_type": "code",
      "metadata": {
        "id": "eZWC1PIhT6pP"
      },
      "source": [
        "\r\n",
        "from sklearn.cluster import KMeans\r\n",
        "\r\n",
        "# Creating our Model\r\n",
        "kmeans = KMeans(n_clusters = 10)\r\n",
        "\r\n",
        "# Training our model\r\n",
        "kmeans.fit(DF_NORM)\r\n",
        "\r\n",
        "# You can see the labels (clusters) assigned for each data point with the function labels_\r\n",
        "kmeans.labels_\r\n",
        "\r\n",
        "# Assigning the labels to the initial dataset\r\n",
        "rfm['cluster'] = kmeans.labels_"
      ],
      "execution_count": null,
      "outputs": []
    },
    {
      "cell_type": "code",
      "metadata": {
        "colab": {
          "base_uri": "https://localhost:8080/",
          "height": 435
        },
        "id": "ryD9eA8IT6r5",
        "outputId": "397a67af-743c-42f0-c97c-296c7c9477ab"
      },
      "source": [
        "rfm"
      ],
      "execution_count": null,
      "outputs": [
        {
          "output_type": "execute_result",
          "data": {
            "text/html": [
              "<div>\n",
              "<style scoped>\n",
              "    .dataframe tbody tr th:only-of-type {\n",
              "        vertical-align: middle;\n",
              "    }\n",
              "\n",
              "    .dataframe tbody tr th {\n",
              "        vertical-align: top;\n",
              "    }\n",
              "\n",
              "    .dataframe thead th {\n",
              "        text-align: right;\n",
              "    }\n",
              "</style>\n",
              "<table border=\"1\" class=\"dataframe\">\n",
              "  <thead>\n",
              "    <tr style=\"text-align: right;\">\n",
              "      <th></th>\n",
              "      <th>date</th>\n",
              "      <th>frequency</th>\n",
              "      <th>monetary_value</th>\n",
              "      <th>recency</th>\n",
              "      <th>recency_normalized</th>\n",
              "      <th>frequency_normalized</th>\n",
              "      <th>monetary_value_normalized</th>\n",
              "      <th>cluster</th>\n",
              "    </tr>\n",
              "    <tr>\n",
              "      <th>CustomerID</th>\n",
              "      <th></th>\n",
              "      <th></th>\n",
              "      <th></th>\n",
              "      <th></th>\n",
              "      <th></th>\n",
              "      <th></th>\n",
              "      <th></th>\n",
              "      <th></th>\n",
              "    </tr>\n",
              "  </thead>\n",
              "  <tbody>\n",
              "    <tr>\n",
              "      <th>12346.0</th>\n",
              "      <td>325</td>\n",
              "      <td>1</td>\n",
              "      <td>77183.60</td>\n",
              "      <td>325</td>\n",
              "      <td>49</td>\n",
              "      <td>1</td>\n",
              "      <td>50</td>\n",
              "      <td>6</td>\n",
              "    </tr>\n",
              "    <tr>\n",
              "      <th>12347.0</th>\n",
              "      <td>2</td>\n",
              "      <td>182</td>\n",
              "      <td>4310.00</td>\n",
              "      <td>2</td>\n",
              "      <td>2</td>\n",
              "      <td>45</td>\n",
              "      <td>47</td>\n",
              "      <td>3</td>\n",
              "    </tr>\n",
              "    <tr>\n",
              "      <th>12348.0</th>\n",
              "      <td>75</td>\n",
              "      <td>31</td>\n",
              "      <td>1797.24</td>\n",
              "      <td>75</td>\n",
              "      <td>31</td>\n",
              "      <td>21</td>\n",
              "      <td>39</td>\n",
              "      <td>2</td>\n",
              "    </tr>\n",
              "    <tr>\n",
              "      <th>12349.0</th>\n",
              "      <td>18</td>\n",
              "      <td>73</td>\n",
              "      <td>1757.55</td>\n",
              "      <td>18</td>\n",
              "      <td>13</td>\n",
              "      <td>34</td>\n",
              "      <td>39</td>\n",
              "      <td>7</td>\n",
              "    </tr>\n",
              "    <tr>\n",
              "      <th>12350.0</th>\n",
              "      <td>310</td>\n",
              "      <td>17</td>\n",
              "      <td>334.40</td>\n",
              "      <td>310</td>\n",
              "      <td>48</td>\n",
              "      <td>13</td>\n",
              "      <td>15</td>\n",
              "      <td>8</td>\n",
              "    </tr>\n",
              "    <tr>\n",
              "      <th>...</th>\n",
              "      <td>...</td>\n",
              "      <td>...</td>\n",
              "      <td>...</td>\n",
              "      <td>...</td>\n",
              "      <td>...</td>\n",
              "      <td>...</td>\n",
              "      <td>...</td>\n",
              "      <td>...</td>\n",
              "    </tr>\n",
              "    <tr>\n",
              "      <th>18280.0</th>\n",
              "      <td>277</td>\n",
              "      <td>10</td>\n",
              "      <td>180.60</td>\n",
              "      <td>277</td>\n",
              "      <td>46</td>\n",
              "      <td>7</td>\n",
              "      <td>7</td>\n",
              "      <td>1</td>\n",
              "    </tr>\n",
              "    <tr>\n",
              "      <th>18281.0</th>\n",
              "      <td>180</td>\n",
              "      <td>7</td>\n",
              "      <td>80.82</td>\n",
              "      <td>180</td>\n",
              "      <td>41</td>\n",
              "      <td>5</td>\n",
              "      <td>2</td>\n",
              "      <td>1</td>\n",
              "    </tr>\n",
              "    <tr>\n",
              "      <th>18282.0</th>\n",
              "      <td>7</td>\n",
              "      <td>12</td>\n",
              "      <td>178.05</td>\n",
              "      <td>7</td>\n",
              "      <td>6</td>\n",
              "      <td>9</td>\n",
              "      <td>7</td>\n",
              "      <td>7</td>\n",
              "    </tr>\n",
              "    <tr>\n",
              "      <th>18283.0</th>\n",
              "      <td>3</td>\n",
              "      <td>756</td>\n",
              "      <td>2094.88</td>\n",
              "      <td>3</td>\n",
              "      <td>3</td>\n",
              "      <td>50</td>\n",
              "      <td>41</td>\n",
              "      <td>3</td>\n",
              "    </tr>\n",
              "    <tr>\n",
              "      <th>18287.0</th>\n",
              "      <td>42</td>\n",
              "      <td>70</td>\n",
              "      <td>1837.28</td>\n",
              "      <td>42</td>\n",
              "      <td>23</td>\n",
              "      <td>33</td>\n",
              "      <td>39</td>\n",
              "      <td>7</td>\n",
              "    </tr>\n",
              "  </tbody>\n",
              "</table>\n",
              "<p>4339 rows × 8 columns</p>\n",
              "</div>"
            ],
            "text/plain": [
              "            date  frequency  ...  monetary_value_normalized  cluster\n",
              "CustomerID                   ...                                    \n",
              "12346.0      325          1  ...                         50        6\n",
              "12347.0        2        182  ...                         47        3\n",
              "12348.0       75         31  ...                         39        2\n",
              "12349.0       18         73  ...                         39        7\n",
              "12350.0      310         17  ...                         15        8\n",
              "...          ...        ...  ...                        ...      ...\n",
              "18280.0      277         10  ...                          7        1\n",
              "18281.0      180          7  ...                          2        1\n",
              "18282.0        7         12  ...                          7        7\n",
              "18283.0        3        756  ...                         41        3\n",
              "18287.0       42         70  ...                         39        7\n",
              "\n",
              "[4339 rows x 8 columns]"
            ]
          },
          "metadata": {
            "tags": []
          },
          "execution_count": 39
        }
      ]
    },
    {
      "cell_type": "code",
      "metadata": {
        "colab": {
          "base_uri": "https://localhost:8080/",
          "height": 541
        },
        "id": "v3-2F7YcT6ur",
        "outputId": "74eebaa7-20f5-450c-bc73-cddbab6eef1c"
      },
      "source": [
        "import plotly.graph_objects as go\r\n",
        "\r\n",
        "PLOT = go.Figure()\r\n",
        "    \r\n",
        "PLOT.add_trace(go.Scatter3d(x = rfm['recency_normalized'],\r\n",
        "                            y = rfm['frequency_normalized'],\r\n",
        "                            z = rfm['monetary_value_normalized']\r\n",
        "                           )\r\n",
        "              )"
      ],
      "execution_count": null,
      "outputs": [
        {
          "output_type": "display_data",
          "data": {
            "text/html": [
              "<html>\n",
              "<head><meta charset=\"utf-8\" /></head>\n",
              "<body>\n",
              "    <div>\n",
              "            <script src=\"https://cdnjs.cloudflare.com/ajax/libs/mathjax/2.7.5/MathJax.js?config=TeX-AMS-MML_SVG\"></script><script type=\"text/javascript\">if (window.MathJax) {MathJax.Hub.Config({SVG: {font: \"STIX-Web\"}});}</script>\n",
              "                <script type=\"text/javascript\">window.PlotlyConfig = {MathJaxConfig: 'local'};</script>\n",
              "        <script src=\"https://cdn.plot.ly/plotly-latest.min.js\"></script>    \n",
              "            <div id=\"30875858-17a7-4e84-a6ec-d63cf1e2c89d\" class=\"plotly-graph-div\" style=\"height:525px; width:100%;\"></div>\n",
              "            <script type=\"text/javascript\">\n",
              "                \n",
              "                    window.PLOTLYENV=window.PLOTLYENV || {};\n",
              "                    \n",
              "                if (document.getElementById(\"30875858-17a7-4e84-a6ec-d63cf1e2c89d\")) {\n",
              "                    Plotly.newPlot(\n",
              "                        '30875858-17a7-4e84-a6ec-d63cf1e2c89d',\n",
              "                        [{\"type\": \"scatter3d\", \"x\": [49, 2, 31, 13, 48, 21, 42, 44, 43, 15, 21, 1, 27, 26, 47, 3, 36, 6, 47, 4, 26, 24, 30, 48, 17, 8, 48, 37, 33, 15, 4, 41, 18, 49, 11, 32, 15, 31, 28, 14, 21, 24, 36, 48, 49, 25, 38, 15, 25, 20, 32, 48, 31, 29, 43, 17, 3, 36, 28, 11, 34, 1, 39, 32, 41, 15, 17, 8, 23, 21, 23, 1, 33, 32, 35, 1, 11, 50, 3, 15, 15, 27, 44, 24, 15, 39, 8, 12, 37, 27, 31, 24, 29, 30, 34, 13, 26, 8, 12, 41, 2, 20, 19, 12, 26, 11, 15, 3, 9, 18, 15, 12, 20, 8, 49, 5, 22, 28, 40, 11, 33, 15, 16, 49, 34, 13, 44, 37, 18, 47, 38, 29, 36, 46, 49, 32, 18, 1, 28, 32, 38, 23, 14, 8, 1, 33, 8, 28, 11, 19, 37, 34, 23, 19, 15, 14, 19, 21, 31, 24, 42, 40, 32, 49, 22, 7, 25, 12, 6, 48, 5, 47, 7, 45, 47, 33, 15, 2, 23, 7, 43, 48, 21, 21, 15, 32, 45, 23, 44, 2, 3, 44, 12, 6, 23, 18, 42, 48, 34, 35, 22, 26, 14, 8, 19, 18, 41, 27, 15, 32, 28, 32, 15, 26, 31, 27, 46, 2, 34, 19, 15, 12, 11, 1, 44, 46, 35, 42, 16, 8, 4, 8, 27, 27, 34, 30, 21, 44, 16, 36, 17, 37, 37, 21, 4, 15, 39, 35, 3, 49, 49, 38, 8, 12, 9, 13, 19, 9, 1, 7, 49, 27, 9, 39, 8, 49, 5, 22, 17, 23, 27, 1, 11, 3, 4, 6, 18, 50, 36, 17, 42, 18, 37, 30, 6, 18, 6, 32, 14, 30, 6, 11, 47, 19, 11, 34, 18, 1, 8, 35, 3, 39, 30, 5, 2, 20, 33, 3, 5, 50, 18, 8, 30, 36, 16, 40, 44, 49, 48, 49, 50, 32, 28, 37, 26, 2, 1, 3, 37, 33, 15, 44, 46, 33, 11, 36, 26, 6, 38, 48, 3, 44, 42, 28, 12, 14, 22, 28, 4, 2, 8, 50, 8, 29, 41, 50, 45, 49, 26, 13, 50, 8, 41, 21, 40, 45, 24, 35, 38, 34, 47, 45, 3, 43, 30, 31, 28, 2, 5, 2, 49, 22, 45, 20, 38, 47, 28, 40, 21, 2, 38, 4, 30, 29, 19, 46, 15, 20, 34, 47, 37, 32, 50, 6, 42, 26, 38, 18, 47, 18, 41, 33, 49, 47, 38, 27, 3, 44, 24, 46, 8, 17, 33, 28, 30, 43, 17, 41, 19, 23, 42, 7, 46, 13, 9, 40, 23, 16, 2, 4, 38, 38, 37, 7, 12, 8, 39, 29, 33, 4, 21, 48, 32, 15, 17, 2, 12, 11, 17, 29, 27, 37, 21, 47, 38, 12, 19, 2, 7, 5, 8, 1, 48, 8, 6, 7, 34, 8, 49, 36, 6, 3, 42, 42, 39, 39, 19, 44, 13, 1, 31, 47, 3, 20, 16, 16, 4, 33, 15, 42, 35, 4, 48, 35, 9, 40, 27, 49, 50, 8, 1, 8, 26, 31, 6, 12, 4, 29, 1, 36, 15, 19, 9, 26, 49, 27, 31, 38, 32, 7, 46, 47, 35, 19, 20, 11, 29, 11, 43, 32, 17, 45, 45, 31, 41, 10, 50, 17, 33, 8, 1, 41, 46, 37, 1, 3, 4, 40, 9, 37, 4, 39, 2, 7, 18, 30, 46, 15, 30, 20, 1, 35, 44, 1, 23, 3, 37, 24, 50, 28, 20, 1, 9, 38, 15, 14, 44, 46, 34, 34, 4, 32, 34, 16, 45, 46, 33, 42, 27, 8, 15, 12, 35, 33, 14, 49, 23, 18, 8, 19, 11, 47, 5, 21, 25, 34, 7, 15, 48, 37, 24, 47, 13, 21, 28, 18, 15, 4, 12, 24, 29, 18, 24, 6, 11, 46, 23, 49, 9, 13, 34, 28, 38, 9, 8, 3, 14, 8, 11, 27, 19, 34, 8, 14, 27, 46, 37, 37, 32, 44, 42, 28, 3, 46, 42, 33, 43, 4, 10, 31, 43, 17, 12, 45, 34, 36, 42, 34, 25, 13, 12, 37, 34, 39, 8, 11, 9, 28, 28, 46, 46, 1, 26, 9, 2, 12, 1, 50, 22, 20, 36, 28, 11, 23, 32, 37, 13, 28, 49, 16, 39, 22, 41, 49, 38, 6, 1, 46, 40, 35, 39, 49, 4, 36, 15, 6, 18, 4, 15, 1, 22, 29, 1, 5, 32, 31, 12, 3, 21, 33, 22, 48, 20, 34, 11, 33, 32, 39, 42, 24, 45, 40, 30, 47, 30, 29, 8, 12, 29, 28, 30, 37, 32, 45, 46, 28, 8, 12, 30, 21, 25, 45, 50, 50, 34, 28, 33, 35, 18, 20, 46, 19, 49, 37, 9, 31, 42, 1, 41, 19, 31, 41, 37, 12, 1, 31, 1, 17, 35, 37, 23, 4, 9, 28, 38, 23, 29, 35, 1, 14, 8, 8, 13, 30, 31, 5, 1, 11, 45, 34, 16, 12, 16, 18, 18, 45, 40, 17, 12, 6, 19, 22, 45, 27, 41, 8, 1, 35, 1, 28, 44, 41, 40, 22, 42, 24, 44, 29, 44, 44, 32, 27, 12, 35, 26, 38, 46, 48, 6, 8, 47, 12, 16, 47, 12, 30, 29, 31, 48, 3, 44, 7, 1, 45, 37, 31, 31, 15, 28, 33, 32, 27, 1, 19, 21, 23, 11, 21, 32, 42, 21, 41, 2, 1, 23, 33, 23, 10, 34, 17, 48, 29, 31, 18, 5, 6, 43, 33, 33, 38, 14, 23, 40, 12, 44, 10, 42, 25, 16, 8, 17, 11, 48, 39, 48, 28, 11, 11, 9, 29, 21, 35, 26, 5, 25, 1, 48, 24, 29, 18, 19, 23, 10, 34, 17, 48, 23, 40, 36, 19, 45, 28, 16, 5, 35, 17, 21, 30, 21, 26, 11, 31, 43, 20, 12, 36, 8, 45, 12, 21, 24, 23, 36, 39, 8, 8, 42, 33, 40, 28, 38, 2, 25, 31, 47, 13, 39, 39, 1, 12, 41, 47, 2, 41, 28, 28, 17, 3, 20, 22, 39, 18, 48, 5, 6, 47, 46, 46, 3, 20, 43, 45, 47, 46, 20, 45, 11, 36, 21, 37, 43, 25, 22, 18, 21, 38, 43, 18, 17, 5, 42, 13, 44, 30, 12, 2, 34, 39, 50, 34, 26, 47, 37, 47, 39, 3, 2, 9, 21, 27, 25, 43, 28, 30, 2, 2, 29, 21, 33, 1, 35, 6, 45, 10, 8, 50, 31, 4, 37, 29, 1, 36, 48, 29, 38, 45, 19, 26, 28, 50, 5, 48, 18, 41, 23, 23, 34, 15, 16, 19, 47, 38, 5, 13, 20, 40, 27, 15, 12, 14, 39, 17, 42, 5, 45, 27, 9, 29, 17, 34, 26, 37, 34, 27, 7, 40, 27, 49, 1, 13, 45, 27, 31, 20, 6, 37, 2, 15, 36, 49, 26, 28, 33, 27, 15, 3, 2, 8, 6, 41, 30, 42, 36, 34, 1, 18, 47, 16, 18, 25, 49, 12, 41, 31, 22, 32, 27, 9, 25, 25, 28, 49, 26, 1, 34, 16, 31, 8, 40, 27, 34, 47, 36, 46, 40, 40, 21, 16, 12, 15, 32, 29, 49, 2, 9, 40, 43, 6, 1, 39, 5, 32, 15, 15, 48, 38, 6, 13, 30, 47, 25, 20, 42, 11, 31, 28, 23, 19, 18, 4, 12, 14, 29, 43, 10, 19, 23, 3, 11, 8, 42, 24, 37, 23, 8, 36, 42, 46, 36, 32, 26, 39, 24, 12, 39, 43, 6, 37, 28, 28, 13, 6, 2, 15, 18, 47, 40, 32, 21, 23, 46, 18, 36, 47, 7, 48, 12, 20, 1, 14, 37, 29, 35, 1, 16, 46, 4, 8, 19, 46, 28, 48, 3, 20, 4, 37, 23, 35, 37, 20, 47, 50, 4, 2, 2, 8, 27, 49, 6, 10, 4, 21, 12, 38, 31, 5, 39, 44, 26, 19, 31, 3, 11, 15, 3, 46, 14, 38, 3, 33, 8, 6, 37, 28, 1, 48, 2, 37, 1, 1, 24, 3, 2, 50, 37, 24, 7, 32, 44, 43, 21, 31, 44, 46, 8, 14, 23, 14, 43, 40, 33, 30, 46, 23, 35, 8, 21, 28, 47, 33, 7, 23, 8, 29, 49, 19, 2, 1, 30, 4, 42, 35, 13, 43, 28, 2, 12, 44, 34, 8, 35, 26, 34, 19, 9, 3, 1, 23, 4, 45, 23, 40, 34, 36, 18, 18, 26, 41, 23, 25, 15, 31, 32, 50, 49, 23, 19, 41, 44, 7, 43, 36, 46, 48, 6, 1, 45, 29, 8, 38, 25, 7, 39, 36, 39, 49, 43, 31, 26, 35, 11, 42, 3, 19, 15, 16, 7, 43, 7, 9, 1, 6, 3, 23, 12, 7, 7, 13, 36, 43, 30, 26, 33, 7, 44, 24, 35, 24, 29, 42, 8, 36, 44, 39, 12, 37, 15, 30, 12, 12, 12, 39, 44, 43, 24, 15, 37, 22, 36, 45, 8, 46, 39, 39, 43, 5, 50, 32, 23, 14, 20, 15, 35, 7, 48, 47, 49, 41, 41, 24, 26, 18, 22, 8, 47, 20, 8, 29, 8, 43, 2, 29, 2, 38, 4, 37, 21, 36, 35, 8, 30, 34, 48, 23, 50, 34, 1, 15, 3, 8, 35, 27, 1, 43, 12, 16, 25, 6, 47, 8, 15, 35, 50, 48, 48, 7, 1, 42, 26, 1, 13, 8, 13, 41, 28, 8, 41, 5, 48, 39, 36, 38, 29, 35, 45, 19, 12, 9, 35, 31, 24, 30, 45, 14, 45, 9, 39, 13, 47, 25, 22, 18, 30, 42, 40, 6, 17, 25, 48, 48, 23, 18, 33, 41, 14, 3, 25, 12, 12, 16, 15, 9, 41, 35, 28, 12, 21, 29, 1, 17, 35, 20, 14, 2, 22, 28, 17, 44, 17, 2, 28, 45, 27, 29, 11, 8, 27, 41, 18, 17, 5, 3, 39, 48, 8, 13, 39, 14, 8, 27, 33, 6, 31, 3, 34, 36, 27, 1, 46, 3, 40, 50, 10, 3, 12, 23, 5, 40, 25, 46, 13, 50, 11, 21, 15, 6, 14, 9, 24, 48, 8, 46, 1, 11, 4, 31, 44, 8, 44, 42, 1, 41, 20, 27, 42, 16, 34, 4, 25, 45, 46, 21, 25, 26, 17, 15, 27, 40, 30, 39, 1, 42, 4, 30, 32, 1, 7, 40, 12, 5, 7, 33, 18, 18, 14, 28, 17, 8, 44, 46, 44, 3, 12, 20, 17, 30, 41, 17, 35, 6, 42, 24, 19, 38, 46, 4, 43, 1, 43, 20, 8, 1, 11, 9, 42, 2, 11, 11, 8, 19, 8, 17, 17, 23, 1, 5, 38, 8, 17, 46, 50, 1, 25, 7, 12, 3, 3, 23, 4, 42, 9, 12, 36, 45, 19, 23, 33, 24, 8, 11, 31, 38, 4, 47, 27, 46, 24, 19, 7, 12, 2, 44, 36, 27, 26, 37, 46, 27, 48, 18, 8, 6, 18, 12, 28, 15, 2, 40, 1, 26, 26, 25, 28, 39, 7, 11, 31, 23, 23, 50, 21, 42, 42, 31, 29, 15, 50, 41, 8, 3, 42, 19, 26, 12, 8, 34, 46, 26, 23, 28, 38, 15, 48, 16, 27, 17, 32, 36, 21, 28, 10, 14, 26, 17, 19, 6, 8, 41, 3, 7, 45, 3, 42, 35, 10, 32, 14, 18, 13, 37, 45, 32, 42, 49, 45, 38, 8, 33, 6, 42, 6, 16, 9, 17, 15, 2, 39, 3, 31, 2, 1, 12, 21, 34, 30, 36, 43, 19, 25, 44, 20, 35, 4, 50, 33, 47, 21, 27, 19, 11, 31, 16, 14, 32, 28, 17, 10, 45, 38, 29, 7, 8, 46, 8, 45, 34, 11, 25, 19, 30, 21, 37, 35, 22, 27, 27, 31, 45, 14, 42, 11, 42, 22, 24, 40, 25, 36, 38, 11, 26, 39, 10, 21, 26, 23, 40, 21, 22, 46, 7, 9, 3, 8, 21, 32, 19, 7, 30, 4, 45, 4, 11, 34, 31, 27, 8, 40, 42, 20, 14, 39, 8, 46, 29, 46, 17, 16, 48, 4, 10, 46, 17, 23, 7, 3, 30, 43, 22, 26, 32, 24, 40, 50, 34, 8, 35, 32, 40, 6, 43, 15, 45, 47, 15, 8, 48, 30, 43, 13, 35, 23, 4, 41, 33, 49, 7, 20, 42, 13, 12, 48, 38, 44, 16, 19, 8, 19, 13, 12, 11, 37, 44, 37, 25, 36, 6, 15, 17, 29, 28, 25, 40, 13, 37, 11, 44, 2, 44, 26, 24, 43, 7, 4, 39, 44, 8, 37, 12, 8, 20, 31, 1, 3, 24, 1, 49, 13, 30, 50, 48, 17, 49, 7, 48, 30, 45, 13, 50, 29, 39, 19, 30, 11, 1, 1, 36, 28, 3, 2, 8, 34, 28, 33, 17, 49, 33, 8, 1, 43, 28, 44, 48, 1, 24, 33, 8, 40, 26, 50, 48, 43, 49, 44, 48, 21, 29, 44, 36, 46, 43, 47, 1, 19, 8, 24, 29, 31, 29, 37, 44, 37, 20, 8, 21, 12, 37, 29, 38, 47, 40, 35, 38, 49, 35, 29, 39, 49, 15, 16, 11, 6, 27, 4, 22, 29, 24, 49, 40, 27, 25, 15, 23, 19, 4, 17, 42, 25, 8, 2, 30, 29, 25, 47, 28, 29, 34, 46, 1, 31, 36, 42, 29, 49, 3, 47, 24, 30, 33, 35, 49, 26, 23, 20, 50, 42, 39, 26, 29, 32, 37, 33, 1, 24, 49, 50, 31, 39, 50, 10, 45, 19, 20, 4, 23, 49, 50, 34, 17, 31, 27, 15, 23, 38, 7, 37, 23, 40, 7, 43, 11, 40, 23, 41, 46, 40, 4, 12, 8, 49, 36, 47, 12, 1, 34, 38, 41, 20, 21, 46, 33, 18, 40, 8, 48, 29, 33, 17, 27, 49, 22, 45, 14, 21, 11, 18, 16, 43, 7, 15, 10, 45, 37, 27, 45, 1, 8, 46, 49, 48, 18, 19, 19, 1, 50, 47, 45, 17, 49, 34, 19, 49, 14, 33, 8, 26, 25, 2, 36, 11, 32, 23, 36, 11, 39, 1, 19, 34, 15, 34, 18, 20, 15, 12, 2, 7, 11, 50, 33, 26, 15, 40, 41, 49, 9, 39, 21, 10, 24, 44, 29, 1, 23, 20, 33, 17, 2, 21, 13, 45, 15, 15, 7, 17, 14, 40, 39, 6, 9, 36, 47, 8, 27, 6, 32, 4, 21, 43, 28, 46, 10, 17, 18, 9, 49, 15, 25, 13, 2, 35, 6, 9, 4, 20, 40, 22, 39, 39, 30, 36, 17, 16, 40, 25, 45, 24, 30, 11, 35, 21, 26, 18, 9, 7, 32, 26, 21, 28, 49, 18, 41, 26, 8, 21, 8, 20, 8, 27, 4, 23, 38, 36, 35, 31, 4, 24, 11, 12, 34, 26, 37, 4, 35, 41, 40, 13, 39, 42, 49, 21, 34, 34, 8, 44, 24, 15, 41, 23, 17, 48, 35, 25, 40, 23, 43, 23, 47, 13, 33, 31, 33, 13, 25, 26, 17, 8, 17, 36, 7, 36, 4, 45, 18, 1, 46, 21, 12, 40, 2, 46, 38, 42, 28, 21, 23, 47, 8, 38, 9, 38, 44, 20, 17, 9, 21, 50, 42, 11, 12, 43, 29, 43, 47, 36, 11, 13, 29, 25, 12, 32, 14, 37, 10, 23, 44, 2, 23, 48, 26, 8, 28, 29, 17, 43, 29, 20, 33, 29, 36, 6, 5, 30, 44, 37, 44, 41, 17, 8, 8, 20, 24, 18, 49, 8, 23, 11, 38, 1, 36, 31, 35, 24, 38, 26, 1, 16, 24, 25, 48, 21, 32, 15, 35, 42, 12, 28, 25, 48, 24, 3, 50, 40, 27, 31, 35, 22, 27, 45, 30, 24, 25, 29, 9, 21, 27, 31, 48, 24, 12, 22, 14, 41, 26, 4, 38, 4, 13, 11, 23, 10, 7, 17, 15, 23, 35, 5, 46, 20, 11, 28, 1, 50, 48, 42, 2, 34, 28, 32, 39, 43, 45, 38, 41, 1, 50, 16, 12, 8, 7, 14, 3, 40, 1, 40, 12, 45, 41, 14, 39, 40, 50, 50, 41, 30, 4, 15, 44, 29, 36, 34, 48, 37, 46, 50, 33, 7, 12, 20, 7, 21, 11, 17, 20, 31, 14, 12, 16, 2, 48, 12, 50, 23, 33, 40, 12, 32, 33, 17, 15, 2, 37, 19, 10, 14, 24, 3, 7, 27, 33, 21, 2, 19, 10, 42, 25, 16, 15, 44, 7, 21, 3, 22, 3, 3, 25, 23, 24, 12, 45, 24, 10, 19, 23, 34, 22, 48, 34, 5, 42, 33, 46, 6, 29, 19, 15, 22, 36, 50, 23, 40, 27, 20, 38, 43, 24, 12, 29, 8, 45, 50, 12, 15, 24, 47, 47, 3, 47, 12, 33, 27, 35, 47, 16, 28, 39, 36, 35, 9, 46, 44, 33, 25, 30, 23, 6, 28, 45, 29, 12, 33, 43, 24, 38, 41, 40, 8, 42, 41, 7, 28, 27, 31, 26, 48, 50, 19, 23, 12, 26, 3, 15, 45, 28, 13, 29, 33, 45, 3, 45, 7, 39, 37, 47, 4, 23, 46, 25, 7, 11, 47, 29, 1, 45, 44, 12, 8, 7, 25, 28, 34, 11, 37, 34, 25, 38, 28, 35, 31, 31, 30, 29, 12, 15, 20, 24, 11, 23, 2, 44, 31, 4, 3, 49, 27, 16, 19, 27, 17, 24, 33, 1, 33, 14, 32, 40, 32, 46, 44, 19, 21, 48, 27, 24, 42, 43, 33, 41, 23, 30, 23, 32, 27, 17, 8, 7, 21, 42, 16, 40, 28, 26, 45, 29, 12, 46, 40, 24, 25, 12, 8, 31, 30, 49, 2, 36, 50, 42, 40, 35, 15, 31, 49, 5, 20, 40, 37, 15, 8, 46, 15, 37, 17, 38, 43, 22, 35, 12, 3, 49, 29, 36, 21, 43, 40, 31, 1, 42, 37, 24, 5, 11, 12, 18, 6, 21, 39, 47, 35, 17, 31, 12, 39, 24, 9, 20, 47, 15, 49, 12, 3, 28, 42, 21, 1, 6, 4, 8, 20, 26, 9, 12, 13, 22, 2, 13, 33, 21, 29, 7, 46, 45, 4, 28, 31, 34, 28, 18, 48, 26, 46, 2, 27, 28, 39, 14, 34, 1, 46, 48, 30, 47, 13, 10, 21, 14, 26, 27, 15, 24, 18, 24, 36, 12, 17, 41, 47, 2, 46, 35, 27, 43, 29, 18, 19, 5, 6, 30, 1, 24, 21, 1, 38, 42, 42, 38, 33, 24, 28, 35, 43, 2, 18, 40, 31, 15, 14, 21, 31, 16, 26, 46, 39, 6, 33, 28, 17, 8, 31, 11, 41, 40, 32, 21, 24, 32, 47, 3, 7, 25, 39, 49, 4, 35, 17, 20, 14, 47, 50, 15, 4, 26, 19, 46, 28, 17, 41, 1, 2, 40, 33, 3, 41, 15, 12, 14, 5, 36, 2, 26, 39, 47, 8, 35, 34, 44, 39, 23, 21, 29, 17, 1, 18, 5, 26, 50, 11, 41, 3, 11, 18, 37, 33, 30, 41, 36, 50, 32, 45, 44, 30, 30, 4, 25, 31, 28, 11, 4, 47, 4, 23, 21, 31, 12, 11, 43, 41, 20, 30, 41, 11, 44, 20, 46, 3, 26, 44, 32, 46, 1, 32, 19, 31, 12, 43, 20, 15, 20, 35, 4, 44, 40, 40, 23, 30, 27, 12, 38, 12, 15, 8, 50, 41, 12, 50, 14, 30, 11, 16, 12, 18, 2, 27, 21, 2, 50, 23, 31, 4, 4, 28, 25, 1, 31, 31, 45, 30, 38, 44, 43, 7, 7, 1, 22, 24, 33, 14, 3, 8, 13, 43, 32, 46, 16, 50, 11, 18, 45, 12, 34, 47, 18, 50, 24, 22, 26, 20, 26, 32, 26, 47, 40, 24, 19, 9, 33, 4, 22, 12, 24, 19, 50, 27, 50, 36, 43, 48, 29, 6, 34, 14, 42, 3, 47, 46, 19, 25, 45, 27, 21, 27, 30, 8, 28, 32, 31, 2, 35, 50, 8, 14, 37, 7, 3, 19, 47, 27, 1, 50, 34, 9, 39, 29, 16, 40, 35, 38, 35, 16, 41, 4, 49, 7, 11, 35, 2, 8, 34, 43, 11, 22, 26, 34, 39, 22, 41, 1, 43, 37, 23, 20, 42, 7, 21, 35, 23, 25, 23, 26, 41, 49, 4, 8, 16, 11, 50, 38, 28, 20, 38, 15, 15, 32, 4, 30, 10, 33, 19, 29, 29, 41, 22, 11, 21, 41, 1, 1, 50, 29, 47, 18, 6, 12, 36, 19, 4, 5, 33, 19, 31, 4, 18, 47, 21, 8, 16, 46, 25, 39, 28, 10, 15, 50, 36, 32, 3, 18, 5, 26, 1, 27, 17, 7, 26, 10, 42, 15, 44, 38, 3, 27, 37, 36, 19, 1, 41, 12, 44, 33, 22, 36, 41, 43, 7, 41, 4, 23, 22, 46, 32, 3, 45, 28, 10, 33, 12, 19, 3, 5, 6, 43, 8, 19, 47, 38, 16, 1, 33, 24, 4, 25, 13, 19, 7, 18, 2, 23, 9, 20, 24, 28, 41, 32, 36, 28, 9, 33, 12, 44, 33, 19, 38, 18, 2, 20, 17, 36, 39, 33, 36, 2, 34, 41, 18, 37, 18, 33, 19, 46, 31, 48, 15, 27, 10, 18, 36, 18, 12, 12, 21, 21, 32, 15, 17, 21, 36, 21, 37, 6, 18, 4, 2, 25, 48, 15, 11, 2, 13, 8, 45, 39, 21, 19, 40, 25, 5, 7, 47, 48, 3, 44, 36, 39, 41, 25, 39, 49, 5, 11, 35, 12, 46, 11, 45, 44, 1, 35, 15, 26, 41, 17, 31, 12, 6, 20, 15, 20, 18, 15, 20, 47, 22, 27, 47, 32, 5, 43, 24, 42, 40, 27, 27, 6, 24, 43, 9, 35, 27, 18, 21, 46, 19, 16, 26, 21, 40, 26, 26, 18, 45, 23, 28, 44, 4, 20, 17, 6, 29, 48, 48, 13, 11, 34, 46, 10, 2, 21, 41, 17, 10, 9, 2, 48, 35, 1, 26, 42, 11, 36, 3, 50, 36, 13, 4, 23, 35, 38, 26, 42, 38, 2, 37, 35, 23, 21, 43, 44, 27, 37, 28, 15, 18, 8, 20, 3, 48, 7, 18, 12, 35, 9, 15, 11, 49, 8, 34, 32, 38, 20, 17, 1, 24, 35, 7, 11, 12, 46, 11, 15, 37, 33, 47, 39, 12, 34, 19, 39, 49, 24, 11, 3, 33, 11, 40, 7, 21, 37, 25, 48, 17, 48, 9, 12, 25, 44, 1, 10, 44, 16, 31, 12, 23, 23, 43, 42, 30, 16, 9, 7, 29, 4, 14, 11, 6, 14, 32, 1, 39, 48, 43, 23, 15, 36, 37, 4, 21, 4, 1, 49, 39, 41, 12, 10, 2, 23, 32, 19, 23, 9, 25, 12, 24, 14, 7, 30, 1, 37, 20, 48, 13, 33, 2, 1, 45, 39, 21, 43, 38, 40, 23, 2, 7, 1, 12, 41, 42, 50, 37, 11, 23, 34, 15, 28, 12, 39, 8, 8, 12, 24, 41, 32, 32, 3, 29, 45, 27, 1, 1, 45, 6, 49, 31, 47, 12, 43, 8, 2, 42, 39, 31, 45, 46, 27, 17, 2, 18, 31, 37, 20, 11, 48, 12, 26, 19, 1, 9, 49, 49, 4, 26, 1, 1, 41, 26, 46, 40, 19, 17, 17, 46, 23, 44, 16, 42, 49, 28, 37, 1, 14, 42, 11, 34, 14, 11, 17, 7, 6, 49, 25, 30, 19, 44, 7, 43, 4, 45, 1, 44, 6, 36, 35, 28, 2, 31, 3, 33, 10, 16, 43, 12, 44, 2, 32, 43, 21, 23, 6, 26, 15, 27, 37, 40, 5, 48, 28, 15, 20, 11, 13, 33, 5, 40, 1, 20, 21, 14, 20, 46, 33, 36, 50, 1, 43, 29, 28, 38, 15, 9, 17, 21, 46, 8, 31, 17, 12, 38, 17, 13, 3, 29, 1, 23, 43, 11, 25, 1, 31, 1, 4, 1, 46, 26, 16, 8, 23, 12, 6, 19, 49, 37, 38, 38, 37, 22, 44, 45, 12, 45, 19, 21, 40, 3, 4, 41, 41, 40, 8, 24, 48, 42, 15, 44, 22, 18, 34, 37, 30, 12, 11, 3, 3, 32, 50, 22, 26, 2, 8, 8, 14, 9, 36, 3, 44, 36, 40, 5, 49, 1, 1, 14, 12, 15, 20, 46, 25, 39, 11, 7, 10, 42, 27, 8, 34, 45, 17, 15, 39, 31, 26, 33, 39, 31, 47, 18, 19, 17, 40, 23, 15, 15, 22, 33, 31, 9, 12, 4, 10, 11, 21, 4, 30, 26, 5, 15, 47, 1, 21, 25, 2, 25, 23, 18, 23, 1, 48, 35, 33, 33, 43, 50, 9, 41, 50, 1, 4, 5, 48, 50, 3, 49, 28, 10, 19, 38, 19, 35, 2, 42, 32, 41, 40, 23, 40, 50, 48, 3, 3, 10, 20, 37, 15, 43, 48, 39, 27, 43, 30, 24, 16, 40, 33, 39, 41, 19, 15, 30, 45, 50, 8, 48, 27, 3, 24, 33, 4, 29, 47, 9, 50, 37, 24, 9, 21, 37, 19, 26, 38, 5, 7, 39, 25, 37, 6, 44, 22, 38, 1, 31, 23, 5, 42, 45, 29, 36, 40, 15, 38, 20, 22, 22, 50, 50, 40, 42, 44, 26, 17, 11, 50, 19, 50, 21, 40, 38, 15, 27, 41, 9, 44, 43, 37, 47, 31, 22, 10, 50, 3, 16, 30, 44, 45, 50, 39, 18, 4, 20, 33, 35, 26, 21, 39, 35, 4, 49, 29, 15, 21, 20, 39, 14, 9, 26, 17, 4, 24, 42, 49, 30, 6, 47, 8, 16, 15, 40, 37, 5, 31, 23, 47, 18, 45, 41, 36, 50, 16, 7, 43, 24, 13, 21, 17, 12, 49, 46, 35, 28, 2, 34, 33, 48, 9, 6, 37, 9, 1, 22, 22, 49, 45, 1, 14, 10, 50, 47, 30, 17, 8, 50, 43, 38, 7, 17, 19, 28, 14, 44, 11, 43, 19, 28, 47, 12, 39, 36, 6, 10, 38, 24, 25, 20, 37, 3, 31, 10, 8, 47, 27, 11, 22, 40, 16, 40, 28, 21, 27, 11, 33, 6, 49, 20, 37, 8, 4, 17, 43, 11, 45, 11, 32, 41, 45, 30, 40, 33, 34, 4, 35, 42, 39, 30, 21, 18, 1, 17, 49, 44, 34, 20, 19, 42, 2, 43, 15, 34, 4, 46, 3, 24, 43, 27, 9, 8, 41, 33, 49, 30, 19, 2, 43, 24, 8, 31, 6, 16, 37, 12, 48, 33, 25, 34, 23, 17, 40, 23, 38, 17, 31, 37, 50, 22, 2, 2, 19, 23, 27, 31, 46, 41, 6, 3, 23], \"y\": [1, 45, 21, 34, 13, 36, 3, 30, 10, 31, 41, 14, 47, 41, 7, 47, 17, 36, 16, 8, 44, 32, 29, 10, 22, 13, 34, 46, 25, 39, 36, 38, 19, 7, 38, 22, 38, 32, 19, 43, 41, 36, 31, 3, 8, 3, 29, 39, 34, 39, 39, 18, 31, 24, 13, 50, 45, 23, 20, 27, 25, 41, 21, 24, 21, 21, 48, 37, 8, 46, 39, 49, 28, 24, 12, 45, 38, 8, 9, 44, 3, 30, 18, 16, 45, 6, 49, 16, 26, 11, 37, 41, 32, 24, 23, 31, 35, 20, 27, 24, 49, 48, 44, 49, 24, 46, 48, 24, 21, 43, 46, 34, 48, 30, 11, 47, 18, 15, 16, 34, 10, 17, 31, 43, 43, 6, 17, 16, 33, 5, 22, 23, 23, 29, 12, 18, 47, 41, 13, 43, 24, 9, 39, 42, 33, 13, 37, 32, 13, 12, 32, 23, 47, 15, 47, 49, 29, 14, 28, 33, 6, 3, 30, 7, 15, 45, 40, 22, 8, 15, 39, 12, 44, 15, 6, 14, 49, 45, 23, 31, 19, 8, 36, 43, 40, 20, 17, 11, 16, 47, 37, 36, 8, 3, 7, 23, 33, 18, 13, 15, 40, 19, 45, 41, 31, 32, 19, 9, 2, 12, 38, 31, 39, 32, 14, 43, 15, 39, 22, 26, 8, 37, 37, 49, 8, 13, 24, 36, 48, 46, 25, 32, 21, 38, 38, 49, 25, 16, 29, 7, 27, 17, 21, 34, 27, 41, 15, 21, 15, 6, 28, 26, 24, 41, 27, 24, 3, 10, 46, 24, 2, 22, 43, 38, 37, 7, 26, 35, 27, 44, 28, 29, 50, 50, 48, 39, 43, 5, 44, 34, 12, 22, 25, 24, 19, 25, 47, 29, 9, 15, 36, 48, 22, 43, 45, 34, 42, 24, 47, 15, 33, 30, 14, 25, 49, 43, 29, 33, 29, 17, 41, 42, 27, 18, 47, 9, 16, 3, 26, 3, 8, 24, 19, 42, 46, 38, 50, 45, 11, 29, 45, 32, 3, 3, 49, 37, 37, 33, 13, 27, 48, 22, 9, 30, 32, 28, 43, 18, 38, 36, 31, 10, 15, 3, 15, 1, 18, 17, 27, 10, 10, 6, 18, 19, 18, 21, 11, 1, 27, 20, 3, 10, 31, 4, 27, 3, 18, 37, 18, 30, 8, 24, 6, 19, 17, 13, 44, 9, 41, 48, 40, 49, 23, 38, 29, 19, 37, 29, 28, 13, 35, 39, 2, 48, 27, 3, 2, 37, 18, 50, 39, 8, 32, 3, 1, 36, 43, 27, 7, 5, 10, 26, 5, 33, 35, 3, 35, 2, 23, 16, 3, 40, 7, 34, 32, 1, 37, 34, 17, 28, 16, 39, 1, 28, 19, 50, 19, 20, 21, 27, 36, 6, 18, 35, 39, 41, 31, 40, 6, 27, 38, 34, 21, 17, 37, 40, 46, 17, 32, 35, 13, 44, 14, 47, 12, 37, 39, 7, 14, 3, 43, 48, 6, 16, 6, 15, 15, 19, 3, 34, 19, 37, 32, 10, 21, 19, 31, 2, 31, 19, 21, 48, 5, 4, 49, 18, 3, 10, 2, 36, 46, 39, 44, 27, 1, 49, 41, 25, 25, 18, 27, 7, 38, 33, 8, 24, 19, 28, 19, 26, 10, 22, 13, 23, 44, 42, 10, 49, 13, 34, 6, 6, 11, 7, 8, 33, 10, 28, 11, 1, 49, 6, 5, 16, 40, 49, 4, 4, 50, 34, 13, 16, 50, 43, 15, 18, 43, 17, 4, 49, 50, 1, 6, 48, 6, 15, 1, 30, 7, 27, 42, 45, 40, 21, 34, 35, 1, 28, 30, 46, 42, 11, 1, 26, 2, 5, 38, 1, 41, 50, 32, 44, 27, 42, 17, 2, 4, 13, 3, 48, 36, 34, 11, 36, 36, 35, 40, 3, 6, 35, 26, 25, 32, 41, 10, 22, 27, 26, 48, 34, 13, 47, 8, 37, 44, 1, 35, 24, 1, 20, 32, 20, 2, 39, 46, 40, 27, 30, 6, 43, 48, 16, 30, 42, 37, 3, 3, 3, 15, 32, 3, 39, 22, 12, 6, 1, 7, 50, 45, 26, 30, 24, 21, 16, 32, 10, 30, 19, 12, 42, 18, 18, 17, 24, 10, 1, 24, 36, 6, 6, 8, 50, 37, 45, 46, 49, 48, 1, 37, 11, 12, 21, 6, 27, 6, 36, 24, 5, 10, 45, 26, 21, 29, 7, 3, 31, 1, 3, 15, 35, 1, 15, 35, 1, 29, 39, 34, 18, 35, 31, 36, 41, 15, 49, 39, 8, 18, 15, 34, 9, 39, 13, 13, 29, 15, 47, 29, 14, 29, 42, 26, 14, 40, 15, 6, 10, 12, 25, 12, 17, 29, 22, 26, 37, 20, 17, 44, 31, 7, 41, 1, 20, 10, 25, 17, 43, 24, 29, 37, 44, 11, 43, 23, 23, 29, 10, 1, 43, 15, 26, 24, 18, 25, 2, 8, 19, 49, 19, 13, 17, 14, 19, 48, 12, 6, 39, 41, 35, 43, 20, 34, 32, 28, 27, 7, 38, 9, 44, 29, 10, 31, 45, 14, 33, 49, 1, 13, 27, 32, 49, 13, 19, 6, 25, 13, 38, 48, 7, 47, 15, 32, 36, 30, 35, 11, 39, 8, 7, 6, 17, 33, 23, 49, 10, 36, 28, 6, 13, 28, 23, 14, 26, 32, 29, 13, 13, 16, 46, 18, 44, 9, 26, 40, 11, 7, 3, 31, 26, 42, 24, 6, 37, 49, 3, 44, 19, 4, 46, 11, 16, 32, 34, 48, 44, 18, 24, 36, 38, 41, 29, 3, 39, 42, 23, 44, 22, 10, 35, 28, 35, 24, 44, 26, 36, 19, 48, 22, 18, 27, 41, 35, 17, 7, 29, 17, 6, 44, 15, 36, 30, 12, 41, 18, 44, 25, 47, 14, 38, 17, 19, 26, 38, 46, 34, 45, 17, 26, 10, 14, 35, 14, 37, 31, 33, 8, 43, 45, 31, 32, 38, 6, 25, 32, 19, 43, 3, 35, 17, 37, 4, 32, 44, 30, 28, 12, 39, 39, 29, 10, 9, 36, 49, 6, 18, 4, 32, 18, 12, 45, 30, 2, 21, 25, 6, 4, 6, 29, 50, 37, 9, 10, 45, 1, 42, 19, 15, 28, 29, 48, 6, 10, 7, 39, 15, 38, 9, 31, 26, 19, 36, 4, 39, 26, 15, 32, 26, 24, 22, 45, 45, 21, 2, 17, 23, 48, 25, 34, 18, 1, 19, 17, 6, 34, 23, 9, 48, 42, 40, 18, 30, 33, 5, 11, 45, 49, 42, 40, 44, 16, 45, 6, 30, 13, 40, 21, 5, 21, 27, 8, 10, 48, 25, 22, 17, 31, 13, 42, 10, 7, 5, 34, 9, 23, 10, 24, 33, 30, 44, 19, 17, 24, 31, 37, 25, 27, 7, 37, 11, 34, 2, 20, 30, 14, 44, 1, 45, 15, 6, 30, 3, 38, 37, 35, 17, 39, 10, 8, 19, 34, 42, 15, 21, 5, 31, 22, 48, 40, 48, 17, 13, 39, 5, 2, 24, 44, 44, 32, 42, 31, 19, 12, 14, 25, 11, 39, 19, 15, 19, 40, 13, 9, 14, 26, 43, 18, 41, 43, 22, 13, 21, 19, 5, 15, 40, 25, 8, 15, 19, 6, 13, 30, 12, 17, 21, 18, 6, 5, 27, 28, 27, 8, 3, 2, 43, 23, 25, 42, 15, 18, 22, 43, 37, 9, 8, 23, 1, 50, 43, 11, 8, 19, 48, 7, 11, 29, 8, 39, 39, 12, 49, 10, 46, 25, 12, 36, 3, 40, 43, 36, 45, 11, 25, 27, 44, 36, 21, 26, 8, 23, 25, 15, 43, 32, 25, 16, 19, 21, 12, 4, 11, 47, 47, 42, 36, 32, 24, 19, 37, 4, 46, 15, 46, 4, 10, 22, 36, 50, 29, 46, 30, 3, 4, 7, 50, 47, 6, 45, 39, 35, 5, 29, 17, 48, 10, 26, 27, 26, 32, 9, 3, 43, 20, 44, 49, 33, 50, 10, 1, 46, 39, 50, 15, 47, 18, 23, 35, 15, 34, 41, 23, 6, 43, 7, 43, 23, 11, 34, 2, 43, 3, 44, 11, 26, 27, 29, 32, 45, 19, 42, 27, 18, 32, 25, 16, 5, 8, 46, 3, 2, 19, 18, 28, 29, 4, 50, 28, 25, 50, 39, 18, 29, 20, 18, 29, 30, 20, 18, 43, 21, 26, 48, 44, 47, 17, 2, 32, 47, 47, 26, 50, 5, 4, 25, 1, 24, 26, 17, 15, 7, 36, 38, 40, 6, 32, 39, 31, 38, 9, 5, 15, 45, 25, 31, 40, 32, 44, 25, 28, 40, 23, 43, 35, 11, 6, 6, 40, 26, 7, 12, 42, 39, 34, 15, 6, 39, 35, 29, 39, 39, 3, 29, 42, 13, 21, 30, 20, 7, 22, 20, 32, 46, 6, 43, 22, 19, 47, 6, 12, 27, 38, 46, 38, 31, 3, 31, 50, 42, 2, 10, 13, 39, 22, 44, 40, 15, 36, 6, 38, 17, 21, 41, 24, 6, 9, 47, 19, 18, 11, 44, 32, 37, 21, 10, 4, 41, 15, 33, 4, 31, 13, 21, 13, 1, 27, 4, 6, 8, 22, 25, 30, 40, 25, 33, 50, 6, 3, 3, 34, 8, 27, 30, 41, 31, 10, 5, 42, 45, 27, 48, 3, 48, 34, 36, 18, 45, 15, 38, 6, 34, 39, 29, 45, 10, 26, 17, 37, 50, 10, 41, 45, 20, 19, 46, 2, 1, 46, 13, 42, 13, 49, 9, 6, 3, 6, 22, 30, 29, 32, 37, 48, 33, 15, 47, 25, 39, 31, 16, 50, 3, 24, 12, 44, 47, 4, 41, 34, 37, 26, 47, 5, 20, 26, 14, 7, 13, 10, 21, 42, 6, 10, 27, 42, 27, 21, 13, 40, 5, 4, 14, 20, 45, 45, 5, 7, 50, 44, 39, 50, 48, 37, 30, 33, 17, 9, 34, 38, 13, 12, 3, 13, 9, 45, 48, 50, 13, 46, 46, 32, 31, 50, 48, 14, 7, 14, 22, 34, 39, 3, 34, 40, 49, 49, 3, 30, 28, 7, 30, 40, 46, 15, 12, 34, 33, 49, 41, 3, 22, 9, 20, 47, 46, 1, 41, 17, 13, 4, 48, 38, 20, 14, 49, 2, 45, 44, 43, 29, 38, 30, 28, 18, 5, 1, 50, 36, 15, 3, 2, 12, 15, 18, 37, 15, 42, 10, 29, 41, 17, 43, 25, 6, 15, 19, 12, 44, 39, 5, 1, 21, 18, 21, 50, 21, 45, 38, 20, 46, 28, 35, 41, 20, 47, 21, 3, 44, 38, 37, 10, 50, 44, 41, 31, 34, 38, 26, 47, 5, 1, 49, 11, 48, 10, 28, 33, 33, 6, 41, 16, 46, 6, 40, 48, 48, 16, 49, 1, 19, 45, 42, 49, 18, 48, 7, 33, 30, 46, 24, 20, 47, 29, 7, 33, 50, 27, 43, 45, 45, 13, 29, 31, 36, 31, 18, 33, 13, 36, 3, 21, 25, 46, 24, 14, 33, 38, 3, 8, 15, 4, 25, 42, 3, 50, 29, 6, 31, 40, 23, 25, 19, 4, 11, 2, 21, 4, 27, 1, 10, 35, 4, 50, 9, 10, 49, 31, 26, 9, 27, 8, 46, 47, 21, 29, 3, 32, 28, 10, 20, 1, 33, 20, 40, 13, 26, 25, 32, 4, 39, 3, 42, 42, 41, 10, 49, 15, 19, 42, 6, 41, 15, 32, 31, 30, 8, 4, 28, 8, 3, 38, 24, 42, 33, 10, 38, 19, 27, 41, 27, 13, 8, 29, 11, 13, 4, 15, 7, 5, 22, 34, 17, 50, 26, 30, 40, 37, 15, 49, 33, 13, 44, 6, 21, 50, 19, 36, 9, 34, 27, 30, 35, 26, 7, 8, 41, 25, 13, 36, 7, 49, 23, 44, 2, 10, 32, 14, 15, 42, 30, 36, 9, 26, 31, 19, 48, 3, 45, 10, 35, 24, 4, 24, 23, 43, 13, 22, 15, 8, 34, 46, 6, 25, 36, 3, 25, 31, 18, 34, 34, 40, 43, 50, 42, 9, 45, 15, 41, 23, 15, 15, 21, 33, 49, 42, 50, 43, 34, 31, 23, 28, 5, 39, 29, 50, 49, 19, 41, 41, 50, 32, 3, 2, 49, 9, 45, 16, 37, 2, 35, 42, 21, 33, 40, 18, 47, 46, 40, 49, 30, 3, 43, 26, 35, 39, 33, 1, 18, 29, 26, 19, 28, 49, 27, 22, 3, 11, 30, 42, 17, 21, 18, 39, 27, 8, 18, 2, 17, 2, 6, 23, 33, 38, 38, 13, 31, 19, 23, 36, 38, 45, 15, 27, 35, 1, 10, 15, 19, 35, 39, 11, 41, 12, 38, 36, 16, 29, 20, 34, 6, 33, 10, 35, 18, 10, 46, 32, 37, 19, 15, 17, 48, 47, 16, 36, 30, 41, 5, 50, 3, 20, 38, 19, 25, 3, 3, 39, 8, 17, 2, 37, 4, 12, 20, 32, 15, 14, 37, 46, 29, 14, 48, 1, 22, 7, 10, 33, 42, 6, 24, 6, 26, 15, 29, 3, 17, 39, 23, 1, 44, 6, 40, 3, 3, 15, 10, 17, 6, 30, 41, 17, 21, 10, 42, 11, 38, 28, 28, 35, 39, 16, 23, 36, 22, 4, 48, 39, 26, 29, 13, 27, 4, 5, 23, 34, 14, 7, 9, 17, 35, 4, 8, 1, 25, 47, 32, 27, 25, 29, 9, 14, 12, 42, 2, 15, 36, 30, 45, 38, 18, 45, 25, 45, 5, 19, 47, 21, 17, 30, 9, 14, 50, 27, 1, 17, 24, 1, 22, 12, 24, 37, 26, 28, 20, 7, 30, 10, 23, 12, 38, 24, 36, 13, 17, 15, 18, 15, 13, 3, 6, 34, 3, 46, 32, 10, 50, 50, 10, 5, 12, 20, 40, 26, 37, 3, 37, 19, 41, 2, 40, 45, 24, 6, 48, 25, 9, 21, 7, 1, 36, 9, 36, 5, 10, 4, 34, 28, 9, 26, 6, 29, 43, 23, 41, 38, 7, 25, 28, 45, 19, 6, 29, 4, 1, 13, 48, 48, 4, 35, 7, 25, 30, 20, 48, 27, 18, 31, 1, 49, 46, 3, 6, 19, 31, 21, 30, 48, 18, 31, 30, 5, 30, 8, 5, 43, 37, 30, 29, 17, 17, 34, 34, 8, 20, 27, 27, 38, 36, 45, 36, 1, 28, 43, 23, 48, 41, 11, 50, 33, 46, 33, 10, 37, 44, 27, 37, 1, 43, 5, 48, 44, 11, 19, 46, 13, 45, 30, 7, 1, 44, 3, 44, 18, 50, 39, 46, 47, 35, 34, 17, 25, 11, 20, 19, 47, 35, 50, 40, 31, 20, 13, 30, 10, 50, 21, 15, 19, 1, 40, 6, 5, 29, 21, 48, 30, 46, 39, 44, 27, 25, 10, 29, 43, 26, 41, 21, 6, 20, 17, 3, 38, 34, 16, 10, 29, 49, 27, 1, 13, 32, 34, 10, 31, 12, 4, 26, 4, 49, 27, 2, 38, 12, 45, 14, 23, 32, 28, 43, 31, 44, 11, 18, 11, 18, 50, 40, 22, 47, 29, 23, 18, 1, 22, 15, 4, 15, 23, 27, 1, 28, 8, 37, 3, 6, 13, 40, 10, 1, 22, 9, 35, 43, 40, 15, 45, 22, 9, 39, 35, 29, 7, 44, 6, 14, 1, 9, 35, 16, 44, 13, 36, 46, 3, 40, 4, 30, 46, 48, 4, 29, 14, 23, 40, 5, 50, 41, 37, 33, 25, 8, 22, 48, 3, 33, 10, 7, 18, 34, 44, 6, 6, 36, 2, 31, 19, 37, 15, 7, 48, 49, 1, 19, 42, 45, 27, 6, 5, 24, 31, 44, 8, 19, 41, 7, 18, 5, 13, 15, 20, 15, 26, 10, 35, 47, 45, 18, 23, 34, 9, 26, 42, 6, 38, 40, 32, 1, 6, 47, 48, 21, 28, 45, 23, 36, 42, 25, 25, 34, 28, 41, 13, 31, 22, 1, 15, 33, 40, 29, 25, 33, 29, 47, 28, 7, 17, 44, 31, 19, 27, 6, 8, 42, 16, 37, 16, 21, 42, 35, 50, 10, 45, 42, 50, 43, 13, 15, 25, 27, 49, 11, 34, 41, 40, 41, 39, 20, 17, 28, 13, 9, 9, 37, 31, 25, 8, 17, 36, 3, 29, 40, 34, 21, 43, 47, 5, 47, 14, 43, 9, 25, 42, 31, 18, 8, 15, 9, 15, 40, 34, 9, 5, 13, 34, 1, 10, 4, 1, 20, 31, 14, 38, 25, 37, 38, 45, 26, 5, 19, 41, 36, 15, 8, 23, 3, 44, 17, 38, 32, 28, 26, 37, 40, 47, 24, 10, 42, 19, 29, 2, 50, 23, 41, 50, 6, 38, 46, 6, 49, 22, 37, 36, 46, 37, 42, 42, 45, 46, 22, 19, 43, 27, 34, 38, 32, 19, 22, 12, 47, 20, 38, 50, 16, 30, 25, 18, 32, 4, 33, 25, 35, 6, 48, 7, 23, 36, 33, 6, 33, 40, 44, 32, 17, 34, 38, 22, 15, 17, 1, 41, 1, 15, 7, 46, 21, 24, 44, 25, 13, 29, 1, 32, 9, 7, 32, 25, 34, 30, 28, 20, 10, 4, 21, 28, 13, 49, 12, 21, 6, 47, 23, 21, 12, 21, 46, 24, 12, 8, 10, 40, 25, 36, 35, 48, 23, 15, 24, 21, 23, 21, 24, 40, 1, 46, 20, 16, 1, 13, 40, 20, 36, 41, 13, 10, 15, 49, 1, 4, 23, 38, 36, 41, 2, 33, 36, 17, 30, 11, 6, 8, 44, 8, 19, 11, 27, 21, 46, 48, 32, 8, 4, 42, 14, 11, 44, 39, 13, 23, 30, 38, 32, 14, 32, 27, 41, 17, 25, 4, 26, 10, 24, 11, 36, 37, 42, 37, 42, 6, 4, 27, 23, 24, 16, 27, 15, 14, 42, 50, 48, 29, 37, 37, 12, 5, 33, 17, 41, 47, 10, 1, 42, 13, 41, 47, 31, 27, 29, 42, 18, 32, 22, 4, 17, 39, 13, 8, 44, 39, 6, 13, 40, 35, 15, 19, 8, 44, 16, 25, 3, 26, 24, 12, 10, 43, 33, 14, 2, 30, 9, 24, 1, 40, 13, 48, 48, 25, 43, 27, 7, 8, 15, 43, 34, 11, 27, 1, 24, 37, 46, 6, 30, 6, 19, 37, 25, 21, 23, 39, 32, 50, 39, 35, 3, 29, 29, 13, 41, 34, 40, 46, 37, 39, 41, 3, 17, 39, 22, 38, 22, 31, 36, 3, 23, 27, 48, 35, 46, 35, 34, 20, 45, 31, 7, 17, 3, 32, 44, 46, 27, 23, 21, 5, 29, 33, 38, 29, 49, 13, 3, 15, 49, 6, 1, 4, 35, 6, 13, 39, 41, 47, 17, 44, 36, 32, 2, 24, 15, 25, 8, 10, 1, 38, 39, 6, 45, 42, 22, 2, 35, 46, 43, 1, 45, 44, 10, 13, 49, 19, 43, 13, 23, 29, 13, 14, 18, 26, 20, 25, 30, 28, 37, 37, 42, 11, 14, 8, 36, 36, 3, 2, 10, 10, 44, 23, 40, 4, 13, 25, 10, 43, 48, 45, 11, 10, 13, 21, 34, 3, 44, 21, 30, 27, 3, 2, 18, 50, 47, 22, 13, 36, 29, 13, 45, 8, 49, 30, 21, 14, 2, 13, 23, 3, 41, 36, 30, 26, 19, 6, 4, 10, 19, 6, 10, 22, 7, 46, 19, 29, 36, 9, 5, 7, 31, 21, 20, 23, 44, 47, 4, 7, 32, 21, 18, 22, 3, 37, 10, 6, 20, 3, 28, 17, 44, 15, 40, 32, 43, 6, 33, 37, 28, 9, 23, 19, 31, 10, 14, 17, 40, 33, 20, 47, 34, 45, 6, 1, 12, 6, 22, 29, 15, 43, 47, 4, 40, 38, 36, 44, 2, 7, 26, 21, 47, 31, 50, 31, 10, 9, 2, 31, 7, 15, 3, 48, 42, 47, 41, 19, 35, 49, 16, 49, 50, 37, 14, 1, 45, 27, 45, 19, 24, 46, 26, 43, 45, 27, 47, 50, 35, 19, 29, 41, 1, 1, 10, 1, 45, 47, 49, 49, 26, 33, 37, 18, 6, 23, 1, 44, 10, 5, 16, 26, 10, 36, 17, 50, 1, 23, 46, 29, 25, 42, 47, 18, 28, 43, 34, 28, 12, 48, 31, 13, 45, 2, 43, 3, 37, 48, 9, 12, 47, 32, 13, 44, 34, 17, 31, 38, 38, 32, 17, 43, 11, 19, 11, 49, 48, 19, 36, 45, 18, 24, 18, 19, 16, 6, 8, 17, 9, 27, 17, 7, 8, 44, 18, 47, 40, 32, 49, 8, 9, 10, 6, 14, 15, 6, 14, 1, 7, 29, 4, 18, 8, 41, 42, 5, 47, 40, 43, 2, 44, 1, 25, 24, 18, 38, 24, 42, 45, 38, 27, 33, 24, 44, 41, 35, 26, 31, 50, 45, 37, 43, 13, 50, 38, 6, 24, 30, 42, 6, 41, 48, 31, 50, 35, 10, 4, 46, 34, 29, 50, 29, 26, 31, 30, 47, 48, 47, 22, 47, 15, 14, 31, 26, 36, 12, 1, 29, 18, 12, 12, 5, 38, 10, 5, 18, 19, 15, 21, 26, 25, 1, 25, 36, 36, 16, 43, 49, 40, 2, 41, 5, 9, 1, 37, 24, 9, 3, 17, 44, 28, 26, 26, 29, 8, 11, 34, 46, 47, 12, 46, 5, 2, 6, 3, 43, 1, 8, 16, 19, 21, 19, 34, 16, 11, 33, 38, 38, 4, 16, 16, 32, 26, 48, 48, 26, 37, 10, 35, 31, 50, 3, 38, 33, 35, 31, 48, 42, 32, 42, 44, 34, 18, 19, 1, 6, 32, 35, 29, 44, 45, 37, 40, 32, 45, 41, 10, 34, 28, 46, 32, 26, 1, 37, 49, 40, 9, 21, 41, 25, 6, 7, 23, 13, 5, 6, 22, 25, 47, 10, 42, 19, 17, 29, 17, 49, 15, 11, 28, 23, 35, 6, 10, 10, 17, 15, 10, 32, 38, 46, 39, 3, 42, 7, 9, 29, 12, 11, 36, 3, 32, 11, 35, 41, 17, 34, 1, 7, 36, 31, 14, 46, 22, 20, 20, 37, 25, 43, 30, 10, 5, 46, 3, 43, 38, 6, 47, 18, 49, 32, 19, 28, 15, 27, 45, 27, 33, 50, 24, 18, 10, 20, 39, 14, 50, 11, 25, 49, 21, 6, 30, 33, 30, 25, 36, 13, 40, 35, 12, 41, 9, 17, 41, 35, 24, 4, 40, 19, 33, 11, 6, 37, 48, 27, 41, 42, 39, 38, 1, 42, 33, 29, 21, 30, 32, 35, 29, 32, 9, 30, 10, 17, 41, 49, 6, 34, 39, 45, 28, 4, 22, 4, 1, 19, 8, 50, 50, 6, 49, 45, 13, 22, 36, 50, 1, 46, 6, 33, 19, 6, 12, 14, 27, 31, 11, 41, 20, 23, 49, 49, 23, 39, 22, 36, 47, 30, 19, 33, 17, 49, 35, 39, 1, 29, 11, 27, 19, 35, 11, 46, 2, 31, 3, 19, 37, 24, 46, 31, 22, 45, 35, 40, 1, 10, 32, 25, 32, 4, 10, 47, 21, 45, 21, 40, 18, 26, 47, 1, 48, 25, 10, 26, 28, 29, 42, 6, 13, 3, 42, 1, 42, 6, 24, 47, 48, 38, 14, 31, 6, 13, 14, 29, 39, 20, 39, 19, 46, 6, 25, 3, 36, 35, 44, 10, 20, 35, 15, 17, 20, 34, 39, 9, 19, 7, 13, 25, 3, 13, 19, 24, 41, 29, 10, 36, 16, 49, 15, 50, 39, 4, 25, 36, 42, 8, 35, 21, 27, 34, 22, 4, 6, 14, 27, 47, 49, 10, 6, 10, 2, 34, 6, 18, 18, 42, 3, 4, 26, 26, 28, 1, 36, 39, 4, 23, 19, 27, 32, 28, 43, 44, 20, 48, 9, 18, 6, 49, 3, 28, 27, 49, 20, 23, 46, 17, 47, 45, 44, 46, 28, 35, 47, 30, 10, 6, 50, 8, 32, 31, 46, 50, 42, 48, 38, 10, 2, 35, 34, 3, 18, 22, 28, 48, 3, 41, 18, 25, 33, 48, 15, 23, 5, 3, 25, 6, 43, 29, 5, 37, 29, 6, 46, 47, 26, 16, 37, 35, 14, 43, 27, 36, 26, 13, 40, 11, 33, 8, 29, 39, 46, 19, 50, 35, 48, 12, 21, 8, 40, 11, 41, 48, 47, 14, 27, 12, 11, 23, 40, 14, 6, 42, 17, 34, 30, 21, 38, 49, 3, 23, 5, 17, 20, 7, 1, 47, 4, 47, 28, 40, 7, 25, 45, 32, 44, 46, 32, 13, 23, 26, 50, 18, 7, 37, 27, 11, 42, 4, 1, 23, 45, 1, 37, 50, 49, 37, 18, 14, 1, 34, 30, 15, 39, 48, 24, 29, 29, 43, 2, 45, 35, 9, 32, 10, 34, 42, 3, 10, 45, 7, 30, 27, 35, 39, 49, 39, 42, 7, 26, 31, 50, 42, 49, 13, 22, 28, 10, 46, 32, 21, 17, 1, 31, 31, 17, 44, 40, 30, 50, 24, 3, 1, 29, 18, 48, 17, 11, 13, 11, 29, 45, 18, 30, 46, 8, 43, 38, 49, 6, 35, 25, 47, 7, 26, 27, 9, 18, 4, 18, 6, 42, 40, 32, 39, 7, 32, 15, 37, 23, 19, 12, 45, 12, 1, 40, 19, 22, 4, 14, 24, 23, 9, 30, 25, 24, 31, 35, 37, 17, 50, 42, 1, 21, 1, 15, 17, 3, 25, 32, 37, 15, 20, 34, 26, 9, 14, 1, 1, 15, 6, 1, 33, 33, 15, 50, 14, 1, 21, 5, 18, 47, 23, 39, 48, 33, 28, 36, 10, 21, 21, 11, 44, 48, 32, 15, 9, 43, 21, 28, 17, 1, 10, 24, 20, 3, 35, 1, 44, 37, 30, 25, 31, 16, 21, 22, 10, 19, 21, 22, 27, 41, 2, 20, 3, 45, 15, 15, 6, 3, 23, 40, 29, 37, 14, 14, 49, 5, 40, 41, 27, 5, 3, 15, 49, 14, 2, 14, 27, 19, 5, 42, 7, 24, 1, 49, 18, 13, 34, 10, 42, 46, 20, 41, 1, 13, 34, 1, 20, 5, 1, 25, 36, 24, 33, 15, 46, 39, 14, 25, 49, 24, 13, 25, 13, 49, 27, 18, 1, 19, 49, 34, 50, 21, 13, 22, 49, 24, 45, 30, 27, 10, 33, 1, 15, 24, 6, 43, 11, 31, 26, 46, 7, 5, 12, 24, 24, 15, 18, 42, 23, 17, 25, 35, 17, 7, 24, 41, 6, 24, 29, 45, 21, 1, 21, 34, 37, 37, 40, 26, 24, 1, 13, 33, 33, 11, 5, 27, 12, 5, 42, 43, 22, 33, 14, 45, 22, 6, 42, 26, 26, 11, 10, 18, 21, 15, 40, 1, 32, 14, 47, 7, 47, 47, 3, 21, 44, 36, 41, 24, 1, 39, 28, 31, 36, 4, 39, 35, 44, 3, 27, 6, 15, 12, 38, 4, 40, 26, 42, 15, 10, 31, 27, 1, 5, 8, 44, 2, 8, 10, 6, 6, 7, 5, 9, 50, 33], \"z\": [50, 47, 39, 39, 15, 42, 2, 33, 20, 44, 48, 34, 48, 43, 7, 48, 22, 35, 25, 6, 45, 40, 35, 16, 27, 20, 38, 46, 29, 43, 39, 39, 23, 18, 43, 22, 20, 37, 35, 44, 42, 38, 33, 2, 9, 19, 38, 45, 38, 44, 49, 26, 34, 27, 22, 50, 46, 25, 23, 28, 28, 39, 39, 28, 23, 29, 49, 46, 11, 48, 47, 50, 28, 49, 21, 47, 44, 7, 6, 47, 4, 31, 20, 19, 46, 8, 49, 19, 26, 45, 42, 45, 42, 31, 29, 34, 35, 34, 27, 27, 50, 48, 46, 49, 27, 49, 50, 26, 22, 45, 48, 42, 47, 35, 15, 48, 20, 11, 19, 34, 32, 18, 47, 41, 46, 20, 1, 35, 18, 7, 31, 4, 24, 32, 17, 35, 42, 40, 15, 43, 23, 8, 39, 47, 35, 15, 40, 38, 4, 15, 33, 27, 50, 16, 48, 50, 31, 16, 31, 34, 8, 2, 31, 6, 19, 46, 24, 50, 11, 22, 41, 10, 46, 20, 5, 15, 49, 46, 21, 32, 6, 9, 35, 25, 43, 19, 18, 8, 21, 49, 42, 40, 8, 5, 9, 25, 49, 19, 19, 18, 45, 24, 46, 44, 32, 43, 23, 5, 27, 11, 37, 33, 41, 34, 26, 45, 14, 42, 27, 16, 7, 45, 35, 50, 7, 13, 25, 43, 48, 47, 28, 35, 25, 41, 38, 48, 25, 20, 34, 7, 32, 45, 20, 39, 35, 46, 14, 24, 14, 3, 30, 41, 23, 46, 38, 26, 2, 10, 46, 47, 1, 24, 46, 43, 44, 9, 24, 40, 35, 50, 33, 29, 50, 50, 49, 42, 44, 2, 47, 34, 17, 32, 29, 29, 23, 31, 47, 28, 9, 12, 42, 49, 24, 43, 49, 33, 47, 29, 47, 16, 32, 32, 10, 25, 48, 43, 31, 27, 32, 19, 43, 46, 29, 19, 50, 10, 17, 3, 28, 10, 5, 31, 19, 22, 50, 47, 50, 46, 11, 47, 50, 44, 46, 3, 49, 43, 37, 40, 21, 38, 49, 33, 35, 30, 36, 29, 46, 29, 42, 41, 23, 13, 20, 2, 14, 8, 18, 22, 29, 19, 11, 49, 19, 20, 20, 21, 10, 4, 32, 23, 6, 37, 31, 2, 31, 39, 17, 37, 19, 32, 12, 49, 9, 17, 18, 13, 43, 4, 26, 48, 43, 46, 33, 38, 14, 16, 29, 32, 4, 13, 40, 35, 1, 41, 33, 21, 5, 37, 22, 46, 38, 17, 23, 16, 15, 41, 37, 29, 23, 12, 36, 26, 13, 34, 36, 16, 17, 15, 7, 16, 9, 50, 5, 21, 44, 27, 41, 44, 38, 42, 16, 44, 23, 35, 6, 50, 18, 7, 30, 26, 41, 3, 18, 50, 24, 41, 32, 37, 3, 50, 30, 26, 24, 20, 38, 41, 46, 39, 32, 36, 14, 47, 3, 46, 11, 39, 28, 6, 38, 4, 19, 50, 5, 27, 1, 49, 16, 17, 2, 34, 22, 22, 49, 18, 21, 18, 31, 9, 34, 19, 22, 49, 4, 5, 48, 21, 2, 10, 1, 38, 47, 45, 45, 28, 8, 49, 43, 26, 31, 49, 25, 34, 28, 31, 7, 25, 30, 30, 30, 26, 21, 22, 13, 24, 45, 39, 25, 48, 15, 34, 11, 7, 13, 10, 15, 33, 8, 20, 3, 15, 47, 10, 7, 30, 27, 50, 9, 1, 50, 45, 13, 18, 50, 49, 15, 20, 49, 40, 1, 48, 50, 8, 2, 48, 10, 33, 2, 37, 15, 28, 37, 50, 42, 21, 31, 34, 1, 12, 30, 46, 41, 11, 1, 32, 2, 3, 39, 44, 43, 46, 31, 47, 19, 42, 13, 3, 24, 10, 27, 46, 38, 34, 20, 31, 39, 34, 36, 2, 3, 38, 32, 18, 28, 35, 27, 3, 20, 16, 44, 21, 12, 48, 4, 46, 38, 1, 37, 10, 3, 11, 30, 3, 1, 39, 45, 49, 29, 29, 11, 34, 48, 16, 34, 28, 37, 15, 22, 1, 29, 29, 6, 41, 48, 3, 11, 16, 6, 44, 36, 24, 32, 27, 26, 14, 25, 11, 23, 4, 19, 40, 21, 20, 26, 32, 18, 1, 26, 12, 22, 31, 8, 49, 41, 46, 47, 45, 48, 23, 9, 11, 5, 23, 11, 22, 4, 29, 33, 2, 8, 43, 16, 23, 29, 8, 2, 41, 16, 5, 16, 24, 1, 12, 40, 1, 36, 36, 33, 23, 37, 28, 48, 42, 25, 49, 37, 23, 8, 28, 49, 26, 45, 35, 28, 33, 15, 45, 28, 20, 29, 49, 28, 16, 43, 17, 15, 10, 10, 31, 16, 18, 27, 26, 28, 24, 19, 19, 44, 31, 4, 41, 1, 24, 13, 27, 17, 45, 28, 32, 23, 45, 9, 46, 22, 26, 28, 22, 1, 42, 13, 36, 37, 20, 24, 1, 11, 23, 50, 31, 9, 36, 27, 25, 48, 9, 6, 39, 43, 38, 45, 23, 9, 31, 26, 35, 22, 46, 8, 45, 12, 12, 33, 45, 12, 40, 44, 23, 16, 32, 39, 49, 7, 36, 5, 26, 13, 33, 48, 6, 43, 18, 10, 36, 34, 36, 13, 39, 7, 5, 14, 19, 33, 23, 49, 19, 34, 35, 24, 14, 40, 25, 15, 33, 34, 35, 12, 9, 12, 47, 20, 42, 3, 31, 39, 11, 8, 5, 30, 36, 41, 25, 4, 45, 33, 4, 46, 26, 24, 42, 13, 20, 9, 11, 48, 45, 35, 24, 12, 24, 26, 30, 2, 46, 46, 23, 24, 7, 5, 39, 28, 39, 10, 29, 8, 16, 10, 41, 36, 12, 27, 48, 38, 20, 3, 28, 5, 27, 42, 17, 40, 33, 10, 40, 17, 26, 7, 47, 9, 26, 19, 6, 12, 26, 33, 34, 38, 18, 22, 7, 9, 27, 11, 38, 49, 40, 44, 41, 37, 32, 31, 28, 4, 32, 16, 21, 43, 11, 38, 15, 39, 2, 33, 43, 30, 17, 17, 43, 37, 30, 7, 2, 13, 48, 9, 15, 7, 17, 20, 10, 46, 29, 1, 1, 44, 1, 30, 6, 37, 50, 42, 5, 13, 41, 2, 42, 27, 14, 28, 12, 48, 7, 11, 10, 33, 4, 36, 13, 32, 28, 21, 42, 8, 40, 33, 15, 32, 27, 24, 21, 44, 27, 15, 9, 15, 25, 44, 35, 33, 12, 2, 31, 38, 12, 34, 27, 12, 41, 48, 45, 25, 12, 32, 13, 38, 37, 50, 44, 43, 33, 15, 50, 7, 16, 4, 30, 42, 10, 13, 15, 37, 8, 50, 26, 22, 14, 47, 12, 43, 30, 11, 3, 39, 5, 37, 29, 22, 36, 37, 46, 23, 17, 33, 17, 24, 31, 38, 7, 18, 9, 41, 1, 17, 29, 11, 26, 2, 45, 16, 14, 29, 34, 37, 37, 43, 33, 49, 17, 9, 8, 34, 41, 13, 21, 5, 32, 45, 44, 43, 48, 17, 22, 39, 4, 3, 35, 45, 50, 34, 43, 28, 21, 10, 15, 24, 18, 40, 24, 29, 22, 43, 13, 5, 17, 27, 44, 15, 42, 43, 24, 11, 34, 17, 6, 15, 39, 26, 9, 15, 20, 29, 15, 34, 13, 24, 30, 17, 6, 1, 23, 29, 47, 22, 2, 2, 42, 27, 25, 45, 45, 19, 14, 32, 23, 10, 6, 25, 2, 49, 43, 7, 11, 18, 42, 16, 8, 29, 8, 39, 43, 30, 49, 14, 46, 35, 13, 29, 2, 45, 42, 36, 46, 24, 40, 22, 47, 44, 31, 26, 14, 20, 21, 30, 47, 36, 25, 24, 19, 23, 14, 3, 20, 42, 50, 44, 25, 36, 24, 5, 37, 5, 45, 5, 25, 38, 5, 35, 18, 48, 27, 50, 9, 11, 2, 27, 49, 48, 7, 48, 49, 35, 5, 16, 11, 36, 5, 31, 4, 21, 32, 16, 1, 30, 7, 32, 47, 8, 50, 6, 2, 46, 19, 50, 5, 44, 8, 48, 36, 9, 35, 43, 23, 5, 48, 26, 44, 39, 17, 36, 2, 43, 18, 43, 26, 26, 25, 33, 20, 45, 24, 47, 31, 18, 30, 30, 13, 3, 46, 47, 20, 6, 19, 25, 24, 35, 3, 50, 19, 21, 47, 33, 12, 42, 38, 4, 23, 16, 19, 4, 45, 23, 22, 38, 27, 47, 19, 8, 40, 47, 47, 29, 50, 31, 15, 26, 7, 27, 6, 20, 14, 5, 41, 40, 41, 32, 31, 39, 39, 40, 6, 2, 24, 45, 26, 31, 32, 41, 45, 37, 30, 40, 36, 28, 44, 21, 6, 5, 42, 30, 9, 12, 43, 38, 37, 4, 13, 40, 44, 31, 44, 50, 4, 34, 43, 15, 22, 37, 21, 3, 19, 22, 33, 47, 4, 46, 23, 40, 47, 7, 19, 30, 42, 46, 47, 32, 6, 35, 50, 46, 1, 25, 17, 39, 41, 44, 42, 13, 38, 4, 42, 21, 20, 37, 24, 7, 13, 47, 20, 29, 18, 43, 20, 38, 23, 13, 4, 41, 25, 30, 3, 32, 18, 4, 12, 1, 32, 2, 6, 7, 26, 9, 30, 41, 6, 46, 49, 5, 2, 2, 11, 24, 15, 8, 24, 34, 8, 5, 39, 45, 32, 47, 1, 45, 20, 43, 23, 46, 37, 37, 6, 41, 43, 41, 33, 32, 28, 4, 37, 48, 21, 40, 32, 17, 28, 47, 11, 14, 47, 16, 34, 20, 41, 36, 2, 1, 4, 43, 42, 38, 37, 36, 32, 34, 17, 30, 20, 25, 11, 4, 44, 3, 39, 19, 41, 40, 22, 32, 42, 23, 20, 40, 10, 22, 30, 9, 35, 14, 12, 25, 41, 4, 14, 6, 34, 32, 20, 15, 42, 5, 4, 22, 20, 40, 29, 16, 11, 42, 45, 25, 48, 40, 36, 11, 35, 11, 19, 32, 41, 14, 7, 11, 31, 10, 39, 47, 49, 16, 24, 44, 30, 40, 47, 44, 6, 16, 17, 22, 31, 36, 2, 45, 40, 43, 46, 25, 12, 28, 7, 6, 29, 42, 14, 28, 41, 33, 47, 44, 36, 37, 9, 9, 44, 38, 1, 29, 6, 5, 3, 32, 32, 6, 10, 38, 1, 36, 23, 24, 17, 39, 30, 9, 17, 9, 25, 50, 50, 39, 23, 18, 22, 17, 18, 39, 14, 30, 9, 30, 43, 25, 31, 31, 3, 15, 24, 19, 44, 41, 3, 2, 26, 29, 23, 50, 10, 36, 25, 3, 40, 40, 12, 29, 10, 43, 12, 3, 28, 25, 39, 8, 49, 35, 18, 28, 38, 24, 43, 50, 21, 1, 34, 24, 48, 3, 16, 41, 23, 7, 41, 7, 34, 3, 41, 43, 45, 14, 37, 7, 33, 47, 24, 44, 30, 43, 6, 29, 14, 38, 25, 7, 33, 27, 11, 14, 40, 17, 43, 49, 48, 34, 35, 46, 36, 36, 33, 34, 14, 36, 17, 22, 25, 47, 27, 18, 37, 38, 2, 11, 12, 12, 11, 42, 8, 49, 30, 5, 31, 43, 27, 17, 19, 8, 12, 2, 26, 8, 27, 1, 10, 35, 4, 49, 7, 6, 47, 8, 29, 16, 22, 8, 43, 41, 5, 28, 11, 33, 25, 11, 21, 1, 14, 33, 41, 41, 26, 8, 38, 2, 38, 1, 45, 44, 45, 13, 49, 14, 21, 44, 20, 43, 25, 35, 34, 35, 6, 4, 29, 11, 1, 50, 26, 44, 27, 14, 21, 21, 36, 37, 26, 11, 23, 27, 28, 16, 39, 16, 4, 4, 22, 34, 25, 50, 20, 36, 35, 36, 15, 44, 32, 24, 45, 12, 19, 50, 29, 34, 13, 35, 38, 31, 35, 27, 13, 9, 42, 34, 16, 40, 39, 49, 38, 48, 2, 12, 33, 16, 13, 49, 12, 15, 1, 21, 26, 9, 49, 4, 37, 8, 23, 7, 20, 5, 37, 33, 3, 35, 3, 12, 28, 40, 2, 9, 12, 14, 15, 10, 22, 19, 21, 38, 34, 48, 21, 6, 34, 13, 18, 11, 6, 4, 21, 11, 40, 30, 49, 38, 17, 20, 32, 24, 21, 25, 47, 43, 47, 11, 20, 26, 50, 7, 4, 22, 49, 27, 48, 15, 17, 4, 39, 36, 9, 26, 13, 37, 41, 35, 13, 50, 31, 16, 44, 30, 39, 22, 33, 3, 31, 32, 27, 28, 30, 49, 30, 21, 2, 13, 34, 42, 17, 20, 20, 47, 36, 9, 10, 50, 18, 30, 14, 26, 32, 42, 36, 14, 35, 20, 31, 37, 45, 43, 15, 35, 37, 10, 11, 16, 20, 38, 41, 7, 50, 18, 36, 45, 14, 31, 31, 36, 5, 35, 7, 42, 21, 11, 48, 34, 35, 24, 13, 21, 48, 47, 14, 12, 31, 40, 18, 50, 6, 13, 29, 20, 6, 3, 35, 38, 4, 9, 1, 41, 2, 26, 24, 18, 13, 18, 47, 50, 32, 21, 49, 46, 33, 8, 35, 34, 39, 14, 25, 18, 29, 15, 30, 2, 14, 38, 27, 2, 48, 13, 39, 18, 23, 27, 14, 18, 5, 34, 45, 19, 24, 8, 41, 14, 36, 32, 28, 38, 39, 14, 24, 42, 21, 16, 48, 49, 27, 30, 12, 30, 2, 14, 24, 39, 11, 7, 5, 17, 37, 3, 38, 18, 42, 42, 27, 27, 24, 4, 11, 12, 3, 42, 10, 20, 42, 30, 49, 47, 7, 46, 25, 47, 47, 21, 47, 23, 26, 34, 8, 13, 50, 30, 1, 14, 23, 6, 13, 8, 11, 43, 26, 6, 13, 8, 32, 27, 38, 32, 16, 7, 23, 40, 18, 16, 22, 17, 11, 8, 6, 20, 3, 40, 28, 12, 43, 49, 19, 18, 14, 30, 42, 23, 40, 19, 42, 40, 42, 6, 34, 46, 38, 23, 48, 25, 14, 17, 5, 21, 37, 10, 41, 3, 12, 2, 35, 29, 27, 24, 15, 21, 32, 11, 45, 36, 7, 28, 23, 46, 21, 4, 31, 2, 1, 17, 36, 37, 2, 18, 6, 22, 32, 5, 33, 8, 6, 17, 23, 45, 36, 3, 5, 21, 31, 19, 22, 36, 7, 19, 10, 6, 9, 10, 4, 32, 49, 15, 21, 20, 22, 20, 16, 39, 19, 36, 30, 49, 10, 45, 43, 2, 33, 44, 25, 40, 35, 34, 50, 33, 49, 5, 1, 45, 31, 21, 31, 10, 30, 4, 50, 46, 1, 11, 40, 15, 44, 18, 18, 19, 29, 5, 42, 10, 46, 37, 40, 37, 28, 22, 3, 22, 9, 2, 4, 45, 12, 47, 38, 23, 19, 2, 19, 9, 47, 12, 20, 28, 4, 36, 7, 7, 27, 36, 46, 25, 43, 24, 26, 30, 11, 4, 15, 46, 26, 27, 19, 30, 20, 17, 8, 39, 36, 14, 10, 27, 48, 35, 1, 9, 34, 44, 3, 33, 12, 3, 37, 8, 49, 28, 15, 37, 35, 46, 13, 23, 37, 26, 44, 34, 45, 10, 27, 9, 19, 50, 40, 25, 28, 24, 19, 25, 29, 25, 15, 30, 30, 22, 27, 1, 32, 13, 38, 13, 4, 17, 41, 13, 2, 26, 7, 43, 44, 42, 14, 45, 25, 16, 28, 35, 36, 8, 44, 11, 10, 4, 7, 48, 18, 43, 13, 26, 37, 9, 42, 5, 32, 31, 45, 4, 32, 16, 14, 33, 5, 47, 23, 21, 41, 8, 9, 18, 48, 2, 33, 12, 6, 35, 34, 47, 19, 5, 28, 1, 33, 8, 31, 5, 50, 42, 43, 2, 20, 42, 22, 27, 8, 11, 23, 33, 45, 14, 24, 50, 24, 11, 3, 10, 32, 20, 15, 43, 10, 42, 47, 31, 15, 9, 38, 31, 24, 43, 41, 30, 26, 32, 19, 18, 47, 48, 28, 30, 46, 21, 36, 41, 39, 35, 40, 41, 40, 8, 23, 30, 1, 22, 38, 39, 24, 23, 28, 29, 41, 31, 4, 17, 50, 32, 16, 34, 3, 4, 46, 17, 10, 6, 3, 44, 27, 50, 12, 36, 31, 44, 29, 1, 40, 30, 10, 46, 5, 16, 16, 47, 21, 15, 21, 21, 17, 17, 7, 6, 19, 21, 11, 7, 9, 36, 1, 15, 16, 47, 6, 37, 31, 8, 34, 11, 37, 4, 15, 25, 6, 15, 16, 4, 8, 19, 42, 33, 18, 5, 18, 48, 1, 15, 14, 7, 38, 31, 16, 39, 26, 28, 38, 47, 19, 3, 20, 29, 18, 25, 14, 47, 13, 45, 16, 19, 32, 33, 42, 45, 37, 44, 33, 6, 36, 6, 28, 1, 44, 19, 32, 44, 50, 43, 24, 2, 38, 20, 31, 18, 45, 36, 50, 25, 26, 37, 9, 18, 46, 29, 24, 27, 11, 19, 10, 30, 50, 15, 22, 49, 19, 27, 29, 20, 35, 45, 34, 28, 35, 11, 33, 4, 16, 37, 28, 4, 25, 41, 36, 33, 15, 16, 37, 29, 14, 23, 4, 41, 2, 35, 9, 44, 35, 19, 31, 33, 14, 29, 1, 32, 14, 7, 40, 27, 35, 39, 36, 13, 15, 3, 45, 29, 24, 35, 8, 6, 4, 38, 24, 10, 19, 35, 29, 26, 13, 10, 12, 48, 25, 40, 45, 50, 24, 21, 26, 24, 27, 24, 22, 42, 7, 46, 27, 16, 2, 12, 40, 39, 39, 44, 25, 15, 32, 48, 1, 29, 29, 46, 39, 40, 1, 33, 36, 31, 32, 15, 8, 9, 49, 13, 48, 15, 33, 22, 46, 49, 31, 9, 9, 48, 14, 18, 33, 39, 16, 23, 18, 27, 22, 17, 25, 41, 50, 22, 26, 6, 32, 10, 30, 13, 44, 29, 29, 35, 33, 11, 14, 31, 22, 31, 22, 29, 19, 18, 46, 43, 45, 18, 37, 36, 3, 5, 39, 17, 46, 43, 27, 1, 48, 32, 27, 48, 29, 25, 33, 36, 18, 16, 22, 28, 22, 37, 41, 6, 37, 29, 5, 13, 41, 35, 13, 23, 10, 48, 16, 24, 43, 26, 24, 11, 9, 44, 35, 14, 18, 32, 16, 14, 8, 19, 23, 44, 46, 11, 37, 50, 5, 9, 3, 22, 40, 14, 16, 2, 23, 30, 36, 1, 33, 5, 21, 48, 17, 9, 25, 40, 39, 45, 30, 27, 3, 26, 37, 14, 28, 21, 37, 35, 16, 20, 31, 26, 16, 41, 39, 25, 23, 22, 14, 2, 36, 9, 44, 37, 37, 38, 18, 13, 46, 12, 7, 19, 6, 6, 41, 40, 9, 5, 11, 4, 9, 32, 26, 31, 50, 15, 4, 13, 40, 10, 12, 13, 25, 12, 7, 37, 28, 45, 17, 24, 25, 10, 50, 11, 7, 26, 13, 11, 1, 39, 41, 8, 45, 29, 5, 4, 36, 35, 38, 1, 25, 27, 9, 14, 39, 22, 42, 15, 12, 28, 9, 5, 18, 16, 21, 27, 35, 29, 26, 37, 44, 2, 16, 18, 36, 20, 28, 2, 16, 10, 31, 29, 38, 2, 6, 20, 9, 32, 49, 50, 12, 9, 10, 19, 34, 48, 33, 23, 22, 36, 4, 15, 28, 46, 42, 30, 17, 48, 29, 12, 45, 12, 49, 29, 21, 32, 7, 24, 29, 4, 46, 36, 31, 25, 19, 3, 14, 10, 30, 20, 9, 20, 9, 46, 14, 7, 16, 11, 2, 5, 28, 10, 22, 20, 45, 48, 1, 4, 34, 24, 21, 21, 5, 43, 9, 7, 28, 4, 28, 15, 47, 14, 41, 18, 44, 9, 33, 38, 34, 10, 26, 20, 29, 9, 12, 21, 48, 34, 23, 46, 49, 30, 4, 1, 35, 4, 3, 23, 13, 36, 46, 38, 49, 14, 37, 44, 4, 7, 39, 32, 50, 14, 44, 34, 18, 9, 35, 20, 25, 3, 40, 47, 48, 50, 22, 25, 44, 42, 38, 45, 49, 34, 13, 30, 46, 24, 39, 5, 12, 47, 23, 28, 36, 11, 32, 49, 27, 24, 25, 42, 18, 1, 14, 20, 41, 35, 49, 48, 29, 37, 24, 39, 8, 9, 40, 37, 10, 3, 16, 28, 14, 37, 24, 44, 1, 33, 48, 20, 17, 28, 41, 6, 25, 38, 17, 9, 10, 49, 19, 13, 42, 3, 23, 2, 37, 38, 3, 10, 34, 18, 13, 34, 38, 15, 22, 20, 28, 33, 12, 30, 13, 22, 20, 38, 48, 18, 38, 45, 21, 16, 20, 28, 15, 4, 8, 14, 8, 33, 18, 7, 11, 45, 23, 50, 39, 35, 49, 9, 8, 12, 4, 15, 15, 5, 14, 1, 17, 27, 7, 21, 8, 29, 44, 26, 49, 41, 29, 1, 37, 19, 26, 12, 19, 20, 8, 37, 28, 21, 5, 9, 12, 21, 35, 30, 38, 16, 46, 44, 23, 31, 17, 37, 43, 3, 8, 24, 23, 17, 32, 43, 6, 49, 29, 10, 22, 44, 35, 17, 47, 6, 22, 31, 11, 43, 44, 40, 29, 47, 18, 19, 35, 34, 35, 6, 1, 41, 21, 13, 18, 3, 21, 10, 3, 8, 41, 14, 19, 25, 16, 11, 15, 39, 32, 17, 40, 47, 48, 39, 38, 4, 33, 7, 38, 36, 26, 12, 20, 46, 37, 36, 28, 30, 8, 11, 23, 39, 49, 30, 35, 1, 2, 16, 5, 30, 27, 5, 17, 32, 27, 19, 35, 3, 19, 33, 32, 38, 31, 15, 25, 33, 30, 48, 45, 10, 18, 21, 36, 34, 44, 10, 48, 22, 36, 29, 47, 43, 13, 42, 36, 29, 29, 17, 3, 12, 12, 40, 36, 44, 37, 40, 40, 40, 46, 39, 13, 35, 32, 31, 31, 38, 1, 25, 49, 30, 6, 10, 28, 29, 3, 6, 24, 13, 4, 15, 12, 11, 31, 6, 42, 47, 19, 33, 17, 49, 20, 23, 31, 27, 38, 4, 38, 9, 14, 11, 14, 35, 37, 45, 38, 12, 42, 6, 8, 29, 9, 14, 46, 1, 36, 13, 26, 28, 10, 45, 5, 8, 42, 17, 19, 41, 38, 11, 31, 26, 15, 45, 37, 17, 8, 42, 9, 43, 32, 3, 40, 3, 45, 15, 16, 19, 17, 30, 40, 14, 45, 45, 18, 7, 5, 22, 30, 14, 46, 17, 33, 49, 31, 6, 12, 14, 17, 12, 16, 7, 11, 12, 10, 24, 34, 1, 22, 13, 14, 28, 41, 3, 32, 10, 7, 38, 38, 5, 32, 36, 31, 21, 22, 40, 22, 4, 21, 25, 8, 33, 10, 49, 2, 36, 25, 42, 42, 48, 43, 34, 26, 30, 31, 2, 21, 16, 7, 21, 13, 40, 48, 10, 50, 28, 8, 6, 22, 43, 10, 33, 3, 35, 23, 38, 36, 7, 17, 16, 4, 23, 20, 13, 47, 47, 6, 40, 19, 19, 35, 25, 21, 18, 8, 46, 18, 50, 1, 8, 15, 11, 43, 28, 34, 50, 21, 20, 8, 49, 26, 25, 41, 43, 12, 50, 32, 41, 1, 28, 34, 28, 34, 28, 21, 49, 20, 47, 23, 40, 26, 27, 47, 2, 50, 21, 11, 18, 16, 13, 42, 9, 17, 7, 41, 22, 44, 4, 22, 42, 50, 38, 20, 21, 4, 10, 38, 14, 25, 24, 27, 26, 40, 12, 27, 4, 39, 33, 26, 8, 21, 34, 18, 17, 17, 41, 45, 16, 21, 11, 11, 24, 33, 12, 26, 22, 44, 33, 13, 24, 17, 48, 13, 50, 44, 21, 8, 25, 28, 5, 39, 22, 27, 32, 25, 5, 18, 34, 30, 45, 42, 12, 9, 6, 2, 30, 2, 23, 6, 25, 3, 5, 11, 13, 30, 37, 40, 20, 6, 22, 29, 6, 33, 19, 30, 47, 15, 37, 9, 17, 7, 45, 5, 19, 9, 49, 7, 34, 33, 34, 42, 37, 41, 46, 31, 17, 44, 40, 6, 3, 47, 17, 13, 8, 33, 46, 40, 47, 17, 14, 23, 31, 9, 2, 36, 22, 29, 40, 1, 39, 21, 22, 35, 42, 12, 22, 3, 24, 27, 2, 44, 31, 4, 39, 29, 6, 46, 47, 34, 3, 43, 38, 23, 44, 8, 39, 24, 27, 40, 15, 45, 8, 37, 45, 38, 22, 50, 36, 50, 12, 40, 7, 42, 10, 45, 48, 47, 12, 27, 8, 12, 28, 42, 15, 5, 43, 18, 39, 28, 30, 39, 49, 5, 11, 4, 17, 21, 5, 14, 48, 5, 48, 34, 42, 45, 32, 45, 32, 44, 48, 34, 13, 26, 26, 50, 17, 6, 40, 43, 16, 42, 3, 1, 26, 39, 2, 39, 48, 45, 29, 12, 27, 1, 29, 16, 11, 42, 46, 33, 10, 7, 34, 1, 25, 25, 7, 12, 4, 12, 39, 33, 9, 40, 3, 14, 15, 26, 28, 44, 34, 35, 21, 22, 48, 49, 27, 39, 1, 17, 46, 12, 40, 39, 30, 18, 1, 5, 15, 3, 37, 43, 15, 50, 8, 1, 40, 30, 24, 48, 3, 13, 9, 36, 50, 48, 5, 11, 41, 14, 44, 23, 49, 14, 34, 19, 40, 5, 39, 26, 10, 17, 7, 20, 4, 25, 27, 7, 30, 3, 27, 8, 23, 8, 10, 3, 33, 2, 11, 23, 5, 5, 3, 3, 7, 28, 1, 10, 16, 13, 18, 15, 15, 35, 47, 29, 8, 44, 10, 18, 9, 29, 39, 18, 35, 26, 5, 17, 47, 2, 46, 13, 2, 5, 7, 16, 50, 20, 31, 42, 22, 1, 3, 21, 1, 35, 2, 20, 43, 33, 4, 12, 10, 23, 4, 15, 27, 47, 16, 12, 13, 27, 28, 5, 24, 1, 8, 8, 24, 2, 26, 1, 40, 17, 18, 6, 10, 19, 41, 11, 7, 2, 7, 6, 4, 37, 21, 4, 1, 25, 17, 3, 10, 1, 2, 18, 27, 18, 1, 16, 47, 6, 22, 41, 7, 6, 1, 12, 48, 16, 6, 13, 41, 27, 29, 42, 14, 17, 2, 40, 19, 10, 46, 20, 43, 43, 15, 46, 34, 15, 26, 2, 26, 2, 46, 6, 49, 41, 44, 23, 30, 43, 6, 9, 50, 27, 3, 19, 11, 49, 10, 16, 2, 9, 36, 14, 48, 7, 3, 25, 39, 23, 33, 8, 15, 3, 32, 30, 26, 28, 5, 49, 32, 31, 44, 44, 6, 7, 24, 23, 25, 18, 16, 27, 19, 22, 25, 38, 18, 13, 36, 34, 8, 31, 34, 49, 41, 3, 20, 35, 37, 39, 39, 17, 24, 1, 13, 40, 33, 12, 8, 31, 10, 31, 26, 48, 6, 36, 6, 40, 21, 5, 43, 23, 10, 10, 12, 20, 24, 25, 41, 13, 32, 19, 48, 6, 48, 48, 2, 28, 49, 44, 41, 23, 19, 39, 30, 31, 37, 18, 41, 41, 43, 23, 28, 2, 15, 47, 22, 3, 42, 42, 43, 14, 5, 34, 28, 1, 6, 12, 44, 8, 7, 15, 3, 7, 7, 2, 7, 41, 39]}],\n",
              "                        {\"template\": {\"data\": {\"bar\": [{\"error_x\": {\"color\": \"#2a3f5f\"}, \"error_y\": {\"color\": \"#2a3f5f\"}, \"marker\": {\"line\": {\"color\": \"#E5ECF6\", \"width\": 0.5}}, \"type\": \"bar\"}], \"barpolar\": [{\"marker\": {\"line\": {\"color\": \"#E5ECF6\", \"width\": 0.5}}, \"type\": \"barpolar\"}], \"carpet\": [{\"aaxis\": {\"endlinecolor\": \"#2a3f5f\", \"gridcolor\": \"white\", \"linecolor\": \"white\", \"minorgridcolor\": \"white\", \"startlinecolor\": \"#2a3f5f\"}, \"baxis\": {\"endlinecolor\": \"#2a3f5f\", \"gridcolor\": \"white\", \"linecolor\": \"white\", \"minorgridcolor\": \"white\", \"startlinecolor\": \"#2a3f5f\"}, \"type\": \"carpet\"}], \"choropleth\": [{\"colorbar\": {\"outlinewidth\": 0, \"ticks\": \"\"}, \"type\": \"choropleth\"}], \"contour\": [{\"colorbar\": {\"outlinewidth\": 0, \"ticks\": \"\"}, \"colorscale\": [[0.0, \"#0d0887\"], [0.1111111111111111, \"#46039f\"], [0.2222222222222222, \"#7201a8\"], [0.3333333333333333, \"#9c179e\"], [0.4444444444444444, \"#bd3786\"], [0.5555555555555556, \"#d8576b\"], [0.6666666666666666, \"#ed7953\"], [0.7777777777777778, \"#fb9f3a\"], [0.8888888888888888, \"#fdca26\"], [1.0, \"#f0f921\"]], \"type\": \"contour\"}], \"contourcarpet\": [{\"colorbar\": {\"outlinewidth\": 0, \"ticks\": \"\"}, \"type\": \"contourcarpet\"}], \"heatmap\": [{\"colorbar\": {\"outlinewidth\": 0, \"ticks\": \"\"}, \"colorscale\": [[0.0, \"#0d0887\"], [0.1111111111111111, \"#46039f\"], [0.2222222222222222, \"#7201a8\"], [0.3333333333333333, \"#9c179e\"], [0.4444444444444444, \"#bd3786\"], [0.5555555555555556, \"#d8576b\"], [0.6666666666666666, \"#ed7953\"], [0.7777777777777778, \"#fb9f3a\"], [0.8888888888888888, \"#fdca26\"], [1.0, \"#f0f921\"]], \"type\": \"heatmap\"}], \"heatmapgl\": [{\"colorbar\": {\"outlinewidth\": 0, \"ticks\": \"\"}, \"colorscale\": [[0.0, \"#0d0887\"], [0.1111111111111111, \"#46039f\"], [0.2222222222222222, \"#7201a8\"], [0.3333333333333333, \"#9c179e\"], [0.4444444444444444, \"#bd3786\"], [0.5555555555555556, \"#d8576b\"], [0.6666666666666666, \"#ed7953\"], [0.7777777777777778, \"#fb9f3a\"], [0.8888888888888888, \"#fdca26\"], [1.0, \"#f0f921\"]], \"type\": \"heatmapgl\"}], \"histogram\": [{\"marker\": {\"colorbar\": {\"outlinewidth\": 0, \"ticks\": \"\"}}, \"type\": \"histogram\"}], \"histogram2d\": [{\"colorbar\": {\"outlinewidth\": 0, \"ticks\": \"\"}, \"colorscale\": [[0.0, \"#0d0887\"], [0.1111111111111111, \"#46039f\"], [0.2222222222222222, \"#7201a8\"], [0.3333333333333333, \"#9c179e\"], [0.4444444444444444, \"#bd3786\"], [0.5555555555555556, \"#d8576b\"], [0.6666666666666666, \"#ed7953\"], [0.7777777777777778, \"#fb9f3a\"], [0.8888888888888888, \"#fdca26\"], [1.0, \"#f0f921\"]], \"type\": \"histogram2d\"}], \"histogram2dcontour\": [{\"colorbar\": {\"outlinewidth\": 0, \"ticks\": \"\"}, \"colorscale\": [[0.0, \"#0d0887\"], [0.1111111111111111, \"#46039f\"], [0.2222222222222222, \"#7201a8\"], [0.3333333333333333, \"#9c179e\"], [0.4444444444444444, \"#bd3786\"], [0.5555555555555556, \"#d8576b\"], [0.6666666666666666, \"#ed7953\"], [0.7777777777777778, \"#fb9f3a\"], [0.8888888888888888, \"#fdca26\"], [1.0, \"#f0f921\"]], \"type\": \"histogram2dcontour\"}], \"mesh3d\": [{\"colorbar\": {\"outlinewidth\": 0, \"ticks\": \"\"}, \"type\": \"mesh3d\"}], \"parcoords\": [{\"line\": {\"colorbar\": {\"outlinewidth\": 0, \"ticks\": \"\"}}, \"type\": \"parcoords\"}], \"pie\": [{\"automargin\": true, \"type\": \"pie\"}], \"scatter\": [{\"marker\": {\"colorbar\": {\"outlinewidth\": 0, \"ticks\": \"\"}}, \"type\": \"scatter\"}], \"scatter3d\": [{\"line\": {\"colorbar\": {\"outlinewidth\": 0, \"ticks\": \"\"}}, \"marker\": {\"colorbar\": {\"outlinewidth\": 0, \"ticks\": \"\"}}, \"type\": \"scatter3d\"}], \"scattercarpet\": [{\"marker\": {\"colorbar\": {\"outlinewidth\": 0, \"ticks\": \"\"}}, \"type\": \"scattercarpet\"}], \"scattergeo\": [{\"marker\": {\"colorbar\": {\"outlinewidth\": 0, \"ticks\": \"\"}}, \"type\": \"scattergeo\"}], \"scattergl\": [{\"marker\": {\"colorbar\": {\"outlinewidth\": 0, \"ticks\": \"\"}}, \"type\": \"scattergl\"}], \"scattermapbox\": [{\"marker\": {\"colorbar\": {\"outlinewidth\": 0, \"ticks\": \"\"}}, \"type\": \"scattermapbox\"}], \"scatterpolar\": [{\"marker\": {\"colorbar\": {\"outlinewidth\": 0, \"ticks\": \"\"}}, \"type\": \"scatterpolar\"}], \"scatterpolargl\": [{\"marker\": {\"colorbar\": {\"outlinewidth\": 0, \"ticks\": \"\"}}, \"type\": \"scatterpolargl\"}], \"scatterternary\": [{\"marker\": {\"colorbar\": {\"outlinewidth\": 0, \"ticks\": \"\"}}, \"type\": \"scatterternary\"}], \"surface\": [{\"colorbar\": {\"outlinewidth\": 0, \"ticks\": \"\"}, \"colorscale\": [[0.0, \"#0d0887\"], [0.1111111111111111, \"#46039f\"], [0.2222222222222222, \"#7201a8\"], [0.3333333333333333, \"#9c179e\"], [0.4444444444444444, \"#bd3786\"], [0.5555555555555556, \"#d8576b\"], [0.6666666666666666, \"#ed7953\"], [0.7777777777777778, \"#fb9f3a\"], [0.8888888888888888, \"#fdca26\"], [1.0, \"#f0f921\"]], \"type\": \"surface\"}], \"table\": [{\"cells\": {\"fill\": {\"color\": \"#EBF0F8\"}, \"line\": {\"color\": \"white\"}}, \"header\": {\"fill\": {\"color\": \"#C8D4E3\"}, \"line\": {\"color\": \"white\"}}, \"type\": \"table\"}]}, \"layout\": {\"annotationdefaults\": {\"arrowcolor\": \"#2a3f5f\", \"arrowhead\": 0, \"arrowwidth\": 1}, \"coloraxis\": {\"colorbar\": {\"outlinewidth\": 0, \"ticks\": \"\"}}, \"colorscale\": {\"diverging\": [[0, \"#8e0152\"], [0.1, \"#c51b7d\"], [0.2, \"#de77ae\"], [0.3, \"#f1b6da\"], [0.4, \"#fde0ef\"], [0.5, \"#f7f7f7\"], [0.6, \"#e6f5d0\"], [0.7, \"#b8e186\"], [0.8, \"#7fbc41\"], [0.9, \"#4d9221\"], [1, \"#276419\"]], \"sequential\": [[0.0, \"#0d0887\"], [0.1111111111111111, \"#46039f\"], [0.2222222222222222, \"#7201a8\"], [0.3333333333333333, \"#9c179e\"], [0.4444444444444444, \"#bd3786\"], [0.5555555555555556, \"#d8576b\"], [0.6666666666666666, \"#ed7953\"], [0.7777777777777778, \"#fb9f3a\"], [0.8888888888888888, \"#fdca26\"], [1.0, \"#f0f921\"]], \"sequentialminus\": [[0.0, \"#0d0887\"], [0.1111111111111111, \"#46039f\"], [0.2222222222222222, \"#7201a8\"], [0.3333333333333333, \"#9c179e\"], [0.4444444444444444, \"#bd3786\"], [0.5555555555555556, \"#d8576b\"], [0.6666666666666666, \"#ed7953\"], [0.7777777777777778, \"#fb9f3a\"], [0.8888888888888888, \"#fdca26\"], [1.0, \"#f0f921\"]]}, \"colorway\": [\"#636efa\", \"#EF553B\", \"#00cc96\", \"#ab63fa\", \"#FFA15A\", \"#19d3f3\", \"#FF6692\", \"#B6E880\", \"#FF97FF\", \"#FECB52\"], \"font\": {\"color\": \"#2a3f5f\"}, \"geo\": {\"bgcolor\": \"white\", \"lakecolor\": \"white\", \"landcolor\": \"#E5ECF6\", \"showlakes\": true, \"showland\": true, \"subunitcolor\": \"white\"}, \"hoverlabel\": {\"align\": \"left\"}, \"hovermode\": \"closest\", \"mapbox\": {\"style\": \"light\"}, \"paper_bgcolor\": \"white\", \"plot_bgcolor\": \"#E5ECF6\", \"polar\": {\"angularaxis\": {\"gridcolor\": \"white\", \"linecolor\": \"white\", \"ticks\": \"\"}, \"bgcolor\": \"#E5ECF6\", \"radialaxis\": {\"gridcolor\": \"white\", \"linecolor\": \"white\", \"ticks\": \"\"}}, \"scene\": {\"xaxis\": {\"backgroundcolor\": \"#E5ECF6\", \"gridcolor\": \"white\", \"gridwidth\": 2, \"linecolor\": \"white\", \"showbackground\": true, \"ticks\": \"\", \"zerolinecolor\": \"white\"}, \"yaxis\": {\"backgroundcolor\": \"#E5ECF6\", \"gridcolor\": \"white\", \"gridwidth\": 2, \"linecolor\": \"white\", \"showbackground\": true, \"ticks\": \"\", \"zerolinecolor\": \"white\"}, \"zaxis\": {\"backgroundcolor\": \"#E5ECF6\", \"gridcolor\": \"white\", \"gridwidth\": 2, \"linecolor\": \"white\", \"showbackground\": true, \"ticks\": \"\", \"zerolinecolor\": \"white\"}}, \"shapedefaults\": {\"line\": {\"color\": \"#2a3f5f\"}}, \"ternary\": {\"aaxis\": {\"gridcolor\": \"white\", \"linecolor\": \"white\", \"ticks\": \"\"}, \"baxis\": {\"gridcolor\": \"white\", \"linecolor\": \"white\", \"ticks\": \"\"}, \"bgcolor\": \"#E5ECF6\", \"caxis\": {\"gridcolor\": \"white\", \"linecolor\": \"white\", \"ticks\": \"\"}}, \"title\": {\"x\": 0.05}, \"xaxis\": {\"automargin\": true, \"gridcolor\": \"white\", \"linecolor\": \"white\", \"ticks\": \"\", \"title\": {\"standoff\": 15}, \"zerolinecolor\": \"white\", \"zerolinewidth\": 2}, \"yaxis\": {\"automargin\": true, \"gridcolor\": \"white\", \"linecolor\": \"white\", \"ticks\": \"\", \"title\": {\"standoff\": 15}, \"zerolinecolor\": \"white\", \"zerolinewidth\": 2}}}},\n",
              "                        {\"responsive\": true}\n",
              "                    ).then(function(){\n",
              "                            \n",
              "var gd = document.getElementById('30875858-17a7-4e84-a6ec-d63cf1e2c89d');\n",
              "var x = new MutationObserver(function (mutations, observer) {{\n",
              "        var display = window.getComputedStyle(gd).display;\n",
              "        if (!display || display === 'none') {{\n",
              "            console.log([gd, 'removed!']);\n",
              "            Plotly.purge(gd);\n",
              "            observer.disconnect();\n",
              "        }}\n",
              "}});\n",
              "\n",
              "// Listen for the removal of the full notebook cells\n",
              "var notebookContainer = gd.closest('#notebook-container');\n",
              "if (notebookContainer) {{\n",
              "    x.observe(notebookContainer, {childList: true});\n",
              "}}\n",
              "\n",
              "// Listen for the clearing of the current output cell\n",
              "var outputEl = gd.closest('.output');\n",
              "if (outputEl) {{\n",
              "    x.observe(outputEl, {childList: true});\n",
              "}}\n",
              "\n",
              "                        })\n",
              "                };\n",
              "                \n",
              "            </script>\n",
              "        </div>\n",
              "</body>\n",
              "</html>"
            ]
          },
          "metadata": {
            "tags": []
          }
        }
      ]
    },
    {
      "cell_type": "code",
      "metadata": {
        "id": "h0VJLhQ3Y7Z9"
      },
      "source": [
        "import plotly.graph_objects as go\r\n",
        "\r\n",
        "PLOT = go.Figure()\r\n",
        "\r\n",
        "for C in list(rfm.cluster.unique()):\r\n",
        "    \r\n",
        "    PLOT.add_trace(go.Scatter3d(x = rfm[rfm.cluster == C]['recency_normalized'],\r\n",
        "                                y = rfm[rfm.cluster == C]['frequency_normalized'],\r\n",
        "                                z = rfm[rfm.cluster == C]['monetary_value_normalized'],\r\n",
        "                                mode = 'markers', marker_size = 8, marker_line_width = 1,\r\n",
        "                                name = 'RFM Segment ' + str(C)))"
      ],
      "execution_count": null,
      "outputs": []
    },
    {
      "cell_type": "code",
      "metadata": {
        "colab": {
          "base_uri": "https://localhost:8080/",
          "height": 817
        },
        "id": "0BT9junDY7ih",
        "outputId": "31d775e8-be37-429f-d1f3-10437ccbb9fb"
      },
      "source": [
        "PLOT.update_layout(width = 1000, height = 800, autosize = True, showlegend = True,\r\n",
        "                   scene = dict(xaxis=dict(title = 'Recency', titlefont_color = 'black'),\r\n",
        "                                yaxis=dict(title = 'Frequency', titlefont_color = 'black'),\r\n",
        "                                zaxis=dict(title = 'Monetary Value', titlefont_color = 'black')),\r\n",
        "                   font = dict(family = \"Gilroy\", color  = 'black', size = 12))"
      ],
      "execution_count": null,
      "outputs": [
        {
          "output_type": "display_data",
          "data": {
            "text/html": [
              "<html>\n",
              "<head><meta charset=\"utf-8\" /></head>\n",
              "<body>\n",
              "    <div>\n",
              "            <script src=\"https://cdnjs.cloudflare.com/ajax/libs/mathjax/2.7.5/MathJax.js?config=TeX-AMS-MML_SVG\"></script><script type=\"text/javascript\">if (window.MathJax) {MathJax.Hub.Config({SVG: {font: \"STIX-Web\"}});}</script>\n",
              "                <script type=\"text/javascript\">window.PlotlyConfig = {MathJaxConfig: 'local'};</script>\n",
              "        <script src=\"https://cdn.plot.ly/plotly-latest.min.js\"></script>    \n",
              "            <div id=\"9de477f5-4258-4a5a-890e-7d9d4ced472d\" class=\"plotly-graph-div\" style=\"height:800px; width:1000px;\"></div>\n",
              "            <script type=\"text/javascript\">\n",
              "                \n",
              "                    window.PLOTLYENV=window.PLOTLYENV || {};\n",
              "                    \n",
              "                if (document.getElementById(\"9de477f5-4258-4a5a-890e-7d9d4ced472d\")) {\n",
              "                    Plotly.newPlot(\n",
              "                        '9de477f5-4258-4a5a-890e-7d9d4ced472d',\n",
              "                        [{\"marker\": {\"line\": {\"width\": 1}, \"size\": 8}, \"mode\": \"markers\", \"name\": \"RFM Segment 6\", \"type\": \"scatter3d\", \"x\": [49, 25, 33, 37, 31, 37, 46, 42, 45, 31, 26, 24, 40, 37, 49, 39, 20, 6, 36, 29, 37, 42, 23, 28, 37, 32, 33, 28, 46, 50, 31, 33, 48, 31, 37, 31, 45, 46, 28, 35, 28, 13, 28, 37, 26, 41, 34, 40, 32, 42, 36, 35, 33, 32, 42, 34, 36, 41, 37, 48, 12, 48, 35, 35, 27, 39, 33, 36, 46, 31, 30, 35, 23, 24, 12, 42, 17, 18, 37, 32, 47, 25, 11, 30, 20, 39, 46, 41, 49, 24, 49, 29, 28, 48, 16, 30, 20, 42, 32, 23, 15, 38, 43, 40, 34, 45, 33, 17, 25, 49, 34, 36, 29, 44, 44, 36, 38, 26, 34, 46, 29, 44, 37, 46, 25, 40, 31, 46, 20, 26, 45, 38, 43, 46, 26, 24, 50, 32, 29, 36, 47, 23, 28, 36, 37, 15, 41, 15, 26, 35, 48, 38, 15, 37, 25, 32, 39, 41, 23, 32, 43, 37, 31, 37, 35, 32, 40, 33, 37, 31, 31, 33, 16, 33, 36, 33, 8, 37, 35, 43, 39, 25, 6, 33, 24, 16, 33], \"y\": [1, 3, 10, 16, 14, 17, 3, 9, 10, 3, 3, 7, 1, 1, 14, 15, 10, 1, 18, 10, 16, 1, 4, 10, 3, 15, 1, 6, 6, 1, 8, 9, 13, 10, 17, 7, 1, 6, 6, 8, 4, 2, 11, 8, 10, 10, 3, 6, 8, 11, 4, 7, 3, 3, 5, 6, 10, 8, 15, 10, 1, 22, 4, 9, 7, 3, 12, 3, 1, 3, 5, 11, 3, 4, 3, 13, 6, 8, 11, 4, 7, 4, 3, 5, 2, 9, 18, 2, 2, 5, 3, 12, 10, 3, 1, 5, 10, 12, 13, 10, 3, 19, 6, 1, 9, 1, 7, 1, 6, 1, 4, 18, 6, 7, 15, 6, 1, 6, 12, 20, 15, 4, 17, 10, 13, 4, 13, 3, 3, 14, 2, 7, 3, 1, 1, 1, 1, 5, 1, 4, 9, 12, 6, 1, 10, 6, 10, 3, 9, 4, 1, 10, 4, 6, 12, 11, 2, 10, 4, 10, 1, 14, 4, 1, 17, 8, 2, 3, 7, 3, 7, 1, 1, 17, 5, 2, 2, 5, 1, 1, 11, 12, 1, 5, 4, 3, 12], \"z\": [50, 19, 32, 35, 26, 45, 46, 35, 37, 39, 21, 23, 27, 23, 38, 49, 18, 8, 49, 25, 30, 44, 24, 27, 22, 29, 16, 22, 31, 23, 23, 26, 35, 22, 36, 22, 23, 24, 27, 44, 30, 9, 38, 37, 30, 29, 34, 29, 22, 24, 38, 27, 18, 20, 31, 32, 25, 24, 37, 32, 14, 43, 22, 19, 16, 25, 28, 36, 25, 23, 21, 24, 17, 12, 8, 41, 20, 23, 28, 39, 39, 20, 14, 21, 22, 27, 37, 50, 30, 18, 35, 26, 35, 23, 18, 47, 27, 32, 40, 19, 19, 40, 23, 21, 27, 23, 18, 19, 30, 29, 30, 35, 19, 50, 32, 41, 19, 18, 30, 39, 32, 29, 31, 27, 32, 28, 41, 26, 28, 32, 35, 25, 40, 30, 18, 20, 40, 26, 19, 22, 26, 30, 16, 27, 21, 12, 38, 12, 34, 28, 22, 25, 16, 38, 36, 34, 21, 28, 28, 21, 22, 38, 21, 37, 34, 17, 23, 24, 45, 33, 21, 40, 11, 35, 21, 21, 6, 29, 46, 30, 32, 24, 3, 31, 18, 23, 47]}, {\"marker\": {\"line\": {\"width\": 1}, \"size\": 8}, \"mode\": \"markers\", \"name\": \"RFM Segment 3\", \"type\": \"scatter3d\", \"x\": [2, 3, 6, 4, 11, 14, 3, 1, 8, 1, 1, 11, 15, 15, 8, 2, 12, 11, 15, 3, 15, 12, 8, 5, 11, 1, 8, 1, 8, 15, 14, 7, 5, 7, 15, 2, 7, 2, 3, 14, 8, 2, 12, 11, 1, 16, 8, 4, 8, 4, 3, 8, 12, 9, 1, 9, 8, 5, 1, 11, 3, 4, 6, 6, 6, 6, 11, 11, 1, 8, 3, 5, 2, 3, 5, 8, 16, 2, 1, 3, 15, 11, 6, 3, 4, 2, 8, 3, 2, 5, 2, 2, 4, 6, 3, 7, 9, 4, 7, 8, 4, 2, 11, 12, 7, 5, 1, 8, 7, 3, 1, 3, 4, 4, 9, 8, 1, 8, 12, 4, 1, 9, 7, 11, 11, 10, 1, 1, 3, 9, 4, 2, 7, 1, 1, 1, 9, 4, 8, 12, 11, 7, 4, 12, 6, 11, 9, 8, 3, 8, 8, 4, 10, 13, 1, 9, 2, 12, 1, 6, 4, 6, 4, 1, 1, 5, 8, 9, 1, 1, 1, 4, 9, 1, 8, 5, 1, 11, 12, 6, 8, 1, 1, 12, 6, 8, 3, 7, 1, 1, 2, 1, 10, 8, 11, 9, 5, 1, 10, 5, 12, 8, 12, 8, 2, 1, 2, 3, 5, 6, 3, 5, 12, 2, 3, 2, 9, 2, 2, 1, 10, 1, 5, 15, 5, 12, 5, 7, 1, 13, 2, 15, 3, 2, 8, 6, 1, 1, 2, 1, 5, 6, 13, 4, 14, 10, 3, 11, 8, 8, 6, 13, 6, 2, 12, 1, 1, 16, 4, 8, 3, 4, 4, 2, 8, 6, 4, 12, 5, 3, 3, 3, 8, 1, 2, 1, 1, 3, 2, 7, 8, 14, 7, 8, 2, 1, 4, 8, 9, 3, 1, 7, 6, 1, 8, 7, 11, 3, 7, 9, 1, 6, 3, 7, 7, 7, 8, 12, 12, 12, 7, 8, 8, 2, 2, 4, 8, 1, 3, 8, 1, 6, 8, 7, 1, 1, 5, 13, 6, 14, 3, 12, 12, 9, 12, 14, 2, 2, 8, 5, 3, 8, 8, 6, 3, 1, 3, 10, 5, 13, 11, 9, 1, 11, 1, 4, 1, 4, 1, 7, 7, 8, 3, 6, 4, 1, 8, 1, 9, 2, 11, 8, 8, 1, 5, 8, 1, 7, 12, 3, 4, 9, 8, 4, 7, 2, 6, 2, 1, 3, 15, 10, 8, 3, 7, 3, 10, 8, 6, 6, 9, 15, 2, 3, 2, 1, 4, 8, 8, 11, 10, 7, 9, 3, 8, 7, 4, 4, 11, 8, 14, 8, 4, 3, 8, 6, 8, 13, 13, 12, 8, 11, 6, 11, 2, 7, 4, 12, 8, 1, 3, 1, 7, 1, 1, 3, 8, 1, 1, 8, 1, 8, 8, 6, 4, 4, 8, 2, 1, 3, 1, 10, 4, 7, 7, 11, 4, 8, 1, 8, 14, 7, 10, 1, 8, 1, 8, 2, 11, 1, 2, 7, 11, 9, 10, 1, 2, 13, 15, 7, 6, 8, 6, 4, 10, 2, 6, 9, 4, 11, 9, 7, 8, 8, 4, 11, 4, 13, 8, 7, 1, 2, 8, 12, 11, 13, 10, 2, 8, 6, 1, 1, 16, 12, 3, 9, 12, 4, 4, 11, 10, 7, 5, 1, 2, 1, 8, 3, 1, 12, 4, 7, 7, 11, 2, 2, 10, 7, 7, 3, 3, 3, 5, 6, 12, 8, 12, 3, 9, 6, 8, 12, 3, 3, 7, 4, 7, 1, 8, 7, 11, 15, 2, 4, 3, 1, 8, 7, 12, 8, 2, 5, 8, 3, 1, 5, 11, 9, 3, 1, 6, 4, 8, 9, 2, 13, 7, 4, 2, 1, 10, 12, 2, 5, 6, 1, 2, 14, 6, 3, 7, 4, 1, 2, 3, 5, 2, 8, 1, 5, 11, 4, 4, 12, 11, 1, 12, 4, 12, 8, 12, 2, 2, 4, 4, 1, 7, 7, 1, 14, 8, 13, 11, 12, 9, 4, 6, 3, 8, 2, 8, 3, 1, 9, 4, 7, 11, 2, 8, 1, 7, 4, 4, 1, 1, 6, 4, 5, 4, 8, 10, 3, 5, 1, 7, 10, 15, 3, 1, 4, 3, 10, 12, 3, 8, 1, 4, 7, 2, 9, 2, 2, 10, 12, 6, 4, 2, 2, 8, 5, 7, 3, 5, 11, 1, 5, 6, 9, 4, 11, 10, 2, 10, 2, 1, 3, 8, 3, 7, 9, 11, 8, 1, 7, 12, 3, 11, 7, 1, 10, 16, 7, 1, 4, 4, 1, 2, 9, 12, 7, 1, 2, 1, 2, 7, 1, 12, 8, 12, 3, 1, 1, 6, 2, 2, 12, 1, 1, 1, 1, 7, 6, 7, 4, 1, 6, 2, 3, 2, 6, 15, 5, 13, 5, 1, 1, 9, 8, 12, 1, 1, 1, 4, 1, 8, 12, 6, 12, 3, 4, 15, 12, 3, 3, 2, 3, 5, 1, 1, 14, 7, 10, 15, 4, 11, 4, 5, 1, 1, 4, 5, 3, 2, 3, 3, 4, 1, 5, 11, 9, 4, 6, 5, 7, 2, 9, 6, 1, 1, 8, 7, 11, 12, 10, 3, 11, 11, 8, 4, 11, 4, 1, 2, 4, 3, 9, 8, 2, 8, 6, 2, 3], \"y\": [45, 47, 36, 36, 38, 43, 45, 41, 37, 49, 45, 38, 44, 45, 49, 49, 49, 46, 48, 24, 46, 34, 30, 47, 34, 41, 42, 33, 37, 47, 49, 45, 39, 44, 49, 45, 31, 47, 37, 45, 41, 39, 37, 37, 49, 48, 46, 25, 32, 27, 15, 24, 41, 27, 46, 43, 37, 26, 29, 50, 50, 48, 39, 19, 47, 36, 48, 45, 24, 47, 33, 25, 49, 33, 29, 42, 47, 38, 50, 45, 45, 49, 33, 48, 38, 36, 31, 31, 37, 18, 30, 48, 49, 48, 43, 40, 32, 28, 28, 50, 27, 41, 40, 40, 32, 35, 44, 47, 37, 48, 34, 32, 31, 48, 49, 36, 46, 39, 49, 41, 25, 38, 26, 42, 49, 33, 49, 40, 49, 50, 13, 50, 43, 50, 48, 45, 40, 42, 50, 44, 36, 40, 26, 48, 37, 44, 39, 46, 40, 30, 30, 50, 45, 42, 50, 45, 46, 49, 48, 31, 35, 39, 18, 31, 15, 49, 44, 29, 43, 8, 49, 19, 48, 43, 32, 38, 9, 44, 45, 49, 38, 48, 47, 49, 28, 23, 44, 26, 40, 49, 48, 44, 48, 41, 44, 36, 44, 47, 46, 33, 43, 35, 37, 39, 49, 45, 25, 50, 42, 19, 48, 45, 48, 25, 48, 42, 40, 49, 42, 45, 40, 48, 34, 44, 37, 34, 44, 39, 34, 42, 40, 48, 44, 32, 42, 31, 39, 40, 43, 18, 43, 50, 43, 49, 46, 36, 43, 36, 45, 36, 21, 47, 47, 42, 50, 46, 50, 47, 45, 39, 48, 26, 44, 49, 50, 46, 50, 47, 35, 43, 23, 43, 44, 29, 45, 42, 27, 32, 25, 46, 50, 50, 48, 47, 47, 47, 50, 36, 39, 31, 38, 42, 39, 35, 39, 42, 46, 43, 27, 38, 46, 38, 31, 50, 42, 40, 41, 47, 44, 37, 50, 45, 48, 48, 36, 45, 39, 50, 41, 45, 46, 42, 49, 30, 29, 48, 50, 42, 40, 50, 44, 50, 48, 33, 38, 48, 50, 50, 34, 49, 49, 28, 46, 34, 49, 9, 47, 41, 48, 49, 45, 30, 50, 36, 37, 43, 50, 45, 46, 28, 47, 50, 34, 48, 41, 46, 48, 48, 49, 19, 45, 49, 48, 46, 24, 47, 50, 43, 45, 45, 31, 31, 46, 38, 42, 50, 21, 35, 50, 40, 49, 30, 38, 42, 33, 38, 41, 34, 50, 30, 37, 49, 33, 44, 21, 50, 25, 48, 45, 50, 45, 49, 42, 50, 43, 28, 39, 50, 49, 50, 49, 45, 33, 49, 29, 49, 42, 39, 38, 38, 38, 35, 39, 34, 33, 46, 32, 48, 47, 30, 41, 50, 39, 37, 46, 48, 22, 26, 39, 44, 38, 28, 39, 47, 27, 45, 25, 45, 50, 22, 18, 46, 50, 41, 24, 48, 36, 36, 28, 25, 48, 30, 48, 49, 46, 48, 29, 34, 38, 45, 50, 33, 46, 43, 44, 13, 44, 44, 50, 46, 25, 47, 50, 31, 50, 29, 48, 30, 46, 38, 49, 27, 26, 49, 43, 44, 50, 45, 35, 44, 35, 46, 29, 48, 34, 44, 37, 48, 42, 41, 42, 47, 48, 34, 22, 44, 42, 42, 50, 45, 50, 43, 49, 41, 28, 36, 34, 47, 47, 43, 40, 31, 25, 38, 15, 47, 42, 50, 46, 42, 45, 46, 50, 18, 40, 32, 38, 41, 32, 28, 47, 36, 48, 40, 46, 13, 41, 49, 38, 36, 36, 46, 42, 44, 39, 41, 50, 48, 47, 47, 42, 44, 35, 12, 24, 48, 48, 37, 37, 39, 32, 50, 39, 29, 34, 40, 41, 39, 48, 45, 44, 49, 49, 41, 47, 44, 45, 46, 49, 37, 37, 23, 48, 45, 13, 21, 27, 50, 49, 21, 41, 46, 31, 44, 47, 44, 43, 23, 47, 45, 47, 40, 44, 21, 47, 31, 48, 42, 47, 49, 49, 50, 45, 46, 47, 49, 26, 50, 43, 48, 45, 37, 47, 44, 19, 49, 48, 36, 45, 27, 47, 15, 47, 45, 38, 41, 50, 45, 50, 30, 50, 34, 50, 26, 47, 47, 47, 31, 29, 21, 36, 43, 40, 41, 37, 44, 26, 34, 47, 46, 38, 48, 48, 44, 37, 32, 45, 46, 26, 41, 25, 23, 42, 49, 28, 36, 34, 36, 47, 45, 50, 24, 39, 50, 49, 30, 42, 38, 42, 30, 35, 32, 49, 39, 50, 50, 46, 33, 49, 49, 49, 39, 46, 31, 45, 35, 32, 45, 40, 47, 48, 42, 6, 47, 48, 38, 46, 25, 36, 35, 34, 39, 19, 24, 50, 35, 34, 47, 49, 36, 43, 44, 49, 28, 49, 23, 45, 46, 50, 50, 48, 35, 48, 41, 25, 43, 46, 37, 43, 11, 46, 50, 35, 48, 40, 41, 48, 42, 38, 49, 47, 45, 44, 46, 50, 42, 45, 37, 50, 49, 39, 48, 49, 50, 49, 22, 46, 17, 50, 29, 45, 46, 47, 42, 40, 50, 33, 50, 48, 49, 41, 49, 42, 46, 36, 46, 39, 49, 49, 50, 49, 33, 43, 46, 15, 35, 45, 37, 40, 33, 43, 42, 40, 47, 47, 44, 36, 31, 39, 44, 44, 50], \"z\": [47, 48, 35, 39, 43, 44, 46, 39, 46, 50, 47, 44, 47, 46, 49, 50, 49, 49, 50, 26, 48, 42, 35, 48, 34, 40, 47, 35, 40, 48, 50, 46, 41, 46, 49, 46, 32, 49, 42, 46, 44, 42, 45, 35, 50, 48, 47, 28, 35, 35, 14, 23, 46, 38, 46, 46, 44, 24, 29, 50, 50, 49, 42, 23, 47, 42, 49, 49, 29, 47, 32, 25, 48, 27, 32, 46, 50, 47, 50, 46, 50, 49, 40, 49, 42, 41, 23, 31, 37, 19, 32, 48, 46, 41, 37, 50, 44, 42, 35, 50, 26, 41, 37, 41, 32, 36, 47, 46, 39, 50, 34, 49, 31, 49, 48, 38, 47, 45, 49, 43, 31, 28, 26, 39, 48, 33, 47, 27, 50, 50, 13, 50, 49, 50, 48, 50, 42, 41, 46, 47, 38, 36, 16, 44, 46, 38, 39, 45, 49, 29, 34, 44, 36, 40, 49, 46, 47, 45, 48, 41, 40, 36, 23, 28, 25, 49, 44, 28, 42, 11, 50, 25, 48, 45, 31, 46, 8, 45, 45, 49, 33, 48, 43, 49, 40, 25, 42, 31, 39, 33, 48, 45, 41, 48, 42, 40, 26, 47, 33, 40, 43, 38, 39, 43, 48, 46, 44, 50, 42, 27, 48, 27, 44, 35, 41, 48, 45, 50, 44, 50, 30, 50, 39, 46, 24, 41, 26, 49, 34, 41, 43, 48, 50, 34, 43, 28, 40, 39, 42, 19, 32, 49, 43, 49, 46, 29, 42, 36, 46, 44, 23, 42, 50, 44, 48, 50, 49, 48, 48, 49, 36, 31, 32, 47, 50, 46, 50, 44, 36, 48, 39, 43, 43, 33, 45, 47, 31, 30, 30, 47, 50, 47, 38, 47, 47, 47, 50, 41, 39, 39, 40, 43, 40, 44, 50, 43, 47, 46, 30, 42, 46, 47, 32, 50, 46, 42, 37, 47, 43, 38, 49, 45, 47, 45, 43, 46, 43, 48, 40, 32, 47, 34, 41, 42, 38, 32, 44, 41, 42, 42, 45, 48, 40, 35, 41, 47, 49, 47, 31, 43, 46, 28, 42, 41, 47, 9, 44, 29, 32, 38, 36, 30, 50, 50, 39, 31, 50, 36, 40, 40, 43, 49, 38, 48, 41, 34, 43, 45, 37, 33, 47, 44, 43, 38, 25, 33, 40, 43, 49, 48, 46, 36, 47, 38, 42, 49, 26, 35, 49, 41, 49, 35, 50, 44, 27, 21, 37, 34, 50, 36, 36, 44, 32, 45, 19, 50, 34, 49, 37, 48, 34, 40, 30, 49, 38, 24, 25, 43, 47, 50, 49, 48, 26, 50, 32, 49, 42, 47, 42, 36, 45, 37, 41, 36, 35, 48, 34, 48, 47, 31, 40, 50, 38, 47, 50, 49, 33, 29, 38, 48, 36, 28, 49, 42, 27, 49, 25, 47, 50, 13, 22, 40, 49, 42, 38, 48, 37, 41, 29, 28, 36, 32, 33, 45, 36, 36, 21, 20, 49, 45, 50, 33, 49, 30, 46, 15, 29, 42, 46, 40, 22, 45, 47, 23, 47, 27, 46, 25, 43, 39, 48, 35, 37, 49, 44, 45, 50, 45, 35, 44, 48, 37, 32, 48, 34, 47, 31, 42, 42, 50, 43, 47, 48, 40, 30, 50, 46, 44, 50, 36, 44, 29, 46, 21, 17, 36, 47, 31, 34, 37, 42, 31, 26, 38, 25, 44, 36, 44, 45, 50, 26, 37, 49, 20, 41, 33, 37, 41, 32, 36, 38, 40, 50, 42, 46, 12, 44, 48, 46, 39, 36, 46, 48, 33, 39, 50, 43, 45, 43, 48, 36, 37, 35, 11, 14, 44, 46, 30, 48, 40, 39, 45, 30, 26, 21, 37, 31, 41, 44, 46, 41, 50, 40, 28, 45, 24, 45, 35, 39, 26, 37, 29, 49, 50, 10, 23, 36, 46, 49, 21, 46, 46, 28, 45, 48, 47, 44, 26, 46, 30, 46, 49, 44, 32, 50, 34, 47, 48, 50, 42, 45, 49, 39, 47, 35, 48, 28, 44, 38, 49, 42, 37, 34, 34, 22, 38, 48, 38, 45, 33, 50, 15, 49, 28, 21, 35, 46, 44, 37, 24, 49, 35, 47, 22, 43, 40, 47, 35, 41, 19, 39, 40, 48, 38, 38, 46, 28, 23, 49, 35, 32, 48, 47, 36, 40, 40, 46, 31, 38, 28, 29, 24, 42, 49, 31, 46, 45, 42, 40, 40, 45, 18, 30, 46, 49, 17, 36, 21, 40, 25, 33, 49, 48, 26, 48, 43, 33, 35, 47, 47, 46, 50, 50, 43, 50, 32, 34, 47, 40, 47, 50, 42, 9, 42, 50, 38, 40, 27, 39, 34, 41, 45, 21, 22, 50, 39, 32, 45, 42, 40, 30, 47, 45, 19, 49, 34, 37, 46, 47, 46, 47, 31, 40, 39, 22, 44, 46, 43, 44, 15, 38, 50, 36, 50, 42, 45, 48, 43, 39, 49, 48, 45, 44, 48, 50, 42, 39, 39, 48, 45, 42, 46, 44, 49, 39, 17, 40, 18, 50, 50, 48, 41, 40, 25, 27, 47, 50, 42, 47, 47, 41, 48, 42, 43, 49, 30, 43, 50, 49, 48, 39, 32, 49, 44, 18, 38, 49, 39, 39, 40, 48, 43, 41, 48, 48, 49, 44, 31, 41, 43, 44, 41]}, {\"marker\": {\"line\": {\"width\": 1}, \"size\": 8}, \"mode\": \"markers\", \"name\": \"RFM Segment 2\", \"type\": \"scatter3d\", \"x\": [31, 30, 48, 37, 33, 41, 18, 31, 28, 36, 38, 31, 29, 28, 34, 39, 32, 33, 32, 27, 31, 29, 30, 34, 26, 22, 15, 49, 34, 32, 28, 37, 34, 19, 31, 32, 22, 23, 44, 42, 26, 32, 26, 42, 27, 34, 21, 38, 9, 27, 39, 27, 36, 30, 32, 34, 39, 33, 30, 32, 33, 44, 36, 28, 28, 26, 13, 21, 38, 30, 20, 38, 30, 37, 32, 41, 28, 30, 38, 33, 27, 37, 21, 38, 34, 8, 19, 16, 31, 29, 26, 27, 31, 38, 32, 19, 32, 37, 18, 46, 28, 34, 33, 33, 14, 34, 37, 24, 34, 11, 31, 34, 28, 11, 23, 37, 22, 35, 32, 20, 34, 32, 30, 32, 33, 35, 31, 23, 35, 30, 16, 27, 41, 40, 32, 27, 38, 12, 31, 33, 23, 23, 34, 18, 33, 33, 38, 29, 35, 34, 23, 30, 31, 20, 36, 42, 33, 47, 36, 21, 37, 18, 18, 30, 34, 34, 26, 37, 21, 25, 38, 23, 34, 16, 19, 37, 34, 27, 27, 37, 27, 18, 16, 12, 22, 32, 25, 34, 34, 43, 25, 11, 31, 12, 29, 26, 39, 32, 23, 35, 44, 19, 28, 24, 21, 31, 23, 43, 33, 30, 23, 30, 28, 35, 34, 36, 26, 25, 31, 43, 36, 25, 39, 26, 35, 19, 7, 30, 26, 15, 37, 36, 39, 5, 32, 35, 8, 29, 35, 30, 34, 23, 34, 15, 27, 42, 39, 38, 45, 35, 24, 30, 9, 30, 28, 31, 34, 27, 40, 40, 8, 25, 21, 30, 30, 44, 19, 42, 36, 24, 38, 27, 42, 31, 34, 16, 32, 28, 35, 32, 14, 17, 30, 36, 25, 35, 33, 27, 14, 29, 30, 35, 27, 24, 36, 38, 22, 45, 30, 26, 32, 40, 35, 32, 35, 20, 42, 38, 13, 25, 36, 24, 39, 20, 30, 36, 33, 33, 28, 24, 43, 29, 37, 21, 29, 35, 39, 27, 22, 15, 28, 29, 31, 29, 33, 29, 34, 31, 40, 12, 33, 27, 19, 25, 36, 34, 41, 9, 32, 21, 18, 35, 22, 36, 35, 35, 31, 12, 35, 21, 24, 40, 23, 25, 12, 38, 28, 38, 29, 26, 29, 29, 17, 8, 31, 35, 24, 25, 48, 21, 32, 35, 28, 24, 27, 31, 35, 22, 27, 24, 31, 22, 38, 13, 23, 34, 33, 12, 20, 32, 33, 37, 24, 27, 33, 23, 19, 33, 29, 22, 36, 38, 24, 35, 28, 36, 33, 25, 30, 33, 28, 31, 23, 28, 29, 34, 34, 29, 11, 27, 27, 17, 24, 33, 33, 23, 23, 42, 31, 30, 35, 36, 40, 24, 24, 21, 13, 33, 28, 31, 28, 26, 39, 36, 17, 35, 17, 31, 11, 21, 24, 32, 35, 28, 41, 35, 34, 39, 23, 3, 37, 33, 32, 11, 21, 30, 26, 32, 40, 30, 11, 31, 24, 33, 43, 26, 20, 26, 32, 22, 36, 25, 30, 39, 35, 38, 22, 35, 16, 20, 29, 22, 41, 36, 39, 27, 27, 37, 12, 23, 22, 45, 5, 16, 33, 24, 25, 32, 33, 33, 33, 36, 33, 27, 21, 21, 36, 37, 39, 12, 27, 19, 40, 28, 46, 17, 35, 26, 43, 37, 32, 35, 39, 21, 25, 23, 14, 37, 49, 23, 25, 24, 38, 23, 28, 42, 39, 17, 26, 26, 17, 28, 19, 36, 33, 43, 20, 14, 20, 38, 31, 17, 26, 24, 34, 30, 32, 22, 26, 8, 15, 20, 25, 11, 34, 39, 33, 30, 33, 50, 32, 23, 30, 26, 23, 37, 16, 30, 14, 16, 23, 36, 34, 33, 22, 19, 28, 36, 20, 27, 22, 40, 21, 27, 33, 37, 32, 30, 34, 42, 21, 20, 19, 27, 41, 30, 43, 31, 37, 40, 31], \"y\": [21, 29, 34, 46, 25, 38, 19, 32, 19, 31, 29, 31, 24, 20, 25, 21, 24, 28, 24, 30, 37, 32, 24, 23, 24, 18, 17, 43, 43, 18, 32, 32, 23, 15, 28, 30, 15, 23, 36, 33, 19, 31, 32, 36, 21, 38, 25, 26, 10, 22, 38, 28, 44, 24, 29, 34, 30, 29, 27, 24, 29, 32, 37, 30, 18, 27, 10, 19, 27, 27, 19, 40, 23, 35, 39, 39, 33, 35, 39, 21, 38, 34, 21, 37, 39, 7, 15, 19, 27, 25, 33, 24, 19, 28, 19, 23, 34, 34, 15, 43, 27, 30, 38, 42, 17, 35, 35, 26, 32, 6, 26, 32, 21, 6, 27, 36, 21, 35, 39, 13, 29, 29, 29, 26, 24, 29, 24, 14, 35, 27, 14, 25, 36, 30, 33, 23, 28, 13, 31, 24, 19, 18, 41, 23, 35, 28, 35, 30, 41, 34, 26, 31, 25, 19, 30, 39, 29, 39, 26, 19, 36, 15, 22, 23, 34, 19, 17, 34, 18, 33, 31, 24, 30, 19, 17, 37, 35, 17, 21, 48, 24, 19, 19, 14, 18, 41, 21, 25, 30, 42, 19, 11, 29, 10, 25, 15, 43, 37, 26, 32, 34, 23, 27, 18, 18, 28, 25, 39, 29, 20, 29, 26, 24, 38, 31, 40, 25, 23, 35, 39, 34, 29, 30, 20, 32, 22, 6, 39, 22, 15, 33, 31, 27, 6, 22, 33, 10, 27, 34, 29, 45, 26, 37, 10, 19, 32, 24, 44, 41, 47, 20, 26, 10, 27, 34, 33, 41, 22, 46, 38, 5, 25, 19, 18, 38, 44, 18, 36, 33, 25, 33, 31, 32, 28, 39, 19, 41, 31, 27, 27, 13, 15, 34, 27, 26, 41, 36, 23, 14, 31, 23, 22, 34, 18, 40, 43, 21, 29, 30, 26, 35, 33, 26, 19, 27, 23, 33, 31, 15, 19, 35, 18, 37, 16, 38, 29, 33, 24, 29, 23, 42, 23, 36, 26, 27, 34, 35, 32, 25, 15, 17, 30, 27, 24, 26, 36, 20, 26, 45, 9, 41, 29, 21, 17, 27, 43, 37, 11, 40, 20, 15, 21, 27, 43, 34, 32, 28, 11, 40, 22, 27, 40, 22, 22, 13, 40, 30, 40, 33, 19, 27, 24, 15, 10, 38, 40, 21, 28, 45, 23, 36, 25, 28, 31, 33, 40, 29, 25, 33, 28, 27, 16, 35, 10, 25, 34, 20, 14, 26, 28, 26, 24, 29, 23, 41, 19, 19, 30, 32, 25, 35, 33, 33, 21, 25, 29, 32, 25, 34, 28, 21, 24, 25, 24, 23, 33, 30, 27, 8, 23, 32, 14, 32, 27, 27, 24, 27, 37, 31, 27, 26, 33, 30, 13, 24, 23, 13, 46, 22, 38, 31, 23, 35, 29, 13, 39, 13, 29, 13, 20, 25, 30, 36, 25, 43, 47, 22, 36, 29, 3, 30, 26, 19, 9, 20, 21, 20, 28, 31, 29, 15, 26, 19, 35, 37, 35, 19, 29, 41, 26, 44, 29, 28, 34, 38, 32, 19, 32, 14, 18, 25, 18, 42, 26, 48, 31, 26, 36, 12, 26, 25, 36, 5, 17, 28, 26, 29, 43, 19, 34, 32, 26, 31, 31, 18, 19, 29, 45, 47, 15, 29, 20, 30, 38, 33, 20, 25, 21, 33, 37, 30, 34, 50, 19, 20, 30, 11, 46, 40, 21, 21, 18, 42, 24, 19, 41, 29, 15, 21, 27, 18, 28, 18, 46, 28, 30, 22, 15, 23, 29, 35, 14, 21, 20, 40, 25, 32, 23, 26, 7, 18, 14, 34, 15, 43, 42, 42, 28, 29, 48, 26, 18, 23, 15, 15, 35, 16, 21, 14, 14, 24, 34, 24, 33, 24, 15, 24, 31, 24, 25, 17, 41, 24, 29, 21, 37, 33, 27, 42, 33, 22, 18, 21, 21, 41, 39, 36, 35, 27, 42, 27], \"z\": [39, 35, 38, 46, 29, 39, 23, 37, 35, 33, 38, 34, 27, 23, 28, 39, 28, 28, 49, 31, 42, 42, 31, 29, 27, 20, 18, 41, 46, 35, 38, 33, 27, 16, 31, 31, 19, 21, 40, 49, 24, 33, 34, 43, 25, 38, 25, 41, 10, 24, 43, 33, 47, 29, 28, 33, 32, 31, 29, 31, 47, 44, 43, 30, 29, 29, 19, 20, 32, 31, 17, 43, 33, 40, 35, 38, 34, 36, 44, 30, 30, 26, 24, 38, 28, 6, 16, 18, 28, 26, 31, 25, 30, 30, 30, 24, 34, 45, 15, 49, 28, 30, 39, 42, 13, 34, 38, 32, 30, 11, 24, 25, 23, 11, 22, 29, 23, 24, 37, 28, 33, 28, 27, 28, 28, 32, 37, 27, 38, 35, 12, 26, 36, 34, 33, 23, 35, 12, 30, 25, 26, 35, 26, 23, 39, 28, 39, 33, 40, 34, 22, 32, 32, 21, 30, 37, 30, 33, 28, 21, 42, 15, 21, 25, 33, 31, 38, 34, 25, 32, 47, 22, 37, 23, 17, 37, 43, 33, 21, 44, 35, 24, 22, 17, 15, 42, 34, 26, 34, 45, 18, 8, 29, 14, 35, 30, 47, 37, 21, 32, 35, 23, 25, 18, 25, 24, 21, 33, 42, 38, 23, 29, 27, 40, 31, 32, 37, 36, 44, 38, 37, 34, 37, 22, 33, 23, 7, 39, 41, 25, 30, 32, 32, 6, 26, 46, 8, 32, 41, 41, 33, 28, 37, 21, 28, 37, 39, 41, 32, 40, 22, 30, 12, 32, 32, 33, 44, 37, 38, 32, 9, 31, 24, 29, 25, 35, 30, 36, 34, 25, 37, 31, 33, 25, 38, 21, 43, 34, 36, 26, 11, 15, 35, 38, 27, 42, 40, 38, 16, 26, 37, 35, 28, 22, 38, 34, 21, 47, 31, 30, 39, 33, 27, 28, 36, 26, 32, 35, 15, 20, 38, 21, 35, 14, 29, 32, 34, 25, 30, 27, 41, 24, 42, 27, 30, 39, 37, 27, 24, 20, 26, 34, 30, 23, 26, 23, 30, 23, 46, 10, 45, 31, 19, 22, 30, 44, 31, 9, 38, 19, 20, 36, 30, 46, 36, 37, 26, 10, 40, 25, 27, 41, 26, 25, 13, 42, 32, 33, 33, 20, 27, 23, 15, 10, 30, 26, 28, 30, 46, 21, 36, 39, 41, 23, 38, 39, 24, 23, 28, 31, 34, 17, 27, 12, 30, 48, 38, 16, 19, 33, 42, 33, 28, 19, 32, 18, 19, 27, 35, 28, 35, 28, 25, 35, 33, 29, 40, 27, 35, 29, 35, 26, 25, 26, 27, 33, 32, 33, 9, 23, 22, 17, 25, 41, 31, 31, 29, 37, 29, 25, 26, 35, 32, 23, 23, 25, 14, 35, 39, 25, 22, 36, 38, 31, 15, 41, 15, 28, 9, 21, 27, 35, 36, 20, 32, 42, 30, 48, 29, 4, 31, 25, 30, 11, 22, 24, 28, 28, 29, 23, 13, 39, 25, 44, 34, 27, 24, 25, 42, 29, 37, 20, 25, 38, 28, 33, 28, 35, 14, 21, 26, 19, 37, 38, 43, 31, 34, 35, 13, 25, 16, 32, 4, 20, 37, 36, 30, 30, 32, 35, 33, 30, 34, 29, 29, 17, 36, 37, 31, 11, 29, 31, 37, 32, 45, 22, 33, 31, 32, 38, 36, 34, 40, 23, 20, 25, 15, 41, 41, 20, 23, 26, 44, 22, 26, 44, 33, 13, 22, 30, 23, 30, 17, 33, 31, 40, 22, 12, 22, 29, 38, 23, 40, 21, 42, 32, 34, 26, 26, 6, 12, 27, 29, 11, 34, 39, 35, 46, 30, 48, 39, 17, 28, 26, 31, 26, 19, 41, 16, 13, 17, 46, 41, 44, 27, 26, 28, 31, 23, 25, 18, 34, 31, 34, 41, 37, 33, 31, 26, 36, 21, 20, 24, 28, 41, 39, 37, 41, 28, 43, 28]}, {\"marker\": {\"line\": {\"width\": 1}, \"size\": 8}, \"mode\": \"markers\", \"name\": \"RFM Segment 7\", \"type\": \"scatter3d\", \"x\": [13, 21, 15, 21, 27, 26, 26, 24, 17, 8, 15, 21, 24, 15, 25, 20, 32, 17, 11, 15, 17, 21, 23, 12, 24, 13, 26, 12, 20, 19, 9, 18, 20, 16, 18, 32, 14, 23, 19, 24, 6, 21, 15, 18, 22, 19, 18, 28, 15, 27, 27, 30, 16, 17, 21, 15, 13, 22, 17, 23, 18, 17, 18, 18, 19, 18, 20, 18, 26, 26, 12, 14, 22, 8, 28, 29, 15, 20, 18, 18, 27, 17, 23, 16, 21, 15, 12, 19, 8, 6, 16, 15, 26, 15, 20, 20, 24, 20, 15, 14, 34, 16, 27, 15, 19, 21, 25, 13, 21, 18, 23, 14, 27, 19, 27, 28, 17, 12, 12, 9, 26, 13, 16, 15, 18, 15, 22, 29, 21, 22, 11, 33, 24, 30, 8, 12, 12, 21, 28, 20, 19, 19, 17, 23, 29, 14, 13, 16, 18, 18, 17, 12, 22, 24, 26, 12, 16, 31, 15, 28, 27, 21, 21, 17, 29, 31, 16, 17, 11, 11, 17, 19, 28, 17, 21, 21, 24, 23, 8, 12, 17, 20, 18, 20, 11, 25, 22, 21, 17, 30, 29, 19, 18, 23, 13, 20, 17, 27, 9, 17, 26, 20, 26, 15, 18, 31, 27, 9, 8, 16, 12, 9, 20, 23, 19, 23, 24, 23, 24, 12, 18, 23, 20, 19, 26, 15, 14, 8, 28, 19, 13, 12, 26, 19, 23, 18, 18, 23, 23, 19, 29, 16, 12, 33, 24, 24, 15, 24, 14, 20, 22, 20, 21, 16, 26, 13, 8, 29, 19, 9, 18, 23, 16, 20, 17, 17, 28, 11, 27, 18, 17, 14, 16, 26, 17, 28, 17, 19, 20, 11, 17, 17, 23, 19, 11, 26, 12, 25, 11, 23, 23, 21, 15, 19, 12, 26, 23, 28, 27, 21, 17, 13, 16, 12, 21, 19, 21, 19, 16, 28, 21, 31, 19, 17, 16, 17, 23, 22, 15, 15, 16, 19, 19, 12, 17, 28, 25, 13, 26, 8, 13, 11, 17, 26, 21, 29, 19, 24, 29, 20, 12, 27, 23, 19, 17, 25, 25, 30, 23, 20, 17, 27, 23, 23, 12, 18, 29, 21, 18, 14, 23, 19, 15, 18, 20, 15, 26, 21, 29, 23, 15, 17, 14, 9, 15, 17, 18, 21, 28, 18, 20, 27, 23, 24, 13, 17, 13, 33, 31, 17, 21, 23, 20, 21, 11, 12, 14, 23, 20, 33, 20, 24, 23, 24, 15, 25, 30, 21, 28, 14, 15, 20, 17, 14, 23, 12, 17, 15, 21, 19, 25, 16, 15, 21, 24, 12, 22, 15, 20, 29, 15, 27, 23, 19, 26, 15, 13, 23, 25, 12, 25, 35, 12, 20, 24, 14, 19, 21, 27, 24, 17, 16, 26, 29, 24, 15, 15, 15, 17, 12, 29, 18, 17, 20, 15, 12, 20, 12, 27, 28, 21, 18, 19, 28, 15, 21, 28, 25, 26, 15, 29, 18, 18, 20, 11, 20, 3, 19, 20, 15, 20, 27, 12, 15, 16, 21, 25, 16, 18, 22, 19, 33, 12, 14, 19, 21, 19, 11, 20, 21, 23, 15, 30, 19, 12, 18, 25, 15, 32, 26, 33, 19, 18, 9, 12, 18, 20, 34, 18, 19, 31, 15, 18, 18, 12, 21, 21, 18, 25, 15, 11, 13, 21, 12, 15, 6, 20, 15, 20, 18, 20, 24, 18, 21, 18, 23, 17, 13, 9, 23, 28, 18, 20, 17, 12, 11, 19, 16, 14, 12, 10, 19, 14, 21, 12, 24, 8, 27, 18, 19, 9, 19, 11, 11, 25, 28, 31, 16, 26, 11, 20, 21, 28, 17, 21, 17, 13, 29, 23, 11, 25, 19, 22, 19, 21, 8, 22, 18, 11, 8, 14, 12, 18, 22, 9, 15, 23, 18, 28, 19, 19, 20, 15, 21, 19, 22, 22, 15, 31, 20, 21, 15, 18, 16, 24, 17, 10, 17, 8, 16, 20, 30, 17, 15, 24, 19, 23, 17, 6, 23], \"y\": [34, 36, 31, 41, 47, 41, 44, 32, 22, 13, 39, 41, 36, 39, 34, 39, 39, 50, 27, 21, 48, 46, 39, 16, 41, 31, 35, 27, 48, 44, 21, 43, 48, 31, 47, 43, 39, 47, 29, 33, 8, 36, 40, 23, 40, 31, 32, 38, 39, 43, 38, 49, 29, 27, 34, 41, 24, 35, 27, 44, 43, 34, 22, 25, 43, 42, 43, 41, 46, 37, 32, 28, 43, 15, 44, 38, 37, 29, 37, 50, 36, 26, 37, 34, 36, 35, 31, 46, 13, 12, 21, 31, 44, 27, 44, 49, 30, 42, 34, 35, 46, 26, 41, 32, 48, 36, 36, 32, 41, 47, 35, 27, 43, 48, 37, 39, 24, 21, 18, 24, 37, 24, 45, 29, 34, 35, 36, 41, 34, 39, 15, 47, 42, 40, 12, 25, 31, 41, 43, 44, 43, 26, 19, 39, 41, 20, 28, 31, 33, 49, 27, 32, 35, 39, 36, 26, 32, 46, 26, 42, 37, 44, 46, 29, 39, 42, 27, 35, 17, 15, 45, 35, 37, 43, 45, 32, 32, 44, 12, 30, 29, 37, 45, 38, 31, 39, 26, 32, 45, 45, 40, 42, 23, 33, 25, 27, 30, 45, 15, 30, 38, 31, 39, 44, 40, 43, 43, 22, 19, 27, 28, 23, 48, 39, 39, 40, 25, 44, 32, 25, 32, 46, 29, 35, 41, 43, 34, 20, 43, 32, 25, 17, 40, 32, 45, 32, 44, 40, 40, 26, 39, 47, 31, 44, 36, 38, 18, 41, 30, 40, 31, 42, 38, 46, 37, 33, 15, 47, 34, 26, 42, 45, 37, 45, 46, 31, 48, 22, 39, 34, 40, 38, 41, 44, 39, 37, 47, 33, 40, 16, 33, 29, 29, 36, 24, 40, 27, 49, 27, 46, 47, 29, 20, 26, 32, 42, 42, 41, 42, 32, 28, 29, 40, 19, 36, 35, 49, 44, 32, 42, 43, 46, 23, 35, 42, 47, 46, 43, 22, 30, 23, 36, 45, 27, 41, 38, 36, 29, 35, 15, 37, 14, 42, 40, 30, 41, 28, 35, 39, 48, 29, 42, 36, 30, 38, 45, 47, 37, 30, 50, 40, 37, 37, 40, 34, 38, 45, 48, 31, 37, 27, 36, 28, 23, 48, 41, 37, 48, 46, 45, 39, 47, 35, 19, 40, 26, 29, 32, 34, 31, 27, 38, 45, 31, 29, 37, 35, 43, 40, 29, 44, 48, 50, 33, 22, 36, 31, 49, 31, 44, 35, 47, 34, 32, 42, 41, 47, 31, 40, 43, 34, 38, 45, 19, 44, 32, 37, 40, 50, 38, 49, 22, 37, 37, 43, 27, 47, 33, 36, 44, 22, 46, 30, 40, 35, 23, 21, 40, 36, 23, 41, 44, 21, 48, 32, 25, 36, 37, 37, 42, 42, 37, 33, 41, 42, 39, 40, 19, 44, 24, 43, 43, 34, 46, 30, 19, 35, 29, 35, 46, 46, 33, 39, 38, 35, 43, 43, 42, 40, 34, 45, 30, 36, 32, 22, 37, 6, 40, 33, 37, 28, 40, 33, 34, 43, 36, 50, 45, 45, 50, 45, 49, 33, 36, 46, 47, 48, 18, 44, 40, 49, 42, 40, 44, 35, 38, 41, 35, 46, 48, 49, 24, 46, 16, 21, 33, 38, 48, 35, 50, 38, 35, 42, 42, 34, 35, 44, 40, 41, 34, 28, 32, 49, 29, 35, 10, 32, 38, 46, 39, 42, 32, 46, 43, 46, 43, 49, 27, 14, 40, 48, 41, 39, 41, 28, 22, 49, 39, 35, 32, 25, 47, 26, 42, 14, 35, 19, 49, 39, 27, 22, 34, 23, 32, 48, 47, 44, 47, 42, 28, 33, 48, 37, 47, 26, 36, 26, 40, 33, 29, 39, 47, 40, 34, 30, 17, 47, 28, 32, 18, 37, 37, 45, 39, 26, 32, 44, 40, 43, 49, 35, 39, 32, 25, 37, 48, 33, 17, 44, 41, 29, 27, 49, 42, 41, 34, 18, 24, 23, 24, 34, 45, 26, 32, 47, 28, 40, 31, 9, 33], \"z\": [39, 42, 44, 48, 48, 43, 45, 40, 27, 20, 43, 42, 38, 45, 38, 44, 49, 50, 28, 29, 49, 48, 47, 19, 45, 34, 35, 27, 48, 46, 22, 45, 47, 47, 42, 43, 39, 50, 31, 34, 11, 35, 43, 25, 45, 32, 43, 37, 41, 45, 41, 48, 34, 32, 39, 46, 26, 40, 35, 50, 44, 34, 32, 31, 43, 47, 43, 43, 50, 37, 36, 29, 46, 20, 43, 38, 29, 32, 37, 46, 41, 26, 41, 44, 41, 50, 32, 46, 14, 11, 21, 34, 45, 25, 45, 48, 37, 37, 31, 34, 46, 32, 43, 31, 46, 31, 39, 28, 35, 48, 37, 29, 34, 48, 37, 41, 27, 26, 21, 26, 41, 33, 43, 36, 33, 37, 48, 42, 49, 45, 15, 45, 49, 43, 10, 31, 31, 41, 45, 45, 46, 36, 31, 39, 43, 23, 26, 33, 40, 44, 32, 39, 36, 39, 34, 33, 34, 47, 36, 41, 45, 46, 42, 30, 46, 46, 27, 38, 20, 17, 38, 27, 38, 41, 37, 31, 33, 43, 17, 29, 37, 42, 41, 36, 32, 40, 33, 32, 44, 37, 43, 43, 37, 36, 31, 38, 29, 45, 16, 29, 37, 32, 39, 45, 43, 44, 43, 24, 20, 23, 29, 27, 42, 39, 43, 45, 40, 47, 36, 25, 36, 45, 27, 35, 43, 44, 36, 19, 45, 40, 26, 20, 41, 31, 45, 41, 45, 40, 42, 30, 44, 47, 35, 44, 38, 42, 29, 41, 30, 41, 34, 39, 37, 47, 36, 34, 17, 40, 42, 20, 34, 40, 36, 39, 44, 40, 44, 22, 36, 45, 40, 39, 43, 44, 41, 39, 50, 41, 41, 14, 29, 27, 35, 36, 27, 43, 27, 47, 22, 43, 41, 28, 21, 26, 38, 45, 44, 45, 44, 35, 29, 27, 35, 29, 34, 35, 49, 48, 33, 49, 33, 40, 32, 39, 36, 41, 35, 44, 21, 34, 31, 37, 43, 35, 50, 36, 45, 31, 42, 13, 41, 18, 39, 39, 34, 45, 32, 38, 39, 48, 30, 42, 42, 30, 47, 46, 47, 43, 32, 43, 42, 40, 42, 34, 35, 36, 46, 37, 31, 49, 36, 43, 33, 25, 40, 35, 45, 50, 40, 44, 37, 37, 28, 28, 36, 26, 27, 34, 44, 33, 28, 37, 46, 34, 24, 38, 43, 44, 42, 36, 43, 45, 47, 41, 18, 28, 33, 43, 33, 45, 42, 47, 38, 32, 41, 40, 41, 32, 47, 37, 33, 39, 47, 20, 45, 32, 45, 37, 44, 43, 38, 20, 31, 36, 46, 29, 50, 34, 37, 36, 29, 44, 39, 48, 45, 24, 24, 40, 39, 29, 40, 49, 22, 49, 31, 26, 44, 29, 35, 33, 46, 36, 39, 46, 48, 37, 41, 23, 48, 24, 44, 37, 40, 36, 33, 21, 27, 37, 37, 37, 40, 32, 37, 39, 36, 38, 42, 44, 38, 34, 45, 29, 36, 34, 21, 43, 7, 41, 33, 38, 34, 48, 34, 49, 36, 37, 44, 46, 36, 49, 41, 49, 37, 37, 48, 41, 38, 20, 45, 39, 49, 44, 41, 37, 30, 43, 32, 29, 44, 44, 47, 36, 39, 17, 27, 33, 38, 45, 36, 44, 48, 36, 43, 42, 29, 40, 44, 40, 39, 35, 32, 31, 49, 33, 38, 14, 35, 37, 45, 38, 42, 36, 41, 45, 42, 43, 45, 30, 14, 41, 38, 32, 31, 42, 31, 21, 50, 40, 28, 34, 28, 49, 27, 41, 20, 33, 26, 48, 44, 27, 25, 30, 22, 33, 37, 42, 41, 44, 40, 29, 35, 42, 39, 47, 34, 39, 24, 40, 45, 37, 45, 47, 42, 39, 28, 17, 48, 34, 32, 17, 40, 29, 40, 34, 22, 39, 37, 43, 44, 49, 34, 30, 27, 39, 35, 43, 33, 24, 40, 37, 27, 41, 40, 43, 46, 26, 16, 23, 19, 36, 35, 40, 23, 32, 48, 30, 42, 34, 7, 39]}, {\"marker\": {\"line\": {\"width\": 1}, \"size\": 8}, \"mode\": \"markers\", \"name\": \"RFM Segment 8\", \"type\": \"scatter3d\", \"x\": [48, 43, 48, 49, 15, 49, 44, 49, 23, 48, 47, 45, 43, 45, 23, 23, 48, 27, 32, 46, 46, 44, 39, 42, 30, 50, 40, 44, 37, 50, 41, 45, 49, 50, 47, 46, 47, 33, 33, 17, 47, 44, 46, 35, 43, 45, 31, 41, 33, 23, 50, 32, 24, 49, 9, 45, 36, 34, 36, 40, 49, 40, 47, 30, 29, 50, 46, 41, 35, 28, 34, 40, 41, 42, 29, 44, 44, 48, 47, 30, 48, 45, 32, 44, 48, 48, 48, 40, 36, 45, 45, 40, 28, 25, 39, 47, 28, 22, 39, 47, 20, 43, 46, 45, 42, 44, 39, 39, 29, 45, 28, 42, 29, 40, 27, 49, 45, 49, 30, 42, 47, 30, 42, 28, 43, 46, 37, 40, 21, 46, 48, 20, 37, 50, 27, 38, 39, 46, 50, 40, 46, 35, 44, 23, 44, 46, 39, 43, 43, 44, 39, 44, 45, 46, 50, 47, 41, 31, 45, 45, 40, 17, 48, 48, 33, 41, 41, 29, 35, 45, 46, 46, 48, 44, 44, 41, 27, 46, 15, 42, 43, 17, 38, 45, 27, 46, 8, 18, 26, 26, 31, 50, 29, 8, 38, 48, 6, 45, 45, 42, 31, 34, 44, 50, 31, 37, 27, 40, 34, 46, 48, 47, 48, 23, 48, 44, 40, 43, 50, 48, 34, 43, 48, 40, 49, 44, 44, 47, 37, 37, 38, 49, 25, 42, 34, 46, 42, 47, 49, 26, 49, 49, 50, 36, 41, 46, 17, 45, 11, 16, 37, 50, 17, 34, 19, 24, 44, 45, 39, 36, 47, 46, 25, 26, 26, 41, 21, 38, 26, 36, 36, 46, 38, 50, 43, 25, 37, 29, 37, 49, 48, 25, 24, 41, 28, 32, 45, 41, 40, 40, 50, 41, 44, 37, 48, 19, 48, 45, 33, 39, 46, 45, 38, 41, 41, 50, 45, 47, 28, 31, 23, 44, 49, 32, 44, 45, 37, 46, 37, 43, 21, 39, 31, 42, 45, 15, 47, 27, 29, 42, 38, 33, 40, 46, 39, 41, 49, 47, 46, 40, 33, 44, 36, 45, 44, 30, 46, 46, 35, 40, 23, 31, 44, 32, 45, 50, 40, 43, 34, 31, 50, 7, 27, 34, 35, 41, 49, 41, 43, 25, 23, 49, 50, 38, 50, 47, 46, 44, 36, 44, 36, 43, 41, 28, 38, 48, 44, 39, 41, 46, 45, 44, 22, 47, 32, 42, 46, 26, 48, 48, 50, 35, 42, 44, 27, 47, 34, 49, 48, 44, 44, 45, 50, 39, 32, 45, 45, 31, 43, 31, 46, 49, 41, 26, 17, 46, 16, 49, 49, 30, 44, 37, 15, 46, 46, 49, 38, 38, 44, 45, 41, 50, 36, 39, 26, 19, 48, 41, 50, 48, 49, 38, 40, 50, 43, 24, 39, 48, 38, 6, 44, 22, 40, 50, 40, 44, 50, 41, 50, 44, 50, 39, 39, 35, 39, 26, 47, 31, 45, 41, 50, 43, 48, 37, 45, 47, 50, 24, 40, 28, 49, 45, 41, 40, 39, 18, 49, 44, 34, 12, 48, 19, 31], \"y\": [13, 10, 10, 7, 3, 11, 17, 12, 9, 15, 12, 15, 19, 17, 11, 7, 18, 9, 12, 15, 13, 16, 15, 12, 14, 17, 9, 16, 11, 10, 15, 18, 17, 10, 13, 19, 13, 8, 5, 6, 17, 19, 10, 13, 13, 11, 7, 8, 11, 6, 7, 11, 8, 24, 1, 16, 10, 19, 12, 15, 15, 14, 15, 6, 10, 10, 11, 15, 13, 12, 10, 13, 13, 11, 7, 6, 17, 13, 14, 13, 18, 11, 11, 19, 17, 14, 17, 10, 14, 14, 17, 10, 9, 6, 12, 21, 6, 9, 10, 15, 6, 10, 15, 9, 21, 17, 18, 9, 10, 13, 7, 14, 6, 10, 8, 19, 15, 13, 12, 14, 12, 11, 7, 8, 12, 8, 12, 19, 4, 15, 17, 10, 9, 20, 10, 18, 15, 11, 16, 18, 18, 4, 15, 9, 12, 15, 13, 12, 13, 15, 9, 10, 13, 13, 17, 13, 16, 5, 14, 13, 13, 5, 14, 20, 5, 7, 17, 12, 9, 14, 20, 14, 18, 2, 15, 15, 10, 15, 5, 21, 16, 7, 20, 13, 8, 15, 2, 4, 9, 10, 8, 21, 10, 4, 10, 15, 3, 10, 13, 15, 6, 9, 7, 13, 10, 13, 8, 15, 19, 16, 21, 11, 17, 8, 13, 10, 16, 10, 19, 25, 7, 15, 17, 6, 10, 17, 17, 11, 4, 13, 14, 14, 2, 18, 9, 14, 17, 12, 20, 7, 13, 5, 12, 10, 6, 23, 6, 13, 4, 7, 18, 18, 5, 8, 5, 11, 19, 18, 17, 20, 19, 10, 6, 10, 13, 12, 4, 14, 11, 7, 6, 16, 14, 25, 10, 6, 19, 8, 13, 18, 13, 7, 8, 16, 9, 9, 25, 17, 14, 18, 8, 9, 9, 10, 8, 10, 20, 17, 7, 13, 9, 10, 12, 21, 21, 10, 15, 10, 8, 8, 4, 14, 13, 10, 11, 17, 13, 15, 8, 2, 7, 8, 11, 21, 17, 5, 15, 4, 6, 15, 8, 10, 22, 10, 13, 14, 14, 10, 13, 11, 10, 13, 4, 6, 10, 7, 10, 17, 9, 10, 7, 9, 15, 14, 24, 27, 10, 10, 10, 12, 13, 3, 12, 13, 17, 11, 11, 9, 17, 8, 9, 14, 7, 8, 27, 24, 6, 15, 12, 12, 10, 18, 15, 8, 11, 10, 13, 6, 22, 17, 15, 11, 9, 12, 11, 11, 20, 5, 15, 11, 25, 12, 17, 11, 6, 8, 6, 13, 14, 23, 23, 13, 13, 6, 10, 17, 9, 13, 13, 10, 16, 6, 10, 6, 6, 18, 4, 26, 20, 9, 20, 10, 6, 16, 12, 14, 12, 11, 14, 17, 23, 13, 11, 9, 10, 7, 24, 11, 13, 18, 8, 6, 9, 18, 15, 12, 22, 24, 20, 1, 15, 6, 18, 28, 10, 21, 9, 10, 25, 22, 19, 21, 15, 15, 14, 5, 14, 7, 18, 13, 10, 20, 15, 14, 13, 19, 21, 5, 7, 6, 21, 13, 11, 12, 14, 6, 26, 11, 10, 6, 15, 8, 6], \"z\": [15, 20, 16, 18, 4, 15, 1, 17, 8, 22, 10, 20, 6, 18, 8, 9, 19, 5, 11, 14, 13, 20, 14, 17, 10, 19, 10, 17, 11, 13, 14, 18, 22, 11, 13, 16, 13, 17, 13, 3, 20, 17, 21, 13, 15, 13, 10, 15, 3, 10, 15, 11, 4, 10, 3, 14, 11, 4, 5, 16, 12, 16, 17, 15, 10, 13, 9, 13, 9, 9, 12, 16, 13, 13, 5, 14, 19, 14, 15, 9, 20, 11, 13, 10, 5, 9, 18, 7, 9, 11, 15, 7, 2, 9, 10, 1, 6, 5, 13, 14, 7, 11, 4, 13, 15, 15, 12, 12, 8, 12, 11, 11, 14, 17, 9, 8, 13, 22, 10, 15, 13, 7, 16, 8, 13, 14, 14, 5, 5, 5, 11, 5, 16, 7, 6, 8, 9, 17, 13, 12, 4, 15, 14, 6, 12, 4, 15, 19, 17, 13, 13, 13, 18, 12, 4, 20, 4, 10, 9, 14, 15, 5, 22, 20, 16, 11, 11, 7, 10, 6, 9, 10, 17, 18, 17, 14, 9, 15, 3, 10, 7, 6, 7, 14, 11, 12, 2, 8, 7, 6, 8, 5, 11, 2, 13, 14, 1, 14, 16, 16, 12, 13, 13, 16, 12, 3, 12, 6, 11, 15, 9, 13, 17, 9, 14, 11, 14, 11, 20, 6, 8, 15, 14, 13, 14, 18, 19, 14, 16, 12, 11, 12, 10, 7, 8, 13, 14, 8, 13, 8, 11, 18, 14, 12, 15, 11, 4, 17, 2, 6, 6, 7, 6, 10, 4, 1, 11, 10, 3, 2, 4, 9, 7, 10, 9, 12, 8, 13, 9, 8, 11, 18, 16, 8, 12, 5, 8, 14, 10, 15, 8, 4, 4, 6, 7, 6, 11, 9, 11, 15, 16, 8, 18, 15, 14, 6, 15, 15, 9, 14, 14, 15, 8, 6, 10, 12, 21, 15, 9, 13, 9, 14, 16, 10, 13, 17, 13, 13, 10, 18, 5, 9, 14, 9, 16, 4, 13, 13, 12, 7, 13, 11, 5, 9, 14, 5, 16, 16, 6, 12, 9, 17, 14, 20, 9, 9, 9, 15, 10, 9, 7, 9, 3, 13, 12, 11, 14, 10, 14, 10, 13, 2, 10, 13, 12, 13, 20, 8, 18, 9, 8, 15, 17, 8, 5, 12, 17, 18, 6, 18, 10, 8, 14, 5, 19, 13, 13, 15, 12, 17, 20, 23, 8, 9, 14, 13, 11, 8, 17, 17, 12, 10, 1, 10, 7, 13, 10, 8, 7, 13, 6, 17, 10, 12, 8, 17, 16, 11, 12, 13, 17, 18, 12, 9, 2, 6, 5, 13, 15, 9, 7, 14, 6, 3, 12, 12, 8, 12, 15, 18, 11, 13, 16, 7, 4, 3, 8, 13, 9, 5, 14, 14, 10, 20, 8, 2, 5, 13, 5, 2, 5, 7, 1, 4, 10, 4, 13, 8, 6, 11, 2, 7, 17, 3, 1, 6, 16, 14, 19, 10, 20, 15, 23, 6, 11, 9, 7, 7, 13, 8, 20, 13, 12, 10, 6, 5, 10, 10, 12, 2, 15, 7, 7]}, {\"marker\": {\"line\": {\"width\": 1}, \"size\": 8}, \"mode\": \"markers\", \"name\": \"RFM Segment 1\", \"type\": \"scatter3d\", \"x\": [42, 47, 48, 49, 50, 39, 47, 42, 40, 49, 47, 48, 44, 36, 49, 19, 49, 49, 50, 49, 49, 50, 33, 29, 50, 35, 47, 43, 49, 45, 40, 50, 38, 47, 38, 46, 43, 41, 42, 46, 48, 48, 36, 42, 39, 13, 33, 48, 35, 27, 49, 50, 49, 45, 50, 41, 46, 40, 30, 35, 44, 37, 44, 34, 45, 46, 49, 15, 48, 46, 38, 46, 37, 42, 46, 42, 43, 11, 46, 32, 28, 49, 49, 38, 46, 39, 36, 30, 25, 42, 12, 38, 45, 35, 44, 44, 37, 31, 32, 19, 48, 43, 48, 36, 21, 47, 41, 41, 48, 45, 43, 50, 47, 43, 35, 45, 50, 50, 48, 40, 14, 45, 31, 28, 33, 49, 49, 40, 21, 29, 49, 38, 47, 19, 28, 47, 37, 29, 46, 46, 20, 49, 31, 38, 37, 44, 46, 49, 43, 34, 50, 49, 41, 48, 38, 43, 42, 23, 13, 35, 44, 43, 22, 39, 43, 50, 48, 47, 49, 47, 43, 36, 43, 35, 50, 48, 48, 47, 25, 41, 50, 23, 50, 45, 27, 18, 41, 42, 46, 43, 42, 46, 47, 36, 48, 28, 40, 42, 50, 46, 26, 49, 45, 11, 45, 46, 45, 45, 39, 42, 46, 43, 50, 45, 37, 44, 44, 49, 17, 48, 45, 50, 49, 44, 33, 50, 48, 46, 38, 47, 49, 35, 49, 40, 36, 49, 50, 31, 50, 37, 46, 49, 47, 40, 49, 22, 46, 49, 34, 33, 49, 39, 21, 43, 49, 39, 30, 32, 49, 26, 15, 48, 35, 43, 47, 45, 46, 42, 47, 44, 42, 43, 47, 32, 48, 43, 44, 50, 48, 46, 38, 50, 40, 45, 50, 29, 48, 46, 50, 31, 50, 42, 50, 40, 43, 47, 47, 35, 44, 29, 40, 48, 45, 47, 45, 28, 38, 32, 42, 43, 40, 28, 40, 49, 40, 49, 42, 47, 39, 47, 49, 26, 48, 48, 47, 41, 46, 35, 24, 43, 31, 31, 39, 14, 50, 19, 26, 39, 50, 41, 50, 47, 43, 41, 44, 44, 43, 50, 41, 50, 50, 47, 50, 48, 47, 14, 47, 34, 39, 37, 41, 11, 28, 33, 47, 50, 19, 33, 41, 46, 43, 38, 20, 24, 41, 46, 32, 45, 40, 47, 48, 36, 49, 26, 47, 43, 24, 43, 45, 44, 41, 42, 34, 46, 37, 33, 40, 29, 43, 39, 30, 39, 40, 42, 49, 48, 49, 46, 40, 44, 42, 44, 43, 44, 28, 33, 46, 50, 29, 43, 45, 41, 40, 48, 42, 44, 44, 36, 49, 46, 45, 47, 21, 35, 42, 40, 48, 37, 43, 41, 45, 47, 50, 39, 37, 38, 45, 27, 43, 47, 45, 26, 49, 42, 49, 47, 12, 46, 50, 43, 44, 47, 38, 11, 45, 43, 46, 43, 49, 34, 38, 37, 50, 27, 46, 41], \"y\": [3, 7, 3, 8, 8, 6, 5, 6, 3, 7, 6, 8, 8, 7, 6, 3, 2, 7, 5, 3, 3, 8, 3, 3, 1, 1, 3, 4, 8, 6, 9, 2, 2, 3, 1, 5, 3, 2, 3, 7, 6, 14, 3, 6, 6, 3, 2, 5, 4, 3, 10, 2, 8, 6, 10, 6, 5, 4, 4, 1, 6, 1, 1, 1, 2, 5, 2, 3, 6, 1, 2, 3, 3, 3, 12, 6, 7, 1, 8, 6, 5, 10, 7, 3, 3, 1, 1, 7, 1, 1, 2, 6, 6, 7, 8, 9, 7, 3, 6, 3, 3, 10, 7, 3, 4, 4, 2, 6, 1, 7, 4, 1, 6, 5, 6, 13, 5, 5, 9, 7, 2, 1, 5, 5, 2, 9, 5, 6, 5, 3, 2, 1, 8, 3, 4, 10, 3, 4, 6, 5, 3, 1, 6, 2, 5, 2, 4, 2, 1, 7, 6, 6, 7, 6, 3, 7, 6, 3, 2, 6, 6, 4, 4, 1, 4, 8, 6, 3, 3, 5, 3, 6, 2, 6, 3, 6, 3, 6, 4, 3, 1, 4, 2, 6, 1, 3, 1, 10, 6, 6, 1, 7, 3, 6, 4, 1, 4, 3, 1, 3, 4, 7, 5, 2, 9, 3, 10, 6, 9, 3, 2, 3, 1, 3, 1, 6, 10, 3, 3, 8, 2, 4, 6, 3, 1, 3, 6, 10, 4, 5, 7, 9, 4, 12, 1, 1, 3, 6, 3, 2, 7, 5, 4, 7, 4, 1, 3, 6, 1, 10, 1, 5, 3, 13, 1, 10, 3, 1, 10, 4, 1, 3, 6, 1, 9, 1, 3, 4, 4, 5, 8, 3, 7, 2, 1, 5, 5, 1, 6, 11, 8, 3, 5, 9, 15, 5, 1, 4, 1, 5, 3, 6, 6, 7, 6, 1, 1, 1, 7, 4, 6, 8, 1, 1, 1, 2, 6, 4, 6, 4, 12, 5, 1, 8, 6, 10, 1, 15, 1, 6, 6, 3, 3, 7, 3, 3, 6, 1, 1, 6, 2, 1, 11, 2, 10, 4, 3, 2, 2, 6, 10, 7, 4, 7, 3, 3, 6, 6, 1, 6, 2, 1, 6, 5, 1, 2, 9, 6, 8, 7, 6, 1, 4, 2, 6, 10, 1, 5, 5, 1, 1, 3, 5, 2, 3, 3, 1, 1, 9, 6, 7, 5, 10, 6, 7, 3, 1, 7, 3, 6, 10, 6, 9, 4, 1, 1, 6, 1, 3, 1, 1, 3, 6, 6, 7, 8, 4, 10, 2, 3, 4, 6, 3, 6, 3, 3, 5, 6, 5, 8, 6, 3, 5, 7, 1, 4, 4, 1, 1, 1, 2, 10, 1, 3, 7, 4, 6, 7, 12, 4, 9, 1, 1, 9, 1, 1, 1, 1, 3, 1, 10, 3, 3, 5, 3, 1, 1, 5, 1, 13, 10, 6, 7, 1, 5, 1, 7, 3, 1, 4, 10, 1, 5, 6, 7, 5], \"z\": [2, 7, 2, 9, 7, 8, 7, 8, 2, 6, 5, 9, 7, 7, 3, 2, 1, 9, 2, 3, 10, 5, 3, 2, 8, 4, 6, 2, 12, 9, 4, 1, 5, 16, 15, 12, 16, 15, 9, 5, 3, 3, 4, 5, 1, 2, 9, 4, 5, 2, 10, 1, 7, 7, 8, 10, 7, 1, 1, 8, 2, 2, 1, 1, 2, 3, 3, 2, 3, 1, 1, 15, 1, 6, 3, 11, 6, 1, 8, 4, 2, 8, 8, 2, 5, 1, 1, 4, 1, 1, 1, 6, 5, 6, 7, 3, 8, 5, 4, 4, 2, 5, 3, 11, 2, 7, 1, 1, 2, 10, 8, 2, 12, 13, 7, 4, 10, 3, 5, 7, 1, 2, 5, 4, 3, 5, 6, 6, 1, 2, 2, 2, 11, 2, 3, 5, 11, 2, 7, 5, 1, 2, 5, 2, 3, 6, 3, 8, 7, 5, 6, 5, 9, 13, 4, 3, 4, 6, 1, 4, 7, 4, 3, 1, 2, 7, 5, 2, 2, 5, 1, 6, 11, 2, 1, 4, 3, 4, 4, 2, 1, 3, 1, 3, 2, 3, 1, 3, 7, 3, 7, 11, 2, 5, 8, 1, 4, 11, 1, 1, 4, 4, 4, 2, 1, 4, 8, 2, 6, 4, 4, 16, 3, 2, 10, 5, 7, 6, 3, 4, 1, 2, 14, 2, 2, 18, 5, 8, 2, 14, 7, 5, 3, 3, 1, 6, 8, 6, 3, 6, 5, 3, 2, 7, 2, 1, 3, 5, 2, 1, 10, 4, 5, 2, 4, 4, 8, 1, 3, 3, 1, 13, 4, 2, 7, 4, 9, 5, 4, 5, 9, 2, 6, 1, 2, 11, 3, 1, 3, 5, 7, 1, 8, 4, 4, 5, 1, 14, 7, 3, 13, 2, 11, 4, 4, 4, 2, 1, 7, 3, 4, 10, 7, 2, 1, 1, 8, 6, 11, 14, 3, 5, 1, 6, 5, 9, 8, 3, 2, 1, 5, 3, 2, 7, 6, 4, 10, 12, 1, 8, 4, 1, 2, 2, 10, 2, 4, 15, 7, 3, 10, 5, 1, 4, 5, 4, 9, 4, 1, 4, 4, 1, 8, 3, 1, 3, 3, 4, 8, 7, 4, 1, 7, 1, 3, 10, 1, 3, 3, 11, 7, 12, 1, 2, 5, 10, 3, 1, 6, 3, 6, 4, 6, 4, 6, 1, 5, 8, 9, 3, 5, 6, 2, 2, 7, 10, 3, 1, 8, 1, 2, 7, 4, 4, 11, 5, 5, 6, 2, 3, 6, 7, 5, 3, 2, 1, 3, 2, 4, 8, 5, 5, 4, 5, 14, 5, 3, 1, 2, 1, 1, 9, 1, 1, 5, 7, 4, 3, 3, 3, 1, 8, 10, 2, 13, 16, 1, 1, 2, 1, 7, 1, 1, 6, 1, 2, 2, 2, 2, 3, 3, 5, 6, 1, 8, 13, 6, 2, 19, 3, 5, 1, 6, 3, 7, 2]}, {\"marker\": {\"line\": {\"width\": 1}, \"size\": 8}, \"mode\": \"markers\", \"name\": \"RFM Segment 9\", \"type\": \"scatter3d\", \"x\": [44, 36, 47, 32, 48, 43, 36, 41, 23, 35, 44, 24, 37, 41, 28, 40, 38, 36, 46, 28, 38, 33, 19, 21, 33, 32, 44, 12, 6, 34, 35, 41, 34, 15, 35, 37, 35, 49, 37, 14, 30, 47, 35, 36, 48, 28, 38, 48, 44, 41, 40, 45, 24, 34, 28, 38, 42, 47, 49, 44, 23, 38, 39, 32, 42, 31, 42, 35, 40, 47, 17, 39, 30, 38, 18, 47, 47, 29, 34, 44, 43, 42, 25, 37, 34, 39, 20, 41, 39, 42, 45, 29, 28, 37, 46, 28, 45, 50, 34, 49, 37, 41, 37, 31, 28, 35, 47, 29, 42, 33, 42, 39, 21, 26, 29, 11, 31, 39, 46, 38, 43, 47, 33, 36, 48, 29, 47, 15, 39, 36, 41, 36, 34, 47, 25, 41, 25, 28, 26, 16, 31, 27, 36, 46, 40, 40, 39, 15, 15, 48, 37, 36, 42, 36, 32, 39, 43, 28, 47, 37, 37, 43, 44, 47, 33, 29, 45, 40, 41, 32, 45, 36, 49, 31, 29, 42, 36, 37, 30, 39, 38, 35, 25, 41, 36, 39, 25, 42, 21, 22, 44, 29, 13, 27, 42, 42, 34, 25, 40, 39, 17, 44, 33, 31, 44, 37, 46, 27, 18, 15, 39, 36, 14, 19, 41, 42, 38, 33, 42, 39, 43, 20, 32, 38, 21, 34, 40, 43, 30, 43, 33, 44, 37, 29, 37, 44, 37, 39, 30, 28, 43, 36, 31, 44, 40, 29, 24, 29, 47, 50, 37, 33, 24, 45, 19, 40, 23, 41, 38, 48, 33, 43, 48, 26, 32, 40, 13, 40, 45, 24, 21, 36, 34, 37, 41, 39, 42, 34, 44, 41, 23, 25, 23, 33, 26, 18, 17, 36, 41, 38, 42, 40, 45, 29, 27, 48, 42, 34, 30, 36, 33, 42, 46, 24, 47, 47, 43, 42, 26, 33, 45, 39, 37, 25, 30, 31, 33, 40, 46, 41, 30, 32, 27, 49, 36, 42, 35, 38, 43, 21, 31, 34, 34, 30, 30, 42, 33, 40, 47, 17, 41, 47, 21, 17, 41, 30, 30, 25, 31, 41, 32, 44, 23, 30, 38, 31, 50, 34, 29, 42, 46, 45, 29, 35, 34, 43, 26, 22, 23, 42, 26, 8, 38, 31, 42, 38, 41, 28, 13, 19, 44, 36, 39, 35, 35, 17, 31, 27, 26, 29, 48, 35, 33, 31, 43, 36, 37, 20, 48, 34, 8, 32, 29, 27, 47, 34, 40, 36, 43, 31, 16, 23, 37, 37, 40, 40, 42, 26, 47, 43, 35, 41, 37, 42, 42, 26, 19, 40, 44, 30, 40, 21, 49, 49, 38, 37, 31, 47, 43, 42, 34, 33, 23, 22, 23], \"y\": [30, 17, 16, 22, 18, 13, 23, 21, 8, 12, 18, 16, 26, 24, 15, 16, 22, 23, 29, 13, 24, 13, 12, 14, 14, 20, 16, 8, 3, 13, 15, 19, 22, 8, 24, 21, 21, 28, 25, 9, 15, 22, 15, 18, 26, 19, 13, 27, 22, 18, 18, 21, 11, 20, 18, 17, 27, 18, 32, 27, 16, 16, 19, 18, 16, 19, 19, 21, 18, 22, 6, 16, 18, 21, 13, 34, 25, 13, 16, 32, 30, 30, 12, 18, 17, 24, 11, 29, 14, 29, 26, 12, 17, 22, 20, 17, 20, 25, 17, 23, 23, 18, 25, 19, 15, 10, 29, 16, 16, 24, 22, 29, 12, 18, 17, 6, 18, 18, 28, 26, 24, 23, 16, 25, 22, 17, 24, 11, 20, 17, 19, 25, 11, 15, 13, 26, 13, 19, 15, 8, 15, 13, 17, 21, 18, 25, 22, 9, 8, 23, 27, 21, 26, 23, 25, 16, 19, 11, 24, 26, 19, 19, 29, 21, 26, 17, 15, 25, 28, 11, 29, 21, 20, 22, 17, 21, 24, 19, 11, 21, 18, 20, 13, 25, 12, 21, 10, 21, 13, 13, 32, 14, 7, 15, 18, 29, 17, 12, 21, 21, 10, 31, 21, 14, 29, 23, 25, 19, 11, 10, 26, 15, 8, 8, 24, 19, 22, 17, 26, 13, 30, 8, 15, 26, 15, 18, 28, 27, 21, 18, 17, 19, 15, 12, 20, 19, 17, 20, 15, 14, 15, 21, 16, 22, 23, 17, 9, 19, 21, 23, 17, 15, 15, 32, 10, 25, 9, 21, 26, 28, 19, 25, 19, 17, 20, 27, 5, 21, 20, 17, 16, 23, 18, 18, 22, 23, 18, 15, 23, 28, 8, 13, 10, 15, 9, 9, 6, 19, 20, 26, 25, 15, 29, 17, 19, 20, 17, 13, 15, 13, 17, 16, 25, 15, 17, 24, 13, 23, 12, 21, 24, 20, 16, 11, 11, 11, 17, 26, 24, 23, 16, 15, 14, 29, 18, 22, 17, 16, 25, 14, 9, 22, 20, 17, 17, 25, 19, 18, 28, 10, 21, 18, 13, 8, 23, 19, 22, 19, 23, 18, 15, 19, 14, 17, 20, 10, 27, 26, 16, 17, 23, 25, 17, 19, 18, 24, 16, 17, 8, 18, 10, 6, 29, 13, 22, 14, 18, 16, 8, 11, 19, 16, 16, 17, 23, 10, 17, 14, 10, 19, 28, 21, 19, 22, 19, 24, 25, 10, 26, 20, 3, 20, 15, 20, 25, 19, 18, 25, 29, 19, 8, 11, 27, 23, 21, 23, 24, 10, 21, 18, 25, 27, 15, 14, 21, 11, 15, 21, 20, 15, 19, 13, 20, 25, 22, 24, 18, 17, 24, 15, 14, 24, 15, 8, 10], \"z\": [33, 22, 25, 22, 26, 22, 25, 23, 11, 21, 20, 19, 26, 27, 11, 19, 31, 24, 32, 15, 23, 15, 15, 16, 15, 19, 21, 8, 5, 19, 18, 23, 27, 7, 25, 20, 24, 30, 29, 9, 12, 24, 16, 19, 28, 19, 21, 38, 33, 19, 20, 21, 10, 23, 17, 18, 33, 22, 23, 29, 16, 16, 18, 18, 27, 22, 19, 22, 21, 22, 11, 18, 20, 21, 10, 34, 18, 12, 16, 29, 32, 23, 19, 20, 26, 32, 11, 29, 20, 29, 28, 16, 18, 26, 19, 19, 24, 27, 17, 22, 26, 20, 24, 23, 18, 19, 35, 12, 20, 24, 36, 28, 10, 17, 19, 4, 15, 20, 28, 27, 24, 27, 15, 26, 22, 14, 33, 9, 17, 17, 21, 24, 18, 29, 13, 27, 11, 17, 15, 9, 15, 15, 24, 30, 17, 25, 14, 10, 6, 25, 22, 31, 26, 20, 21, 24, 19, 20, 24, 26, 24, 19, 35, 23, 22, 19, 24, 26, 30, 21, 31, 22, 21, 19, 21, 20, 24, 20, 18, 23, 23, 17, 16, 20, 19, 25, 14, 20, 14, 16, 30, 17, 7, 14, 18, 30, 25, 19, 26, 23, 8, 28, 22, 18, 30, 27, 17, 19, 12, 10, 29, 25, 6, 11, 26, 21, 22, 25, 20, 24, 31, 9, 13, 21, 13, 31, 30, 30, 20, 20, 18, 20, 16, 18, 31, 24, 21, 24, 13, 21, 27, 24, 14, 21, 24, 17, 11, 21, 23, 38, 18, 16, 17, 28, 12, 25, 14, 17, 24, 23, 21, 22, 21, 20, 19, 21, 7, 19, 20, 17, 14, 23, 27, 19, 25, 19, 25, 15, 22, 32, 13, 17, 13, 14, 16, 7, 8, 24, 20, 24, 35, 22, 29, 17, 16, 21, 21, 17, 19, 18, 16, 19, 29, 14, 23, 19, 24, 24, 13, 24, 22, 27, 16, 15, 15, 18, 22, 32, 30, 22, 22, 19, 18, 33, 18, 22, 22, 16, 24, 14, 16, 23, 13, 19, 17, 26, 22, 18, 29, 9, 19, 28, 12, 12, 29, 19, 20, 14, 20, 21, 14, 20, 12, 21, 23, 18, 24, 23, 16, 24, 33, 17, 15, 18, 21, 16, 15, 14, 11, 23, 12, 5, 27, 17, 29, 19, 21, 17, 8, 11, 19, 15, 25, 19, 27, 9, 14, 19, 17, 16, 19, 21, 21, 19, 21, 25, 21, 11, 18, 24, 4, 21, 18, 17, 24, 29, 21, 27, 31, 22, 7, 10, 27, 28, 30, 26, 33, 12, 30, 24, 19, 26, 18, 22, 23, 15, 12, 28, 24, 12, 27, 15, 26, 19, 25, 25, 16, 22, 24, 25, 19, 23, 14, 12, 15]}, {\"marker\": {\"line\": {\"width\": 1}, \"size\": 8}, \"mode\": \"markers\", \"name\": \"RFM Segment 0\", \"type\": \"scatter3d\", \"x\": [1, 27, 8, 13, 12, 15, 7, 8, 22, 8, 2, 29, 2, 19, 8, 4, 15, 3, 8, 5, 3, 8, 1, 3, 22, 11, 16, 8, 6, 15, 6, 18, 7, 31, 11, 6, 24, 15, 15, 14, 1, 17, 4, 8, 20, 3, 12, 7, 8, 7, 2, 8, 15, 11, 11, 12, 8, 4, 8, 5, 8, 11, 15, 12, 2, 19, 12, 12, 7, 11, 31, 22, 6, 1, 4, 12, 11, 12, 18, 3, 19, 7, 19, 6, 17, 11, 21, 20, 24, 6, 23, 12, 4, 15, 3, 9, 12, 1, 9, 9, 7, 25, 4, 13, 6, 17, 2], \"y\": [14, 11, 20, 6, 22, 2, 24, 6, 24, 10, 17, 27, 17, 7, 1, 4, 17, 15, 3, 11, 22, 10, 1, 15, 19, 4, 31, 21, 22, 27, 15, 12, 22, 23, 7, 11, 8, 19, 9, 7, 3, 13, 15, 12, 26, 13, 18, 9, 20, 6, 1, 6, 8, 25, 8, 11, 2, 12, 15, 7, 26, 9, 15, 23, 6, 4, 15, 21, 12, 13, 19, 3, 27, 2, 8, 3, 13, 12, 4, 16, 18, 19, 2, 9, 4, 19, 22, 17, 6, 19, 19, 3, 14, 18, 13, 27, 31, 11, 21, 3, 26, 14, 6, 1, 26, 26, 2], \"z\": [34, 45, 34, 20, 50, 27, 47, 49, 49, 36, 38, 50, 39, 34, 15, 9, 40, 33, 27, 20, 48, 18, 16, 28, 36, 24, 49, 42, 45, 47, 45, 30, 35, 48, 26, 26, 46, 40, 36, 35, 11, 31, 39, 22, 43, 34, 33, 16, 33, 14, 46, 18, 38, 42, 39, 34, 15, 35, 30, 24, 43, 31, 40, 47, 50, 45, 35, 45, 19, 25, 48, 43, 50, 50, 18, 48, 24, 35, 38, 38, 39, 41, 39, 33, 31, 47, 38, 42, 43, 43, 49, 33, 34, 36, 27, 43, 48, 36, 44, 29, 47, 46, 10, 34, 44, 42, 8]}, {\"marker\": {\"line\": {\"width\": 1}, \"size\": 8}, \"mode\": \"markers\", \"name\": \"RFM Segment 4\", \"type\": \"scatter3d\", \"x\": [4, 15, 3, 18, 25, 21, 19, 21, 19, 17, 13, 12, 17, 6, 17, 15, 24, 13, 14, 22, 12, 18, 8, 23, 10, 5, 6, 14, 23, 12, 24, 19, 23, 26, 13, 21, 6, 4, 27, 15, 18, 14, 2, 10, 14, 23, 2, 15, 12, 8, 15, 18, 13, 28, 8, 12, 18, 25, 15, 28, 14, 3, 21, 15, 6, 20, 12, 5, 18, 14, 12, 17, 11, 17, 10, 7, 11, 14, 25, 26, 26, 21, 27, 10, 7, 24, 4, 13, 19, 20, 21, 18, 19, 15, 20, 20, 16, 17, 4, 21, 9, 17, 9, 28, 18, 8, 14, 23, 20, 11, 16, 12, 7, 14, 21, 12, 16, 10, 22, 24, 10, 23, 16, 24, 27, 16, 19, 21, 12, 20, 12, 12, 22, 21, 29, 18, 14, 13, 14, 24, 24, 21, 18, 16, 26, 8, 17, 15, 14, 22, 24, 24, 27, 16, 16, 15, 10, 11, 18, 19, 19, 16, 18, 17, 22, 18, 17, 19, 27, 16, 6, 11, 4, 23, 2, 15, 18, 12, 15, 11, 11, 17, 12, 12, 23, 9, 4, 11, 15, 13, 11, 23, 15, 20, 11, 23, 14, 14, 17, 10, 23, 27, 8, 17, 15, 17, 23, 15, 10, 2, 9, 10, 10, 30, 15, 8, 3, 24, 29, 5, 15, 20, 17, 21, 9, 22, 10, 3, 4, 21, 15, 20, 17, 9, 14, 30, 17, 19, 14, 10, 17, 25], \"y\": [8, 38, 9, 33, 40, 43, 26, 41, 29, 35, 34, 19, 39, 43, 28, 27, 34, 20, 42, 37, 18, 37, 34, 36, 38, 44, 22, 24, 44, 36, 38, 26, 38, 38, 32, 44, 30, 27, 37, 36, 46, 30, 33, 39, 28, 44, 26, 43, 32, 21, 25, 41, 47, 39, 31, 37, 45, 39, 30, 46, 40, 17, 44, 43, 29, 42, 41, 20, 44, 38, 38, 49, 42, 30, 36, 19, 24, 25, 34, 42, 41, 34, 41, 40, 40, 39, 18, 20, 32, 29, 43, 35, 30, 44, 30, 39, 41, 39, 14, 46, 23, 41, 37, 45, 45, 23, 37, 42, 34, 41, 29, 40, 21, 42, 37, 41, 36, 46, 42, 38, 32, 48, 44, 49, 46, 30, 38, 29, 41, 39, 25, 27, 41, 37, 39, 36, 34, 32, 27, 38, 36, 32, 42, 45, 44, 23, 36, 44, 44, 41, 47, 37, 42, 31, 43, 41, 43, 38, 44, 31, 43, 42, 29, 30, 38, 37, 32, 40, 41, 37, 32, 30, 40, 35, 35, 27, 33, 29, 32, 45, 36, 27, 41, 36, 47, 35, 29, 27, 37, 28, 29, 39, 39, 36, 42, 42, 39, 27, 28, 35, 46, 38, 29, 45, 35, 30, 35, 39, 42, 31, 17, 38, 32, 45, 24, 25, 35, 37, 42, 34, 47, 39, 44, 43, 24, 37, 30, 31, 27, 45, 40, 37, 40, 25, 27, 49, 34, 45, 27, 42, 26, 38], \"z\": [6, 20, 6, 18, 24, 25, 16, 26, 14, 17, 21, 6, 24, 19, 20, 20, 21, 11, 28, 9, 8, 23, 9, 12, 24, 24, 7, 10, 29, 16, 26, 12, 26, 28, 17, 33, 16, 15, 18, 25, 25, 9, 8, 19, 19, 27, 6, 28, 20, 4, 6, 24, 30, 25, 11, 23, 29, 25, 11, 24, 29, 6, 23, 24, 17, 30, 29, 10, 28, 25, 24, 34, 24, 12, 15, 9, 7, 9, 21, 21, 18, 17, 26, 13, 13, 22, 10, 13, 18, 21, 32, 18, 22, 31, 18, 24, 27, 28, 10, 31, 14, 23, 21, 22, 31, 9, 10, 31, 16, 16, 15, 16, 6, 25, 28, 29, 18, 24, 25, 27, 11, 33, 31, 35, 29, 18, 27, 18, 27, 29, 11, 16, 28, 16, 20, 14, 18, 6, 9, 26, 25, 10, 29, 25, 27, 12, 20, 31, 33, 22, 32, 24, 28, 22, 30, 29, 29, 20, 21, 16, 31, 23, 17, 11, 21, 18, 12, 30, 28, 26, 15, 12, 11, 12, 13, 5, 22, 4, 8, 30, 22, 17, 23, 19, 35, 18, 8, 11, 26, 16, 14, 25, 27, 25, 28, 25, 20, 6, 19, 17, 33, 17, 7, 25, 25, 14, 26, 28, 27, 15, 3, 23, 7, 33, 7, 16, 15, 15, 29, 17, 35, 20, 27, 27, 8, 17, 18, 10, 4, 25, 18, 18, 22, 9, 10, 36, 14, 33, 15, 27, 17, 22]}, {\"marker\": {\"line\": {\"width\": 1}, \"size\": 8}, \"mode\": \"markers\", \"name\": \"RFM Segment 5\", \"type\": \"scatter3d\", \"x\": [29, 11, 37, 34, 19, 29, 47, 46, 35, 18, 28, 28, 39, 45, 45, 19, 44, 21, 41, 40, 25, 25, 18, 43, 39, 38, 46, 27, 31, 38, 32, 48, 28, 37, 47, 21, 48, 35, 21, 4, 23, 41, 24, 26, 29, 22, 48, 39, 12, 25, 24, 32, 40, 33, 46, 24, 38, 23, 50, 25, 19, 28, 41, 26, 34, 19, 22, 42, 42, 22, 40, 23, 21, 46, 32, 31, 40, 29, 15, 31, 30, 29, 24, 35, 39, 26, 39, 15, 45, 27, 47, 45, 49, 49, 33, 36, 39, 50, 40, 27, 28, 17, 40, 39, 30, 40, 40, 23, 30, 26, 17, 35, 50, 39, 43, 41, 39, 40, 14, 3, 44, 25, 45, 23, 34, 27, 50, 28, 48, 50, 37, 35, 28, 46, 46, 26, 27, 24, 43, 18, 38, 32, 36, 31, 28, 4, 23, 31, 14, 27, 28, 30, 18, 47, 27, 27, 28, 32, 35, 37, 50, 40, 41, 21, 29, 33, 21, 28, 26, 32, 19, 41, 48, 36, 39, 25, 25, 40, 27, 35, 26, 20, 34, 21, 36, 36, 13, 38, 38, 37, 21, 49, 39, 24, 48, 9, 42, 30, 48, 21, 33, 41, 41, 45, 37, 42, 45, 12, 43, 21, 48, 38, 39, 27, 31, 33, 40, 21, 25, 25, 23, 50, 48, 39, 27, 40, 33, 19, 50, 27, 24, 37, 31, 29, 38, 50, 50, 38, 18, 35, 29, 24, 28, 22, 28, 35], \"y\": [23, 13, 42, 28, 23, 20, 37, 28, 27, 22, 20, 36, 26, 37, 29, 13, 32, 32, 34, 26, 18, 25, 19, 32, 28, 36, 29, 30, 21, 31, 37, 36, 29, 27, 43, 15, 32, 30, 18, 5, 25, 34, 27, 30, 34, 27, 30, 30, 13, 20, 28, 20, 35, 21, 41, 28, 33, 30, 33, 27, 25, 31, 33, 25, 35, 24, 15, 36, 25, 31, 34, 23, 15, 33, 31, 41, 32, 37, 11, 36, 17, 29, 24, 28, 38, 24, 34, 20, 27, 31, 31, 30, 30, 43, 30, 34, 36, 33, 34, 35, 30, 21, 44, 25, 29, 47, 36, 15, 18, 21, 13, 27, 39, 37, 31, 25, 31, 38, 19, 2, 36, 22, 34, 22, 38, 23, 34, 20, 42, 32, 40, 43, 25, 27, 31, 23, 21, 29, 35, 13, 24, 26, 30, 29, 36, 5, 21, 32, 22, 38, 31, 31, 19, 43, 23, 18, 34, 28, 31, 43, 32, 38, 24, 24, 33, 37, 24, 31, 29, 25, 16, 26, 33, 32, 37, 21, 25, 35, 17, 31, 25, 18, 27, 18, 33, 36, 13, 41, 41, 24, 19, 29, 45, 22, 31, 11, 33, 17, 31, 22, 29, 31, 44, 36, 25, 26, 27, 10, 32, 31, 34, 27, 30, 29, 32, 34, 27, 13, 31, 17, 30, 30, 37, 23, 19, 40, 19, 14, 30, 31, 17, 32, 33, 21, 23, 36, 32, 28, 22, 20, 23, 27, 25, 13, 30, 22], \"z\": [4, 4, 22, 4, 7, 7, 22, 12, 19, 3, 3, 12, 16, 24, 12, 7, 10, 9, 11, 8, 12, 7, 6, 16, 17, 13, 12, 12, 13, 17, 23, 18, 16, 4, 30, 5, 20, 16, 4, 2, 9, 11, 15, 8, 20, 6, 12, 6, 5, 6, 9, 3, 12, 12, 18, 16, 23, 14, 14, 17, 11, 8, 14, 8, 23, 5, 3, 12, 15, 10, 19, 11, 4, 11, 20, 20, 7, 17, 7, 12, 9, 4, 11, 6, 16, 7, 20, 5, 8, 17, 19, 10, 9, 32, 15, 16, 10, 5, 22, 12, 19, 12, 26, 11, 15, 28, 26, 5, 11, 3, 1, 10, 15, 19, 21, 15, 6, 19, 6, 1, 18, 9, 24, 10, 22, 16, 16, 13, 29, 16, 19, 22, 17, 9, 12, 5, 11, 9, 25, 7, 11, 16, 22, 7, 16, 2, 10, 18, 3, 14, 14, 20, 5, 28, 9, 6, 17, 9, 19, 23, 18, 20, 12, 8, 9, 23, 8, 6, 6, 15, 3, 10, 22, 13, 25, 10, 11, 26, 10, 17, 15, 3, 14, 7, 14, 16, 7, 24, 22, 14, 3, 10, 28, 6, 16, 4, 18, 8, 20, 12, 13, 21, 26, 24, 8, 11, 9, 6, 13, 8, 9, 8, 16, 10, 12, 12, 15, 1, 5, 3, 15, 11, 23, 8, 10, 23, 5, 3, 10, 18, 9, 18, 20, 3, 2, 12, 16, 5, 6, 4, 2, 7, 6, 3, 8, 6]}],\n",
              "                        {\"autosize\": true, \"font\": {\"color\": \"black\", \"family\": \"Gilroy\", \"size\": 12}, \"height\": 800, \"scene\": {\"xaxis\": {\"title\": {\"font\": {\"color\": \"black\"}, \"text\": \"Recency\"}}, \"yaxis\": {\"title\": {\"font\": {\"color\": \"black\"}, \"text\": \"Frequency\"}}, \"zaxis\": {\"title\": {\"font\": {\"color\": \"black\"}, \"text\": \"Monetary Value\"}}}, \"showlegend\": true, \"template\": {\"data\": {\"bar\": [{\"error_x\": {\"color\": \"#2a3f5f\"}, \"error_y\": {\"color\": \"#2a3f5f\"}, \"marker\": {\"line\": {\"color\": \"#E5ECF6\", \"width\": 0.5}}, \"type\": \"bar\"}], \"barpolar\": [{\"marker\": {\"line\": {\"color\": \"#E5ECF6\", \"width\": 0.5}}, \"type\": \"barpolar\"}], \"carpet\": [{\"aaxis\": {\"endlinecolor\": \"#2a3f5f\", \"gridcolor\": \"white\", \"linecolor\": \"white\", \"minorgridcolor\": \"white\", \"startlinecolor\": \"#2a3f5f\"}, \"baxis\": {\"endlinecolor\": \"#2a3f5f\", \"gridcolor\": \"white\", \"linecolor\": \"white\", \"minorgridcolor\": \"white\", \"startlinecolor\": \"#2a3f5f\"}, \"type\": \"carpet\"}], \"choropleth\": [{\"colorbar\": {\"outlinewidth\": 0, \"ticks\": \"\"}, \"type\": \"choropleth\"}], \"contour\": [{\"colorbar\": {\"outlinewidth\": 0, \"ticks\": \"\"}, \"colorscale\": [[0.0, \"#0d0887\"], [0.1111111111111111, \"#46039f\"], [0.2222222222222222, \"#7201a8\"], [0.3333333333333333, \"#9c179e\"], [0.4444444444444444, \"#bd3786\"], [0.5555555555555556, \"#d8576b\"], [0.6666666666666666, \"#ed7953\"], [0.7777777777777778, \"#fb9f3a\"], [0.8888888888888888, \"#fdca26\"], [1.0, \"#f0f921\"]], \"type\": \"contour\"}], \"contourcarpet\": [{\"colorbar\": {\"outlinewidth\": 0, \"ticks\": \"\"}, \"type\": \"contourcarpet\"}], \"heatmap\": [{\"colorbar\": {\"outlinewidth\": 0, \"ticks\": \"\"}, \"colorscale\": [[0.0, \"#0d0887\"], [0.1111111111111111, \"#46039f\"], [0.2222222222222222, \"#7201a8\"], [0.3333333333333333, \"#9c179e\"], [0.4444444444444444, \"#bd3786\"], [0.5555555555555556, \"#d8576b\"], [0.6666666666666666, \"#ed7953\"], [0.7777777777777778, \"#fb9f3a\"], [0.8888888888888888, \"#fdca26\"], [1.0, \"#f0f921\"]], \"type\": \"heatmap\"}], \"heatmapgl\": [{\"colorbar\": {\"outlinewidth\": 0, \"ticks\": \"\"}, \"colorscale\": [[0.0, \"#0d0887\"], [0.1111111111111111, \"#46039f\"], [0.2222222222222222, \"#7201a8\"], [0.3333333333333333, \"#9c179e\"], [0.4444444444444444, \"#bd3786\"], [0.5555555555555556, \"#d8576b\"], [0.6666666666666666, \"#ed7953\"], [0.7777777777777778, \"#fb9f3a\"], [0.8888888888888888, \"#fdca26\"], [1.0, \"#f0f921\"]], \"type\": \"heatmapgl\"}], \"histogram\": [{\"marker\": {\"colorbar\": {\"outlinewidth\": 0, \"ticks\": \"\"}}, \"type\": \"histogram\"}], \"histogram2d\": [{\"colorbar\": {\"outlinewidth\": 0, \"ticks\": \"\"}, \"colorscale\": [[0.0, \"#0d0887\"], [0.1111111111111111, \"#46039f\"], [0.2222222222222222, \"#7201a8\"], [0.3333333333333333, \"#9c179e\"], [0.4444444444444444, \"#bd3786\"], [0.5555555555555556, \"#d8576b\"], [0.6666666666666666, \"#ed7953\"], [0.7777777777777778, \"#fb9f3a\"], [0.8888888888888888, \"#fdca26\"], [1.0, \"#f0f921\"]], \"type\": \"histogram2d\"}], \"histogram2dcontour\": [{\"colorbar\": {\"outlinewidth\": 0, \"ticks\": \"\"}, \"colorscale\": [[0.0, \"#0d0887\"], [0.1111111111111111, \"#46039f\"], [0.2222222222222222, \"#7201a8\"], [0.3333333333333333, \"#9c179e\"], [0.4444444444444444, \"#bd3786\"], [0.5555555555555556, \"#d8576b\"], [0.6666666666666666, \"#ed7953\"], [0.7777777777777778, \"#fb9f3a\"], [0.8888888888888888, \"#fdca26\"], [1.0, \"#f0f921\"]], \"type\": \"histogram2dcontour\"}], \"mesh3d\": [{\"colorbar\": {\"outlinewidth\": 0, \"ticks\": \"\"}, \"type\": \"mesh3d\"}], \"parcoords\": [{\"line\": {\"colorbar\": {\"outlinewidth\": 0, \"ticks\": \"\"}}, \"type\": \"parcoords\"}], \"pie\": [{\"automargin\": true, \"type\": \"pie\"}], \"scatter\": [{\"marker\": {\"colorbar\": {\"outlinewidth\": 0, \"ticks\": \"\"}}, \"type\": \"scatter\"}], \"scatter3d\": [{\"line\": {\"colorbar\": {\"outlinewidth\": 0, \"ticks\": \"\"}}, \"marker\": {\"colorbar\": {\"outlinewidth\": 0, \"ticks\": \"\"}}, \"type\": \"scatter3d\"}], \"scattercarpet\": [{\"marker\": {\"colorbar\": {\"outlinewidth\": 0, \"ticks\": \"\"}}, \"type\": \"scattercarpet\"}], \"scattergeo\": [{\"marker\": {\"colorbar\": {\"outlinewidth\": 0, \"ticks\": \"\"}}, \"type\": \"scattergeo\"}], \"scattergl\": [{\"marker\": {\"colorbar\": {\"outlinewidth\": 0, \"ticks\": \"\"}}, \"type\": \"scattergl\"}], \"scattermapbox\": [{\"marker\": {\"colorbar\": {\"outlinewidth\": 0, \"ticks\": \"\"}}, \"type\": \"scattermapbox\"}], \"scatterpolar\": [{\"marker\": {\"colorbar\": {\"outlinewidth\": 0, \"ticks\": \"\"}}, \"type\": \"scatterpolar\"}], \"scatterpolargl\": [{\"marker\": {\"colorbar\": {\"outlinewidth\": 0, \"ticks\": \"\"}}, \"type\": \"scatterpolargl\"}], \"scatterternary\": [{\"marker\": {\"colorbar\": {\"outlinewidth\": 0, \"ticks\": \"\"}}, \"type\": \"scatterternary\"}], \"surface\": [{\"colorbar\": {\"outlinewidth\": 0, \"ticks\": \"\"}, \"colorscale\": [[0.0, \"#0d0887\"], [0.1111111111111111, \"#46039f\"], [0.2222222222222222, \"#7201a8\"], [0.3333333333333333, \"#9c179e\"], [0.4444444444444444, \"#bd3786\"], [0.5555555555555556, \"#d8576b\"], [0.6666666666666666, \"#ed7953\"], [0.7777777777777778, \"#fb9f3a\"], [0.8888888888888888, \"#fdca26\"], [1.0, \"#f0f921\"]], \"type\": \"surface\"}], \"table\": [{\"cells\": {\"fill\": {\"color\": \"#EBF0F8\"}, \"line\": {\"color\": \"white\"}}, \"header\": {\"fill\": {\"color\": \"#C8D4E3\"}, \"line\": {\"color\": \"white\"}}, \"type\": \"table\"}]}, \"layout\": {\"annotationdefaults\": {\"arrowcolor\": \"#2a3f5f\", \"arrowhead\": 0, \"arrowwidth\": 1}, \"coloraxis\": {\"colorbar\": {\"outlinewidth\": 0, \"ticks\": \"\"}}, \"colorscale\": {\"diverging\": [[0, \"#8e0152\"], [0.1, \"#c51b7d\"], [0.2, \"#de77ae\"], [0.3, \"#f1b6da\"], [0.4, \"#fde0ef\"], [0.5, \"#f7f7f7\"], [0.6, \"#e6f5d0\"], [0.7, \"#b8e186\"], [0.8, \"#7fbc41\"], [0.9, \"#4d9221\"], [1, \"#276419\"]], \"sequential\": [[0.0, \"#0d0887\"], [0.1111111111111111, \"#46039f\"], [0.2222222222222222, \"#7201a8\"], [0.3333333333333333, \"#9c179e\"], [0.4444444444444444, \"#bd3786\"], [0.5555555555555556, \"#d8576b\"], [0.6666666666666666, \"#ed7953\"], [0.7777777777777778, \"#fb9f3a\"], [0.8888888888888888, \"#fdca26\"], [1.0, \"#f0f921\"]], \"sequentialminus\": [[0.0, \"#0d0887\"], [0.1111111111111111, \"#46039f\"], [0.2222222222222222, \"#7201a8\"], [0.3333333333333333, \"#9c179e\"], [0.4444444444444444, \"#bd3786\"], [0.5555555555555556, \"#d8576b\"], [0.6666666666666666, \"#ed7953\"], [0.7777777777777778, \"#fb9f3a\"], [0.8888888888888888, \"#fdca26\"], [1.0, \"#f0f921\"]]}, \"colorway\": [\"#636efa\", \"#EF553B\", \"#00cc96\", \"#ab63fa\", \"#FFA15A\", \"#19d3f3\", \"#FF6692\", \"#B6E880\", \"#FF97FF\", \"#FECB52\"], \"font\": {\"color\": \"#2a3f5f\"}, \"geo\": {\"bgcolor\": \"white\", \"lakecolor\": \"white\", \"landcolor\": \"#E5ECF6\", \"showlakes\": true, \"showland\": true, \"subunitcolor\": \"white\"}, \"hoverlabel\": {\"align\": \"left\"}, \"hovermode\": \"closest\", \"mapbox\": {\"style\": \"light\"}, \"paper_bgcolor\": \"white\", \"plot_bgcolor\": \"#E5ECF6\", \"polar\": {\"angularaxis\": {\"gridcolor\": \"white\", \"linecolor\": \"white\", \"ticks\": \"\"}, \"bgcolor\": \"#E5ECF6\", \"radialaxis\": {\"gridcolor\": \"white\", \"linecolor\": \"white\", \"ticks\": \"\"}}, \"scene\": {\"xaxis\": {\"backgroundcolor\": \"#E5ECF6\", \"gridcolor\": \"white\", \"gridwidth\": 2, \"linecolor\": \"white\", \"showbackground\": true, \"ticks\": \"\", \"zerolinecolor\": \"white\"}, \"yaxis\": {\"backgroundcolor\": \"#E5ECF6\", \"gridcolor\": \"white\", \"gridwidth\": 2, \"linecolor\": \"white\", \"showbackground\": true, \"ticks\": \"\", \"zerolinecolor\": \"white\"}, \"zaxis\": {\"backgroundcolor\": \"#E5ECF6\", \"gridcolor\": \"white\", \"gridwidth\": 2, \"linecolor\": \"white\", \"showbackground\": true, \"ticks\": \"\", \"zerolinecolor\": \"white\"}}, \"shapedefaults\": {\"line\": {\"color\": \"#2a3f5f\"}}, \"ternary\": {\"aaxis\": {\"gridcolor\": \"white\", \"linecolor\": \"white\", \"ticks\": \"\"}, \"baxis\": {\"gridcolor\": \"white\", \"linecolor\": \"white\", \"ticks\": \"\"}, \"bgcolor\": \"#E5ECF6\", \"caxis\": {\"gridcolor\": \"white\", \"linecolor\": \"white\", \"ticks\": \"\"}}, \"title\": {\"x\": 0.05}, \"xaxis\": {\"automargin\": true, \"gridcolor\": \"white\", \"linecolor\": \"white\", \"ticks\": \"\", \"title\": {\"standoff\": 15}, \"zerolinecolor\": \"white\", \"zerolinewidth\": 2}, \"yaxis\": {\"automargin\": true, \"gridcolor\": \"white\", \"linecolor\": \"white\", \"ticks\": \"\", \"title\": {\"standoff\": 15}, \"zerolinecolor\": \"white\", \"zerolinewidth\": 2}}}, \"width\": 1000},\n",
              "                        {\"responsive\": true}\n",
              "                    ).then(function(){\n",
              "                            \n",
              "var gd = document.getElementById('9de477f5-4258-4a5a-890e-7d9d4ced472d');\n",
              "var x = new MutationObserver(function (mutations, observer) {{\n",
              "        var display = window.getComputedStyle(gd).display;\n",
              "        if (!display || display === 'none') {{\n",
              "            console.log([gd, 'removed!']);\n",
              "            Plotly.purge(gd);\n",
              "            observer.disconnect();\n",
              "        }}\n",
              "}});\n",
              "\n",
              "// Listen for the removal of the full notebook cells\n",
              "var notebookContainer = gd.closest('#notebook-container');\n",
              "if (notebookContainer) {{\n",
              "    x.observe(notebookContainer, {childList: true});\n",
              "}}\n",
              "\n",
              "// Listen for the clearing of the current output cell\n",
              "var outputEl = gd.closest('.output');\n",
              "if (outputEl) {{\n",
              "    x.observe(outputEl, {childList: true});\n",
              "}}\n",
              "\n",
              "                        })\n",
              "                };\n",
              "                \n",
              "            </script>\n",
              "        </div>\n",
              "</body>\n",
              "</html>"
            ]
          },
          "metadata": {
            "tags": []
          }
        }
      ]
    },
    {
      "cell_type": "code",
      "metadata": {
        "id": "exbAsk0afDTu"
      },
      "source": [
        "best : 3 , 2 : average ,7: less recency average, 8:much recency, less monetary,freq, 1: much recency,much less monetary bad than 8 and freq, 9: better than 1 , "
      ],
      "execution_count": null,
      "outputs": []
    },
    {
      "cell_type": "code",
      "metadata": {
        "colab": {
          "base_uri": "https://localhost:8080/",
          "height": 227
        },
        "id": "OyRx4XH8hfmv",
        "outputId": "0094b0f7-f374-4839-8dc1-9f1f1d2840f4"
      },
      "source": [
        "rfm.head()"
      ],
      "execution_count": null,
      "outputs": [
        {
          "output_type": "execute_result",
          "data": {
            "text/html": [
              "<div>\n",
              "<style scoped>\n",
              "    .dataframe tbody tr th:only-of-type {\n",
              "        vertical-align: middle;\n",
              "    }\n",
              "\n",
              "    .dataframe tbody tr th {\n",
              "        vertical-align: top;\n",
              "    }\n",
              "\n",
              "    .dataframe thead th {\n",
              "        text-align: right;\n",
              "    }\n",
              "</style>\n",
              "<table border=\"1\" class=\"dataframe\">\n",
              "  <thead>\n",
              "    <tr style=\"text-align: right;\">\n",
              "      <th></th>\n",
              "      <th>date</th>\n",
              "      <th>frequency</th>\n",
              "      <th>monetary_value</th>\n",
              "      <th>recency</th>\n",
              "      <th>recency_normalized</th>\n",
              "      <th>frequency_normalized</th>\n",
              "      <th>monetary_value_normalized</th>\n",
              "      <th>cluster</th>\n",
              "      <th>çluster</th>\n",
              "    </tr>\n",
              "    <tr>\n",
              "      <th>CustomerID</th>\n",
              "      <th></th>\n",
              "      <th></th>\n",
              "      <th></th>\n",
              "      <th></th>\n",
              "      <th></th>\n",
              "      <th></th>\n",
              "      <th></th>\n",
              "      <th></th>\n",
              "      <th></th>\n",
              "    </tr>\n",
              "  </thead>\n",
              "  <tbody>\n",
              "    <tr>\n",
              "      <th>12346.0</th>\n",
              "      <td>325</td>\n",
              "      <td>1</td>\n",
              "      <td>77183.60</td>\n",
              "      <td>325</td>\n",
              "      <td>49</td>\n",
              "      <td>1</td>\n",
              "      <td>50</td>\n",
              "      <td>6</td>\n",
              "      <td>Can't Lose Them</td>\n",
              "    </tr>\n",
              "    <tr>\n",
              "      <th>12347.0</th>\n",
              "      <td>2</td>\n",
              "      <td>182</td>\n",
              "      <td>4310.00</td>\n",
              "      <td>2</td>\n",
              "      <td>2</td>\n",
              "      <td>45</td>\n",
              "      <td>47</td>\n",
              "      <td>3</td>\n",
              "      <td>Champions</td>\n",
              "    </tr>\n",
              "    <tr>\n",
              "      <th>12348.0</th>\n",
              "      <td>75</td>\n",
              "      <td>31</td>\n",
              "      <td>1797.24</td>\n",
              "      <td>75</td>\n",
              "      <td>31</td>\n",
              "      <td>21</td>\n",
              "      <td>39</td>\n",
              "      <td>2</td>\n",
              "      <td>At Risk</td>\n",
              "    </tr>\n",
              "    <tr>\n",
              "      <th>12349.0</th>\n",
              "      <td>18</td>\n",
              "      <td>73</td>\n",
              "      <td>1757.55</td>\n",
              "      <td>18</td>\n",
              "      <td>13</td>\n",
              "      <td>34</td>\n",
              "      <td>39</td>\n",
              "      <td>7</td>\n",
              "      <td>Promising Customer</td>\n",
              "    </tr>\n",
              "    <tr>\n",
              "      <th>12350.0</th>\n",
              "      <td>310</td>\n",
              "      <td>17</td>\n",
              "      <td>334.40</td>\n",
              "      <td>310</td>\n",
              "      <td>48</td>\n",
              "      <td>13</td>\n",
              "      <td>15</td>\n",
              "      <td>8</td>\n",
              "      <td>About to Sleep</td>\n",
              "    </tr>\n",
              "  </tbody>\n",
              "</table>\n",
              "</div>"
            ],
            "text/plain": [
              "            date  frequency  ...  cluster             çluster\n",
              "CustomerID                   ...                             \n",
              "12346.0      325          1  ...        6     Can't Lose Them\n",
              "12347.0        2        182  ...        3           Champions\n",
              "12348.0       75         31  ...        2             At Risk\n",
              "12349.0       18         73  ...        7  Promising Customer\n",
              "12350.0      310         17  ...        8      About to Sleep\n",
              "\n",
              "[5 rows x 9 columns]"
            ]
          },
          "metadata": {
            "tags": []
          },
          "execution_count": 54
        }
      ]
    },
    {
      "cell_type": "code",
      "metadata": {
        "id": "CFrzZbh13Y7y"
      },
      "source": [
        ""
      ],
      "execution_count": null,
      "outputs": []
    },
    {
      "cell_type": "code",
      "metadata": {
        "colab": {
          "base_uri": "https://localhost:8080/"
        },
        "id": "aKL1PLbuhjqc",
        "outputId": "f49d8e29-f3b3-43be-cf1a-8772bde2f44f"
      },
      "source": [
        "print(\"Mean Monetary by segment: \",rfm.groupby(\"cluster\")[\"monetary_value\"].mean())\r\n",
        "print(\"Mean frequency by segment: \",rfm.groupby(\"cluster\")[\"frequency\"].mean())\r\n",
        "print(\"Recency by segment: \",rfm.groupby(\"cluster\")[\"recency\"].mean())"
      ],
      "execution_count": null,
      "outputs": [
        {
          "output_type": "stream",
          "text": [
            "Mean Monetary by segment:  cluster\n",
            "0    4162.834673\n",
            "1     140.414685\n",
            "2    1176.057006\n",
            "3    5882.527477\n",
            "4     528.138471\n",
            "5     310.667358\n",
            "6    1891.710428\n",
            "7    2638.872248\n",
            "8     269.336421\n",
            "9     531.269915\n",
            "Name: monetary_value, dtype: float64\n",
            "Mean frequency by segment:  cluster\n",
            "0     20.018692\n",
            "1      6.500000\n",
            "2     59.908082\n",
            "3    251.291080\n",
            "4    103.219008\n",
            "5     57.983740\n",
            "6      9.572193\n",
            "7    120.767692\n",
            "8     17.395626\n",
            "9     28.098876\n",
            "Name: frequency, dtype: float64\n",
            "Recency by segment:  cluster\n",
            "0     16.420561\n",
            "1    212.060924\n",
            "2     81.681458\n",
            "3      7.268779\n",
            "4     25.028926\n",
            "5    124.126016\n",
            "6    124.438503\n",
            "7     33.350769\n",
            "8    191.278330\n",
            "9    137.489888\n",
            "Name: recency, dtype: float64\n"
          ],
          "name": "stdout"
        }
      ]
    },
    {
      "cell_type": "markdown",
      "metadata": {
        "id": "yOGyidOciR7f"
      },
      "source": [
        "# Let's name the clusters: \r\n",
        "\r\n",
        "**3:** Champions, (They are the champions)\r\n",
        " \r\n",
        "**0:** Loyal customer, (Up-sell higher value products)\r\n",
        "\r\n",
        "**7:** Promising Customer (Recommend other products. Engage in loyalty programs.)\r\n",
        "\r\n",
        "**4:** Potential Loyalist (Up-sell lower value products)\r\n",
        "\r\n",
        "**2:** At Risk (Send personalised email or other messages to reconnect. Provide good offers and share valuable resources.)\r\n",
        "\r\n",
        "**6:** Can't lose them (Win them back. Talk to them. Make them special offers. Make them feel valuable)\r\n",
        "\r\n",
        "**9:** Needs Attention (Away from long time. Help them to get back)\r\n",
        "\r\n",
        "**5:** Needs Awareness (Create brand awareness and help them to get back)  \r\n",
        "\r\n",
        "**8:** About to Sleep (Reactivate them. Share valuable resources. Recommend popular products. Offer discounts.) \r\n",
        "\r\n",
        "**1:** Hibernating (they are losing, promote to get them back)\r\n",
        "\r\n",
        "\r\n"
      ]
    },
    {
      "cell_type": "code",
      "metadata": {
        "id": "ySQzYmlJvWji"
      },
      "source": [
        "rfm['cluster'] = rfm['cluster'].replace({3:\"Champions\",0:\"Loyal Customer\",7:\"Promising Customer\",4:\"Potential Customer\",2:\"At Risk\",6:\"Can't Lose Them\",9:\"Needs Attention\",5:\"Needs Awareness\",8:\"About to Sleep\",1:\"Hibernating\"})"
      ],
      "execution_count": null,
      "outputs": []
    },
    {
      "cell_type": "code",
      "metadata": {
        "colab": {
          "base_uri": "https://localhost:8080/",
          "height": 197
        },
        "id": "GFB64ehZ37Y_",
        "outputId": "7249cc5e-d73e-4002-a856-8c622e86336e"
      },
      "source": [
        "rfm.head()"
      ],
      "execution_count": null,
      "outputs": [
        {
          "output_type": "execute_result",
          "data": {
            "text/html": [
              "<div>\n",
              "<style scoped>\n",
              "    .dataframe tbody tr th:only-of-type {\n",
              "        vertical-align: middle;\n",
              "    }\n",
              "\n",
              "    .dataframe tbody tr th {\n",
              "        vertical-align: top;\n",
              "    }\n",
              "\n",
              "    .dataframe thead th {\n",
              "        text-align: right;\n",
              "    }\n",
              "</style>\n",
              "<table border=\"1\" class=\"dataframe\">\n",
              "  <thead>\n",
              "    <tr style=\"text-align: right;\">\n",
              "      <th></th>\n",
              "      <th>CustomerID</th>\n",
              "      <th>date</th>\n",
              "      <th>frequency</th>\n",
              "      <th>monetary_value</th>\n",
              "      <th>recency</th>\n",
              "      <th>recency_normalized</th>\n",
              "      <th>frequency_normalized</th>\n",
              "      <th>monetary_value_normalized</th>\n",
              "      <th>cluster</th>\n",
              "      <th>çluster</th>\n",
              "    </tr>\n",
              "  </thead>\n",
              "  <tbody>\n",
              "    <tr>\n",
              "      <th>0</th>\n",
              "      <td>12346.0</td>\n",
              "      <td>325</td>\n",
              "      <td>1</td>\n",
              "      <td>77183.60</td>\n",
              "      <td>325</td>\n",
              "      <td>49</td>\n",
              "      <td>1</td>\n",
              "      <td>50</td>\n",
              "      <td>Can't Lose Them</td>\n",
              "      <td>Can't Lose Them</td>\n",
              "    </tr>\n",
              "    <tr>\n",
              "      <th>1</th>\n",
              "      <td>12347.0</td>\n",
              "      <td>2</td>\n",
              "      <td>182</td>\n",
              "      <td>4310.00</td>\n",
              "      <td>2</td>\n",
              "      <td>2</td>\n",
              "      <td>45</td>\n",
              "      <td>47</td>\n",
              "      <td>Champions</td>\n",
              "      <td>Champions</td>\n",
              "    </tr>\n",
              "    <tr>\n",
              "      <th>2</th>\n",
              "      <td>12348.0</td>\n",
              "      <td>75</td>\n",
              "      <td>31</td>\n",
              "      <td>1797.24</td>\n",
              "      <td>75</td>\n",
              "      <td>31</td>\n",
              "      <td>21</td>\n",
              "      <td>39</td>\n",
              "      <td>At Risk</td>\n",
              "      <td>At Risk</td>\n",
              "    </tr>\n",
              "    <tr>\n",
              "      <th>3</th>\n",
              "      <td>12349.0</td>\n",
              "      <td>18</td>\n",
              "      <td>73</td>\n",
              "      <td>1757.55</td>\n",
              "      <td>18</td>\n",
              "      <td>13</td>\n",
              "      <td>34</td>\n",
              "      <td>39</td>\n",
              "      <td>Promising Customer</td>\n",
              "      <td>Promising Customer</td>\n",
              "    </tr>\n",
              "    <tr>\n",
              "      <th>4</th>\n",
              "      <td>12350.0</td>\n",
              "      <td>310</td>\n",
              "      <td>17</td>\n",
              "      <td>334.40</td>\n",
              "      <td>310</td>\n",
              "      <td>48</td>\n",
              "      <td>13</td>\n",
              "      <td>15</td>\n",
              "      <td>About to Sleep</td>\n",
              "      <td>About to Sleep</td>\n",
              "    </tr>\n",
              "  </tbody>\n",
              "</table>\n",
              "</div>"
            ],
            "text/plain": [
              "   CustomerID  date  ...             cluster             çluster\n",
              "0     12346.0   325  ...     Can't Lose Them     Can't Lose Them\n",
              "1     12347.0     2  ...           Champions           Champions\n",
              "2     12348.0    75  ...             At Risk             At Risk\n",
              "3     12349.0    18  ...  Promising Customer  Promising Customer\n",
              "4     12350.0   310  ...      About to Sleep      About to Sleep\n",
              "\n",
              "[5 rows x 10 columns]"
            ]
          },
          "metadata": {
            "tags": []
          },
          "execution_count": 64
        }
      ]
    },
    {
      "cell_type": "code",
      "metadata": {
        "id": "Tz37rVxP4Lcs"
      },
      "source": [
        "rfm.reset_index(inplace=True)"
      ],
      "execution_count": null,
      "outputs": []
    },
    {
      "cell_type": "code",
      "metadata": {
        "id": "r25QzR7Z4LrL"
      },
      "source": [
        "#drop irrelavant columns\r\n",
        "rfm.drop([\"date\",\"recency_normalized\",\"frequency_normalized\",\"monetary_value_normalized\"],axis=1,inplace=True)"
      ],
      "execution_count": null,
      "outputs": []
    },
    {
      "cell_type": "code",
      "metadata": {
        "id": "K85ECjY13aVT"
      },
      "source": [
        "rfm.to_csv(\"RFM_Clustered.csv\",index=False)"
      ],
      "execution_count": null,
      "outputs": []
    },
    {
      "cell_type": "code",
      "metadata": {
        "id": "QyR9tmh53ahh"
      },
      "source": [
        ""
      ],
      "execution_count": null,
      "outputs": []
    }
  ]
}